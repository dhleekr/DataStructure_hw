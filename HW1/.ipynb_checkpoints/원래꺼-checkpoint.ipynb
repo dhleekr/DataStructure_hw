{
 "cells": [
  {
   "cell_type": "markdown",
   "metadata": {},
   "source": [
    "> ### EEE2020-04: Data Structures & Algorithms\n",
    "\n",
    "# Assignment \\# I: Python & OOP"
   ]
  },
  {
   "cell_type": "markdown",
   "metadata": {},
   "source": [
    "<div style=\"text-align: right\"> **Due date: April 17, 2020.** </div> \n",
    "<div style=\"text-align: right\"> **Please upload your file @ yscec by 9 PM.** </div> \n",
    "<br>\n",
    "<div style=\"text-align: right\"> Donghyeon Baek(백동현): <a href=\"mailto:dh_baek@yonsei.ac.kr\">dh_baek@yonsei.ac.kr</a> \n",
    "<div style=\"text-align: right\"> Jaehyeon Moon(문재현): <a href=\"mailto:tw02137@yonsei.ac.kr\">tw02137@yonsei.ac.kr</a> </div>\n",
    "</div>"
   ]
  },
  {
   "cell_type": "markdown",
   "metadata": {},
   "source": [
    "-------------------------------"
   ]
  },
  {
   "cell_type": "markdown",
   "metadata": {},
   "source": [
    "\n",
    "### *Assignment Instructions:*\n",
    "1. Write a program implementing a particular algorithm to solve a given problem.\n",
    "2. You can use both Korean and Engligh for your report.\n",
    "3. Since this is your first assignment of the course, comprehensive instructions are given for particular problems.  \n",
    " However, note that this might not be the case for further assignments over the course.\n",
    "4. **Analyze the algorithm, theoretically and empirically, and write discussion.** \n",
    "5. **Report your results.**  \n",
    "    - You must do assignments and labs yourself. \n",
    "    - <span style=\"color:red\">**Do not copy any part of your friends’ code.**</span>\n",
    "    - Otherwise, you will get a F grade."
   ]
  },
  {
   "cell_type": "markdown",
   "metadata": {},
   "source": [
    "-----------------"
   ]
  },
  {
   "cell_type": "markdown",
   "metadata": {},
   "source": [
    "<h2><span style=\"color:blue\">[Insert your ID HERE] [Insert your name HERE]</span> </h2>"
   ]
  },
  {
   "cell_type": "code",
   "execution_count": 6,
   "metadata": {},
   "outputs": [
    {
     "name": "stdout",
     "output_type": "stream",
     "text": [
      "This code is written at 2020-02-14 11:56:26.651403\n"
     ]
    }
   ],
   "source": [
    "import datetime\n",
    "print(\"This code is written at \" + str(datetime.datetime.now()))"
   ]
  },
  {
   "cell_type": "markdown",
   "metadata": {},
   "source": [
    "-------------------------------"
   ]
  },
  {
   "cell_type": "markdown",
   "metadata": {},
   "source": [
    "### \\# PROBLEM I (15 POINTS)"
   ]
  },
  {
   "cell_type": "markdown",
   "metadata": {},
   "source": [
    "> Write a python script to replace each number in the list given below with its sine values. \n",
    ">\n",
    "> list: [0, $\\frac{1}{4}\\pi$, $\\frac{1}{2}\\pi$, $\\frac{3}{4}\\pi$, $\\pi$]\n",
    ">\n",
    ">>A simple description of given skeleton codes\n",
    ">>- First, $\\textit{import math}$ module to use a value of $\\pi$ in $\\textit{math}$ module\n",
    ">>- The list, which we want to replace each number, is given by a variable ($\\textit{numbers}$).\n",
    ">>- You should add into the new empty list ($\\textit{sine_numbers}$) with sine values of each $\\textit{numbers}$ elements"
   ]
  },
  {
   "cell_type": "markdown",
   "metadata": {},
   "source": [
    "#### ANSWER 1: Use $\\texttt{while}$ loop."
   ]
  },
  {
   "cell_type": "markdown",
   "metadata": {},
   "source": [
    "##### Details to do\n",
    ">- Use a $\\textit{while}$ loop to replace the numbers.\n",
    ">- Using $\\textit{math.sin}$ function is recommanded to get a sine value of the number.\n",
    ">- $\\textit{Append}$ method will help you to add a new item of list.\n",
    ">- Keep in mind that the index of list starts with zero."
   ]
  },
  {
   "cell_type": "code",
   "execution_count": 30,
   "metadata": {},
   "outputs": [],
   "source": [
    "import math"
   ]
  },
  {
   "cell_type": "code",
   "execution_count": 52,
   "metadata": {},
   "outputs": [],
   "source": [
    "numbers = [0, math.pi/4, math.pi/2, math.pi*3/4, math.pi]\n",
    "sine_numbers = []"
   ]
  },
  {
   "cell_type": "code",
   "execution_count": 53,
   "metadata": {},
   "outputs": [],
   "source": [
    "# CODE HERE"
   ]
  },
  {
   "cell_type": "code",
   "execution_count": 54,
   "metadata": {},
   "outputs": [
    {
     "name": "stdout",
     "output_type": "stream",
     "text": [
      "sine nubmer list: [0.0, 0.7071067811865475, 1.0, 0.7071067811865476, 1.2246467991473532e-16]\n"
     ]
    }
   ],
   "source": [
    "print('sine nubmer list:', sine_numbers)"
   ]
  },
  {
   "cell_type": "markdown",
   "metadata": {},
   "source": [
    "### Describe your answer: "
   ]
  },
  {
   "cell_type": "markdown",
   "metadata": {},
   "source": [
    "Description Here"
   ]
  },
  {
   "cell_type": "markdown",
   "metadata": {},
   "source": [
    "#### ANSWER 2: Use $\\texttt{for}$ loop."
   ]
  },
  {
   "cell_type": "markdown",
   "metadata": {},
   "source": [
    "##### Details to do\n",
    ">- Use a $\\textit{for}$ loop to replace the numbers.\n",
    ">- Using $\\textit{math.sin}$ function is recommanded to get a sine value of the number.\n",
    ">- $\\textit{Append}$ method will help you to add a new item of list.\n",
    ">- Keep in mind that the index of list starts with zero."
   ]
  },
  {
   "cell_type": "code",
   "execution_count": 61,
   "metadata": {},
   "outputs": [],
   "source": [
    "import math"
   ]
  },
  {
   "cell_type": "code",
   "execution_count": 62,
   "metadata": {},
   "outputs": [],
   "source": [
    "numbers = [0, math.pi/4, math.pi/2, math.pi*3/4, math.pi]\n",
    "sine_numbers = []"
   ]
  },
  {
   "cell_type": "code",
   "execution_count": 63,
   "metadata": {},
   "outputs": [],
   "source": [
    "# CODE HERE"
   ]
  },
  {
   "cell_type": "code",
   "execution_count": 64,
   "metadata": {},
   "outputs": [
    {
     "name": "stdout",
     "output_type": "stream",
     "text": [
      "sine nubmer list: [0.0, 0.7071067811865475, 1.0, 0.7071067811865476, 1.2246467991473532e-16]\n"
     ]
    }
   ],
   "source": [
    "print('sine nubmer list:', sine_numbers)"
   ]
  },
  {
   "cell_type": "markdown",
   "metadata": {},
   "source": [
    "### Describe your answer: "
   ]
  },
  {
   "cell_type": "markdown",
   "metadata": {},
   "source": [
    "Description Here"
   ]
  },
  {
   "cell_type": "markdown",
   "metadata": {},
   "source": [
    "#### ANSWER 3: Use list comprehension."
   ]
  },
  {
   "cell_type": "markdown",
   "metadata": {},
   "source": [
    "###### Details to do\n",
    ">- Use $\\textit{List Comprehensions}$ loop to replace the numbers.\n",
    ">- Using $\\textit{math.sin}$ function is recommended to get a sine value of the number.\n",
    ">- Please try to answer this quesetion in a single line code(Not Essential but Highly Recommended)"
   ]
  },
  {
   "cell_type": "code",
   "execution_count": 65,
   "metadata": {},
   "outputs": [],
   "source": [
    "import math"
   ]
  },
  {
   "cell_type": "code",
   "execution_count": 66,
   "metadata": {},
   "outputs": [],
   "source": [
    "numbers = [0, math.pi/4, math.pi/2, math.pi*3/4, math.pi]"
   ]
  },
  {
   "cell_type": "code",
   "execution_count": 67,
   "metadata": {},
   "outputs": [],
   "source": [
    "# CODE HERE"
   ]
  },
  {
   "cell_type": "code",
   "execution_count": 68,
   "metadata": {},
   "outputs": [
    {
     "name": "stdout",
     "output_type": "stream",
     "text": [
      "sine nubmer list: [0.0, 0.7071067811865475, 1.0, 0.7071067811865476, 1.2246467991473532e-16]\n"
     ]
    }
   ],
   "source": [
    "print('sine nubmer list:', sine_numbers)"
   ]
  },
  {
   "cell_type": "markdown",
   "metadata": {},
   "source": [
    "### Describe your answer: "
   ]
  },
  {
   "cell_type": "markdown",
   "metadata": {},
   "source": [
    "Description Here"
   ]
  },
  {
   "cell_type": "markdown",
   "metadata": {},
   "source": [
    "-------------------------------"
   ]
  },
  {
   "cell_type": "markdown",
   "metadata": {},
   "source": [
    "### \\# PROBLEM II (5 POINTS)"
   ]
  },
  {
   "cell_type": "markdown",
   "metadata": {},
   "source": [
    "> Write a python script to determine a key which has the maximum value in a dictionary\n",
    ">\n",
    ">>- $\\texttt{max()}$ function will help you to find the maximum value of $\\texttt{dict_values}$ object"
   ]
  },
  {
   "cell_type": "markdown",
   "metadata": {},
   "source": [
    "#### ANSWER"
   ]
  },
  {
   "cell_type": "code",
   "execution_count": 1,
   "metadata": {},
   "outputs": [],
   "source": [
    "dic = {'apple' : 5, 'banana' : 11, 'grape' : 6, 'peach' : 1, 'watermelon' : 2 }"
   ]
  },
  {
   "cell_type": "code",
   "execution_count": 2,
   "metadata": {},
   "outputs": [],
   "source": [
    "# CODE HERE"
   ]
  },
  {
   "cell_type": "code",
   "execution_count": 48,
   "metadata": {},
   "outputs": [
    {
     "name": "stdout",
     "output_type": "stream",
     "text": [
      "banana\n"
     ]
    }
   ],
   "source": [
    "print(max_key)"
   ]
  },
  {
   "cell_type": "markdown",
   "metadata": {},
   "source": [
    "### Describe your answer: "
   ]
  },
  {
   "cell_type": "markdown",
   "metadata": {},
   "source": [
    "Description Here"
   ]
  },
  {
   "cell_type": "markdown",
   "metadata": {},
   "source": [
    "-------------------------------"
   ]
  },
  {
   "cell_type": "markdown",
   "metadata": {},
   "source": [
    "### \\# PROBLEM III (35 POINTS)"
   ]
  },
  {
   "cell_type": "markdown",
   "metadata": {},
   "source": [
    "> Write a python script to find top 5 major keywords given sentences.\n",
    ">\n",
    "> Keywords satisfy the following conditions.\n",
    ">>##### Conditions\n",
    ">>- Keywords should be written in lowercase letters.\n",
    ">>- Punctuation marks at beginning or end of the word should be removed. Refer the list ($\\texttt{punctuation_marks}$). <br> \n",
    "[Hint: Apply $\\texttt{.strip([char])}$ method to the string with loop to remove them]\n",
    ">>- Common words should be excluded. Refer the list ($\\texttt{common_words}$).\n",
    ">>- You can use provided $\\texttt{sort_dictionary(dic)}$ function in order to sort the dictionary in a descending order with values.\n",
    ">>\n",
    ">> ##### Details to do\n",
    ">>- STEP 1.  Convert capital letters to small letters in data<br> \n",
    ">>- STEP 2.  Make a list whose elements are words in the string variable($\\textit{data}$)<br> \n",
    ">>- STEP 3.   Remove the \"punctuation marks\" in words. The punctuation marks are given by $\\textit{punctuation_marks}$<br>\n",
    ">>- STEP 4.   Make a dictionary whose keys and values are words and the number of word counts respectively<br>\n",
    ">>- STEP 5.   Delete \"common words\" in dictionary. The common words are given by $\\textit{common_words}$<br>\n",
    ">>- STEP 6.   Sort dictionary in descending order of the words counts.<br>\n",
    "[Hint: Use given $\\textit{sort_dictionary}$ fucntion to sort dictionary]\n",
    ">>- STEP 7.   Print top 5 keywords and its count<br>"
   ]
  },
  {
   "cell_type": "code",
   "execution_count": 1,
   "metadata": {},
   "outputs": [],
   "source": [
    "data = \"\"\"\n",
    "Now, the color of the cloud in the sky is tropical, yeah. Red color of the sun is like your cheek. Oh tell me I'm the only one, babe. I fancy you, I fancy you, fancy you (TWICE) It's dangerous it pricks, you are like a rose. It's okay, I am not afraid at all. Hold it harder, take my hand. It will be a little dangerous, even more dangerous baby\n",
    "Like sweet chocolate ice-cream. My feelings melting now, so lovely. Shining most brightly in the dark universe. The star, the star, and your big star next to it You there, I fancy you. I don't want just anyone. Hey, I love you (Love ya). Yes, you, I fancy you. You can be happy like a dream. 'Cause I need you (What)\n",
    "Fancy you, ooh. What if someone likes it first. Fancy you, ooh. I will come to you now\n",
    "\"\"\"\n",
    "\n",
    "punctuation_marks = ['\"','.',',','(',')',';']\n",
    "\n",
    "common_words = ['a', 'about', 'above', 'after', 'again', 'against', 'all', 'am', 'an', 'and', 'any', 'are', \"aren't\", 'as', 'at', 'be', \n",
    "              'because', 'been', 'before', 'being', 'below', 'between', 'both', 'but', 'by', \"can't\", 'cannot', 'could', \"couldn't\", \n",
    "              'did', \"didn't\", 'do', 'does', \"doesn't\", 'doing', \"don't\", 'down', 'during', 'each', 'few', 'for', 'from', 'further', \n",
    "              'had', \"hadn't\", 'has', \"hasn't\", 'have', \"haven't\", 'having', 'he', \"he'd\", \"he'll\", \"he's\", 'her', 'here', \"here's\", \n",
    "              'hers', 'herself', 'him', 'himself', 'his', 'how', \"how's\", 'i', \"i'd\", \"i'll\", \"i'm\", \"i've\", 'if', 'in', 'into', 'is', \n",
    "              \"isn't\", 'it', \"it's\", 'its', 'itself', \"let's\", 'me', 'more', 'most', \"mustn't\", 'my', 'myself', 'no', 'nor', 'not', 'of', \n",
    "              'off', 'on', 'once', 'only', 'or', 'other', 'ought', 'our', 'ours\\tourselves', 'out', 'over', 'own', 'same', \"shan't\", 'she', \n",
    "              \"she'd\", \"she'll\", \"she's\", 'should', \"shouldn't\", 'so', 'some', 'such', 'than', 'that', \"that's\", 'the', 'their', 'theirs', \n",
    "              'them', 'themselves', 'then', 'there', \"there's\", 'these', 'they', \"they'd\", \"they'll\", \"they're\", \"they've\", 'this', 'those', \n",
    "              'through', 'to', 'too', 'under', 'until', 'up', 'very', 'was', \"wasn't\", 'we', \"we'd\", \"we'll\", \"we're\", \"we've\", 'were', \n",
    "              \"weren't\", 'what', \"what's\", 'when', \"when's\", 'where', \"where's\", 'which', 'while', 'who', \"who's\", 'whom', 'why', \"why's\",\n",
    "              'with', \"won't\", 'would', \"wouldn't\", 'you', \"you'd\", \"you'll\", \"you're\", \"you've\", 'your', 'yours', 'yourself', 'yourselves']"
   ]
  },
  {
   "cell_type": "code",
   "execution_count": 10,
   "metadata": {},
   "outputs": [
    {
     "name": "stdout",
     "output_type": "stream",
     "text": [
      "\n",
      "Now, the color of the cloud in the sky is tropical, yeah. Red color of the sun is like your cheek. Oh tell me I'm the only one, babe. I fancy you, I fancy you, fancy you (TWICE) It's dangerous it pricks, you are like a rose. It's okay, I am not afraid at all. Hold it harder, take my hand. It will be a little dangerous, even more dangerous baby\n",
      "Like sweet chocolate ice-cream. My feelings melting now, so lovely. Shining most brightly in the dark universe. The star, the star, and your big star next to it You there, I fancy you. I don't want just anyone. Hey, I love you (Love ya). Yes, you, I fancy you. You can be happy like a dream. 'Cause I need you (What)\n",
      "Fancy you, ooh. What if someone likes it first. Fancy you, ooh. I will come to you now\n",
      "\n"
     ]
    }
   ],
   "source": [
    "print(data)"
   ]
  },
  {
   "cell_type": "code",
   "execution_count": 5,
   "metadata": {},
   "outputs": [],
   "source": [
    "from collections import OrderedDict\n",
    "\n",
    "def sort_dictionary(dic):\n",
    "    return OrderedDict(sorted(dic.items(), key=lambda x: x[1], reverse = True))"
   ]
  },
  {
   "cell_type": "code",
   "execution_count": 6,
   "metadata": {},
   "outputs": [
    {
     "name": "stdout",
     "output_type": "stream",
     "text": [
      "\n",
      "now, the color of the cloud in the sky is tropical, yeah. red color of the sun is like your cheek. oh tell me i'm the only one, babe. i fancy you, i fancy you, fancy you (twice) it's dangerous it pricks, you are like a rose. it's okay, i am not afraid at all. hold it harder, take my hand. it will be a little dangerous, even more dangerous baby\n",
      "like sweet chocolate ice-cream. my feelings melting now, so lovely. shining most brightly in the dark universe. the star, the star, and your big star next to it you there, i fancy you. i don't want just anyone. hey, i love you (love ya). yes, you, i fancy you. you can be happy like a dream. 'cause i need you (what)\n",
      "fancy you, ooh. what if someone likes it first. fancy you, ooh. i will come to you now\n",
      "\n"
     ]
    }
   ],
   "source": [
    "# Step 1. Convert capital letters to small letters in data\n",
    "'''\n",
    "**NOTE**\n",
    "You don't have to print out the intermediate process like below. It is just a hint to give you\n",
    "'''\n",
    "# CODE HERE"
   ]
  },
  {
   "cell_type": "code",
   "execution_count": 7,
   "metadata": {},
   "outputs": [
    {
     "name": "stdout",
     "output_type": "stream",
     "text": [
      "['now,', 'the', 'color', 'of', 'the', 'cloud', 'in', 'the', 'sky', 'is', 'tropical,', 'yeah.', 'red', 'color', 'of', 'the', 'sun', 'is', 'like', 'your', 'cheek.', 'oh', 'tell', 'me', \"i'm\", 'the', 'only', 'one,', 'babe.', 'i', 'fancy', 'you,', 'i', 'fancy', 'you,', 'fancy', 'you', '(twice)', \"it's\", 'dangerous', 'it', 'pricks,', 'you', 'are', 'like', 'a', 'rose.', \"it's\", 'okay,', 'i', 'am', 'not', 'afraid', 'at', 'all.', 'hold', 'it', 'harder,', 'take', 'my', 'hand.', 'it', 'will', 'be', 'a', 'little', 'dangerous,', 'even', 'more', 'dangerous', 'baby', 'like', 'sweet', 'chocolate', 'ice-cream.', 'my', 'feelings', 'melting', 'now,', 'so', 'lovely.', 'shining', 'most', 'brightly', 'in', 'the', 'dark', 'universe.', 'the', 'star,', 'the', 'star,', 'and', 'your', 'big', 'star', 'next', 'to', 'it', 'you', 'there,', 'i', 'fancy', 'you.', 'i', \"don't\", 'want', 'just', 'anyone.', 'hey,', 'i', 'love', 'you', '(love', 'ya).', 'yes,', 'you,', 'i', 'fancy', 'you.', 'you', 'can', 'be', 'happy', 'like', 'a', 'dream.', \"'cause\", 'i', 'need', 'you', '(what)', 'fancy', 'you,', 'ooh.', 'what', 'if', 'someone', 'likes', 'it', 'first.', 'fancy', 'you,', 'ooh.', 'i', 'will', 'come', 'to', 'you', 'now']\n"
     ]
    }
   ],
   "source": [
    "# Step 2. Make a list whose elements are words\n",
    "'''\n",
    "**NOTE**\n",
    "You don't have to print out the intermediate process like below. It is just a hint to give you\n",
    "'''\n",
    "# CODE HERE"
   ]
  },
  {
   "cell_type": "code",
   "execution_count": 8,
   "metadata": {},
   "outputs": [
    {
     "name": "stdout",
     "output_type": "stream",
     "text": [
      "['now', 'the', 'color', 'of', 'the', 'cloud', 'in', 'the', 'sky', 'is', 'tropical', 'yeah', 'red', 'color', 'of', 'the', 'sun', 'is', 'like', 'your', 'cheek', 'oh', 'tell', 'me', \"i'm\", 'the', 'only', 'one', 'babe', 'i', 'fancy', 'you', 'i', 'fancy', 'you', 'fancy', 'you', 'twice', \"it's\", 'dangerous', 'it', 'pricks', 'you', 'are', 'like', 'a', 'rose', \"it's\", 'okay', 'i', 'am', 'not', 'afraid', 'at', 'all', 'hold', 'it', 'harder', 'take', 'my', 'hand', 'it', 'will', 'be', 'a', 'little', 'dangerous', 'even', 'more', 'dangerous', 'baby', 'like', 'sweet', 'chocolate', 'ice-cream', 'my', 'feelings', 'melting', 'now', 'so', 'lovely', 'shining', 'most', 'brightly', 'in', 'the', 'dark', 'universe', 'the', 'star', 'the', 'star', 'and', 'your', 'big', 'star', 'next', 'to', 'it', 'you', 'there', 'i', 'fancy', 'you', 'i', \"don't\", 'want', 'just', 'anyone', 'hey', 'i', 'love', 'you', 'love', 'ya', 'yes', 'you', 'i', 'fancy', 'you', 'you', 'can', 'be', 'happy', 'like', 'a', 'dream', \"'cause\", 'i', 'need', 'you', 'what', 'fancy', 'you', 'ooh', 'what', 'if', 'someone', 'likes', 'it', 'first', 'fancy', 'you', 'ooh', 'i', 'will', 'come', 'to', 'you', 'now']\n"
     ]
    }
   ],
   "source": [
    "# Step 3. Remove the punctuation marks in words. e.g.) \"love\" -> love\n",
    "'''\n",
    "**NOTE**\n",
    "You don't have to print out the intermediate process like below. It is just a hint to give you\n",
    "'''\n",
    "# CODE HERE"
   ]
  },
  {
   "cell_type": "code",
   "execution_count": 9,
   "metadata": {},
   "outputs": [
    {
     "name": "stdout",
     "output_type": "stream",
     "text": [
      "{'now': 3, 'the': 8, 'color': 2, 'of': 2, 'cloud': 1, 'in': 2, 'sky': 1, 'is': 2, 'tropical': 1, 'yeah': 1, 'red': 1, 'sun': 1, 'like': 4, 'your': 2, 'cheek': 1, 'oh': 1, 'tell': 1, 'me': 1, \"i'm\": 1, 'only': 1, 'one': 1, 'babe': 1, 'i': 9, 'fancy': 7, 'you': 14, 'twice': 1, \"it's\": 2, 'dangerous': 3, 'it': 5, 'pricks': 1, 'are': 1, 'a': 3, 'rose': 1, 'okay': 1, 'am': 1, 'not': 1, 'afraid': 1, 'at': 1, 'all': 1, 'hold': 1, 'harder': 1, 'take': 1, 'my': 2, 'hand': 1, 'will': 2, 'be': 2, 'little': 1, 'even': 1, 'more': 1, 'baby': 1, 'sweet': 1, 'chocolate': 1, 'ice-cream': 1, 'feelings': 1, 'melting': 1, 'so': 1, 'lovely': 1, 'shining': 1, 'most': 1, 'brightly': 1, 'dark': 1, 'universe': 1, 'star': 3, 'and': 1, 'big': 1, 'next': 1, 'to': 2, 'there': 1, \"don't\": 1, 'want': 1, 'just': 1, 'anyone': 1, 'hey': 1, 'love': 2, 'ya': 1, 'yes': 1, 'can': 1, 'happy': 1, 'dream': 1, \"'cause\": 1, 'need': 1, 'what': 2, 'ooh': 2, 'if': 1, 'someone': 1, 'likes': 1, 'first': 1, 'come': 1}\n"
     ]
    }
   ],
   "source": [
    "# Step 4. Make a dictionary whose keys are words and values are word counts\n",
    "'''\n",
    "**NOTE**\n",
    "You don't have to print out the intermediate process like below. It is just a hint to give you\n",
    "'''\n",
    "# CODE HERE"
   ]
  },
  {
   "cell_type": "code",
   "execution_count": 10,
   "metadata": {},
   "outputs": [
    {
     "name": "stdout",
     "output_type": "stream",
     "text": [
      "{'now': 3, 'color': 2, 'cloud': 1, 'sky': 1, 'tropical': 1, 'yeah': 1, 'red': 1, 'sun': 1, 'like': 4, 'cheek': 1, 'oh': 1, 'tell': 1, 'one': 1, 'babe': 1, 'fancy': 7, 'twice': 1, 'dangerous': 3, 'pricks': 1, 'rose': 1, 'okay': 1, 'afraid': 1, 'hold': 1, 'harder': 1, 'take': 1, 'hand': 1, 'will': 2, 'little': 1, 'even': 1, 'baby': 1, 'sweet': 1, 'chocolate': 1, 'ice-cream': 1, 'feelings': 1, 'melting': 1, 'lovely': 1, 'shining': 1, 'brightly': 1, 'dark': 1, 'universe': 1, 'star': 3, 'big': 1, 'next': 1, 'want': 1, 'just': 1, 'anyone': 1, 'hey': 1, 'love': 2, 'ya': 1, 'yes': 1, 'can': 1, 'happy': 1, 'dream': 1, \"'cause\": 1, 'need': 1, 'ooh': 2, 'someone': 1, 'likes': 1, 'first': 1, 'come': 1}\n"
     ]
    }
   ],
   "source": [
    "# Step 5. Delete \"common words\" in dictionary\n",
    "'''\n",
    "**NOTE**\n",
    "You don't have to print out the intermediate process like below. It is just a hint to give you\n",
    "'''\n",
    "# CODE HERE"
   ]
  },
  {
   "cell_type": "code",
   "execution_count": 11,
   "metadata": {},
   "outputs": [
    {
     "name": "stdout",
     "output_type": "stream",
     "text": [
      "OrderedDict([('fancy', 7), ('like', 4), ('now', 3), ('dangerous', 3), ('star', 3), ('color', 2), ('will', 2), ('love', 2), ('ooh', 2), ('cloud', 1), ('sky', 1), ('tropical', 1), ('yeah', 1), ('red', 1), ('sun', 1), ('cheek', 1), ('oh', 1), ('tell', 1), ('one', 1), ('babe', 1), ('twice', 1), ('pricks', 1), ('rose', 1), ('okay', 1), ('afraid', 1), ('hold', 1), ('harder', 1), ('take', 1), ('hand', 1), ('little', 1), ('even', 1), ('baby', 1), ('sweet', 1), ('chocolate', 1), ('ice-cream', 1), ('feelings', 1), ('melting', 1), ('lovely', 1), ('shining', 1), ('brightly', 1), ('dark', 1), ('universe', 1), ('big', 1), ('next', 1), ('want', 1), ('just', 1), ('anyone', 1), ('hey', 1), ('ya', 1), ('yes', 1), ('can', 1), ('happy', 1), ('dream', 1), (\"'cause\", 1), ('need', 1), ('someone', 1), ('likes', 1), ('first', 1), ('come', 1)])\n"
     ]
    }
   ],
   "source": [
    "# Step 6. Sort dictionary in descending order\n",
    "'''\n",
    "**NOTE**\n",
    "You don't have to print out the intermediate process like below. It is just a hint to give you\n",
    "'''\n",
    "# CODE HERE"
   ]
  },
  {
   "cell_type": "code",
   "execution_count": 12,
   "metadata": {},
   "outputs": [
    {
     "name": "stdout",
     "output_type": "stream",
     "text": [
      "fancy 7\n",
      "like 4\n",
      "now 3\n",
      "dangerous 3\n",
      "star 3\n"
     ]
    }
   ],
   "source": [
    "# Step 7. Print top 5 keywords and its count\n",
    "'''\n",
    "***NOTE***\n",
    "You SHOULD PRINT OUT the result and it should be the same as below\n",
    "'''\n",
    "# CODE HERE"
   ]
  },
  {
   "cell_type": "markdown",
   "metadata": {},
   "source": [
    "### Describe your answer: "
   ]
  },
  {
   "cell_type": "markdown",
   "metadata": {},
   "source": [
    "Description Here"
   ]
  },
  {
   "cell_type": "markdown",
   "metadata": {},
   "source": [
    "-------------------------------"
   ]
  },
  {
   "cell_type": "markdown",
   "metadata": {},
   "source": [
    "### \\# PROBLEM IV (45 POINTS)"
   ]
  },
  {
   "cell_type": "markdown",
   "metadata": {},
   "source": [
    "Complete $\\texttt{Color}$ class below and run some test codes to check that your output is appropriate.\n",
    "\n",
    "> ##### To do\n",
    "> 1. Complete the $\\texttt{change2binary}$ function\n",
    "> 2. Implement addition operator using \\_\\_$\\texttt{add}$\\_\\_ method\n",
    "> 3. Implement comparision operators using \\_\\_$\\texttt{le}$\\_\\_, \\_\\_$\\texttt{lt}$\\_\\_, \\_\\_$\\texttt{eq}$\\_\\_ methods\n"
   ]
  },
  {
   "cell_type": "markdown",
   "metadata": {},
   "source": [
    ">![Three Primary Color RGB Model](https://8b474631b5f90854d5d5-29274c1ddc54cee4fa6f1b98374e5715.ssl.cf1.rackcdn.com/rgb-colors.jpeg)\n",
    "> Three secondary colors(Yellow, Magenta, Cyan) and one tertiary color(White) made from all three primary colors(Red, Green, Blue)."
   ]
  },
  {
   "cell_type": "markdown",
   "metadata": {},
   "source": [
    "<b>1. $\\textit{change2binary}$ function</b>\n",
    "> The $\\textit{change2binary}$ function takes an instance of $\\textit{Color}$ class as input and returns the binary representation(type: list) of index. You can get the index of color from $\\textit{Color.color_list}$.\n",
    "\n",
    "<b>2. Operator Overloading</b>\n",
    "> - You only need to overload an addition operator. The addition between colors is followed by the diagram.\n",
    "> - i.e. RED + GREEN = YELLO, BLUE + MAGENTA = MAGENTA, WHITE + CYAN = WHITE\n",
    "\n",
    "<b>3. Comparision Operator Overloading</b>\n",
    "> - You need to overload three comaparision operators. The rules follows:\n",
    ">> - Three primary colors(Red, Green, Blue) have same level.\n",
    ">> - Three secondary colors(Yellow, Magenta, Cyan) have same level.\n",
    ">> - Three secondary colors are greater than three primary colors.\n",
    ">> - One tertiary color(White) is greatest."
   ]
  },
  {
   "cell_type": "code",
   "execution_count": 5,
   "metadata": {},
   "outputs": [],
   "source": [
    "class Color:\n",
    "    def __init__(self, color):\n",
    "        self.color_list = ['BLACK', 'BLUE', 'GREEN', 'CYAN', 'RED',\n",
    "                           'MAGENTA', 'YELLOW', 'WHITE']\n",
    "        self.color = color\n",
    "        \n",
    "    def __str__(self):\n",
    "        # CODE HERE\n",
    "    \n",
    "    def __add__(self, other_root):\n",
    "        # CODE HERE\n",
    "        # Hint: Think bitwise operations\n",
    "\n",
    "    def __eq__(self, other_root):\n",
    "        # CODE HERE\n",
    "        # Hint: Use \"change2binary\" function\n",
    "        \n",
    "    def __lt__(self, other_root):\n",
    "        # CODE HERE\n",
    "        # Hint: Use \"change2binary\" function\n",
    "    \n",
    "    def __le__(self, other_root):\n",
    "        # CODE HERE\n",
    "        # Hint: Use \"change2binary\" function\n",
    "        \n",
    "    \n",
    "    def change2binary(self):\n",
    "        '''\n",
    "        Arguments:\n",
    "            out (list): binary representation of color index from the \"self.color_list\" list.\n",
    "            i.e. BLACK => [0], CYAN => [1,1], WHITE => [1,1,1], YELLOW => [1,0,1]\n",
    "        '''\n",
    "        # CODE HERE"
   ]
  },
  {
   "cell_type": "code",
   "execution_count": 7,
   "metadata": {},
   "outputs": [
    {
     "name": "stdout",
     "output_type": "stream",
     "text": [
      "1. Print the name of color\n",
      "\t BLUE WHITE CYAN\n",
      "2. Get binary representation of color index\n",
      "\tMAGENTA\t:  [1, 0, 1] \n",
      "\tBLUE\t:  [1] \n",
      "\tYELLOW\t:  [1, 1, 0]\n",
      "\n",
      "3. Check the addition relationship between colors\n",
      "\t GREEN + BLUE\t=  CYAN \n",
      "\t RED + BLUE\t=  MAGENTA \n",
      "\t GREEN + YELLOW\t=  YELLOW \n",
      "\t YELLOW + BLUE\t=  WHITE \n",
      "\t MAGENTA + CYAN\t=  WHITE\n",
      "\n",
      "4. Level Relationship\n",
      "\tRED == BLUE \t\t True \n",
      "\tMAGENTA == CYAN \t True \n",
      "\tWHITE != MAGENTA \t True \n",
      "\tBLUE != RED \t\t False\n",
      "\n",
      "\\MAGENTA > BLUE \t\t True \n",
      "\tBLUE >= RED \t\t True \n",
      "\tWHITE < BLUE \t\t False \n",
      "\tCYAN <= YELLOW \t\t True\n"
     ]
    }
   ],
   "source": [
    "print('1. Print the name of color')\n",
    "print('\\t', Color('BLUE'), Color('WHITE'), Color('CYAN'))\n",
    "\n",
    "print('2. Get binary representation of color index')\n",
    "print('\\tMAGENTA\\t: ', Color('MAGENTA').change2binary(),\n",
    "      '\\n\\tBLUE\\t: ', Color('BLUE').change2binary(),\n",
    "      '\\n\\tYELLOW\\t: ', Color('YELLOW').change2binary())\n",
    "\n",
    "print('\\n3. Check the addition relationship between colors')\n",
    "print('\\t', 'GREEN + BLUE\\t= ', Color('GREEN')+Color('BLUE'),\n",
    "      '\\n\\t', 'RED + BLUE\\t= ', Color('RED')+Color('BLUE'),\n",
    "      '\\n\\t', 'GREEN + YELLOW\\t= ', Color('GREEN')+Color('YELLOW'),\n",
    "      '\\n\\t', 'YELLOW + BLUE\\t= ', Color('YELLOW')+Color('BLUE'),\n",
    "      '\\n\\t', 'MAGENTA + CYAN\\t= ', Color('MAGENTA')+Color('CYAN'))\n",
    "\n",
    "\n",
    "print(\"\\n4. Level Relationship\")\n",
    "print('\\tRED == BLUE \\t\\t', Color('RED')==Color('BLUE'),\n",
    "      '\\n\\tMAGENTA == CYAN \\t', Color('MAGENTA')==Color('CYAN'),\n",
    "      '\\n\\tWHITE != MAGENTA \\t', Color('WHITE')!=Color('MAGENTA'),\n",
    "      '\\n\\tBLUE != RED \\t\\t', Color('BLUE')!=Color('RED'))\n",
    "\n",
    "print('\\n\\MAGENTA > BLUE \\t\\t', Color('MAGENTA')>Color('BLUE'),\n",
    "      '\\n\\tBLUE >= RED \\t\\t', Color('BLUE')>=Color('RED'),\n",
    "      '\\n\\tWHITE < BLUE \\t\\t', Color('WHITE')<Color('BLUE'),\n",
    "      '\\n\\tCYAN <= YELLOW \\t\\t', Color('CYAN')<=Color('YELLOW'))"
   ]
  },
  {
   "cell_type": "markdown",
   "metadata": {},
   "source": [
    "### Describe your answer: "
   ]
  },
  {
   "cell_type": "markdown",
   "metadata": {},
   "source": [
    "Description Here"
   ]
  }
 ],
 "metadata": {
  "anaconda-cloud": {},
  "kernelspec": {
   "display_name": "Python 3",
   "language": "python",
   "name": "python3"
  },
  "language_info": {
   "codemirror_mode": {
    "name": "ipython",
    "version": 3
   },
   "file_extension": ".py",
   "mimetype": "text/x-python",
   "name": "python",
   "nbconvert_exporter": "python",
   "pygments_lexer": "ipython3",
   "version": "3.7.4"
  }
 },
 "nbformat": 4,
 "nbformat_minor": 1
}
