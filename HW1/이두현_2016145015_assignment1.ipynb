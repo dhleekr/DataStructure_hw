{
 "cells": [
  {
   "cell_type": "markdown",
   "metadata": {},
   "source": [
    "> ### EEE2020-04: Data Structures & Algorithms\n",
    "\n",
    "# Assignment \\# I: Python & OOP"
   ]
  },
  {
   "cell_type": "markdown",
   "metadata": {},
   "source": [
    "<div style=\"text-align: right\"> **Due date: April 17, 2020.** </div> \n",
    "<div style=\"text-align: right\"> **Please upload your file @ yscec by 9 PM.** </div> \n",
    "<br>\n",
    "<div style=\"text-align: right\"> Donghyeon Baek(백동현): <a href=\"mailto:dh_baek@yonsei.ac.kr\">dh_baek@yonsei.ac.kr</a> \n",
    "<div style=\"text-align: right\"> Jaehyeon Moon(문재현): <a href=\"mailto:tw02137@yonsei.ac.kr\">tw02137@yonsei.ac.kr</a> </div>\n",
    "</div>"
   ]
  },
  {
   "cell_type": "markdown",
   "metadata": {},
   "source": [
    "-------------------------------"
   ]
  },
  {
   "cell_type": "markdown",
   "metadata": {},
   "source": [
    "\n",
    "### *Assignment Instructions:*\n",
    "1. Write a program implementing a particular algorithm to solve a given problem.\n",
    "2. You can use both Korean and Engligh for your report.\n",
    "3. Since this is your first assignment of the course, comprehensive instructions are given for particular problems.  \n",
    " However, note that this might not be the case for further assignments over the course.\n",
    "4. **Analyze the algorithm, theoretically and empirically, and write discussion.** \n",
    "5. **Report your results.**  \n",
    "    - You must do assignments and labs yourself. \n",
    "    - <span style=\"color:red\">**Do not copy any part of your friends’ code.**</span>\n",
    "    - Otherwise, you will get a F grade."
   ]
  },
  {
   "cell_type": "markdown",
   "metadata": {},
   "source": [
    "-----------------"
   ]
  },
  {
   "cell_type": "markdown",
   "metadata": {},
   "source": [
    "<h2><span style=\"color:blue\">[Insert your ID HERE] [Insert your name HERE]</span> </h2>"
   ]
  },
  {
   "cell_type": "code",
   "execution_count": 1,
   "metadata": {},
   "outputs": [
    {
     "name": "stdout",
     "output_type": "stream",
     "text": [
      "This code is written at 2020-04-07 14:14:35.648739\n"
     ]
    }
   ],
   "source": [
    "import datetime\n",
    "print(\"This code is written at \" + str(datetime.datetime.now()))"
   ]
  },
  {
   "cell_type": "markdown",
   "metadata": {},
   "source": [
    "-------------------------------"
   ]
  },
  {
   "cell_type": "markdown",
   "metadata": {},
   "source": [
    "### \\# PROBLEM I (15 POINTS)"
   ]
  },
  {
   "cell_type": "markdown",
   "metadata": {},
   "source": [
    "> Write a python script to replace each number in the list given below with its sine values. \n",
    ">\n",
    "> list: [0, $\\frac{1}{4}\\pi$, $\\frac{1}{2}\\pi$, $\\frac{3}{4}\\pi$, $\\pi$]\n",
    ">\n",
    ">>A simple description of given skeleton codes\n",
    ">>- First, $\\textit{import math}$ module to use a value of $\\pi$ in $\\textit{math}$ module\n",
    ">>- The list, which we want to replace each number, is given by a variable ($\\textit{numbers}$).\n",
    ">>- You should add into the new empty list ($\\textit{sine_numbers}$) with sine values of each $\\textit{numbers}$ elements"
   ]
  },
  {
   "cell_type": "markdown",
   "metadata": {},
   "source": [
    "#### ANSWER 1: Use $\\texttt{while}$ loop."
   ]
  },
  {
   "cell_type": "markdown",
   "metadata": {},
   "source": [
    "##### Details to do\n",
    ">- Use a $\\textit{while}$ loop to replace the numbers.\n",
    ">- Using $\\textit{math.sin}$ function is recommanded to get a sine value of the number.\n",
    ">- $\\textit{Append}$ method will help you to add a new item of list.\n",
    ">- Keep in mind that the index of list starts with zero."
   ]
  },
  {
   "cell_type": "code",
   "execution_count": 2,
   "metadata": {},
   "outputs": [],
   "source": [
    "import math"
   ]
  },
  {
   "cell_type": "code",
   "execution_count": 3,
   "metadata": {},
   "outputs": [],
   "source": [
    "numbers = [0, math.pi/4, math.pi/2, math.pi*3/4, math.pi]\n",
    "sine_numbers = []"
   ]
  },
  {
   "cell_type": "code",
   "execution_count": 4,
   "metadata": {},
   "outputs": [],
   "source": [
    "while(len(numbers) != 0):\n",
    "    sine_numbers.append(math.sin(numbers.pop(0)))"
   ]
  },
  {
   "cell_type": "code",
   "execution_count": 5,
   "metadata": {},
   "outputs": [
    {
     "name": "stdout",
     "output_type": "stream",
     "text": [
      "sine nubmer list: [0.0, 0.7071067811865476, 1.0, 0.7071067811865476, 1.2246467991473532e-16]\n"
     ]
    }
   ],
   "source": [
    "print('sine nubmer list:', sine_numbers)"
   ]
  },
  {
   "cell_type": "markdown",
   "metadata": {},
   "source": [
    "### Describe your answer: "
   ]
  },
  {
   "cell_type": "markdown",
   "metadata": {},
   "source": [
    "numbers의 길이가 0이 아닐때까지 numbers의 맨 처음 숫자를 꺼내서(pop) sin값으로 만든 후에 sine_numbers에 추가하는 방식"
   ]
  },
  {
   "cell_type": "markdown",
   "metadata": {},
   "source": [
    "#### ANSWER 2: Use $\\texttt{for}$ loop."
   ]
  },
  {
   "cell_type": "markdown",
   "metadata": {},
   "source": [
    "##### Details to do\n",
    ">- Use a $\\textit{for}$ loop to replace the numbers.\n",
    ">- Using $\\textit{math.sin}$ function is recommanded to get a sine value of the number.\n",
    ">- $\\textit{Append}$ method will help you to add a new item of list.\n",
    ">- Keep in mind that the index of list starts with zero."
   ]
  },
  {
   "cell_type": "code",
   "execution_count": 6,
   "metadata": {},
   "outputs": [],
   "source": [
    "import math"
   ]
  },
  {
   "cell_type": "code",
   "execution_count": 7,
   "metadata": {},
   "outputs": [],
   "source": [
    "numbers = [0, math.pi/4, math.pi/2, math.pi*3/4, math.pi]\n",
    "sine_numbers = []"
   ]
  },
  {
   "cell_type": "code",
   "execution_count": 8,
   "metadata": {},
   "outputs": [],
   "source": [
    "for num in numbers:\n",
    "    sine_numbers.append(math.sin(num))"
   ]
  },
  {
   "cell_type": "code",
   "execution_count": 9,
   "metadata": {},
   "outputs": [
    {
     "name": "stdout",
     "output_type": "stream",
     "text": [
      "sine nubmer list: [0.0, 0.7071067811865476, 1.0, 0.7071067811865476, 1.2246467991473532e-16]\n"
     ]
    }
   ],
   "source": [
    "print('sine nubmer list:', sine_numbers)"
   ]
  },
  {
   "cell_type": "markdown",
   "metadata": {},
   "source": [
    "### Describe your answer: "
   ]
  },
  {
   "cell_type": "markdown",
   "metadata": {},
   "source": [
    "numbers에서 차례대로 num을 뽑아서 sin값을 만든 후에 sine_numbers에 추가하는 방식"
   ]
  },
  {
   "cell_type": "markdown",
   "metadata": {},
   "source": [
    "#### ANSWER 3: Use list comprehension."
   ]
  },
  {
   "cell_type": "markdown",
   "metadata": {},
   "source": [
    "###### Details to do\n",
    ">- Use $\\textit{List Comprehensions}$ loop to replace the numbers.\n",
    ">- Using $\\textit{math.sin}$ function is recommended to get a sine value of the number.\n",
    ">- Please try to answer this quesetion in a single line code(Not Essential but Highly Recommended)"
   ]
  },
  {
   "cell_type": "code",
   "execution_count": 10,
   "metadata": {},
   "outputs": [],
   "source": [
    "import math"
   ]
  },
  {
   "cell_type": "code",
   "execution_count": 11,
   "metadata": {},
   "outputs": [],
   "source": [
    "numbers = [0, math.pi/4, math.pi/2, math.pi*3/4, math.pi]"
   ]
  },
  {
   "cell_type": "code",
   "execution_count": 12,
   "metadata": {},
   "outputs": [],
   "source": [
    "sine_numbers = [math.sin(num) for num in numbers]"
   ]
  },
  {
   "cell_type": "code",
   "execution_count": 13,
   "metadata": {},
   "outputs": [
    {
     "name": "stdout",
     "output_type": "stream",
     "text": [
      "sine nubmer list: [0.0, 0.7071067811865476, 1.0, 0.7071067811865476, 1.2246467991473532e-16]\n"
     ]
    }
   ],
   "source": [
    "print('sine nubmer list:', sine_numbers)"
   ]
  },
  {
   "cell_type": "markdown",
   "metadata": {},
   "source": [
    "### Describe your answer: "
   ]
  },
  {
   "cell_type": "markdown",
   "metadata": {},
   "source": [
    "List Comprehensions을 이용해서 sine_numbers를 이미 numbers 값들을 sin값으로 바꾼 리스트에 할당해서 마지막 줄에서 출력하는 방식"
   ]
  },
  {
   "cell_type": "markdown",
   "metadata": {},
   "source": [
    "-------------------------------"
   ]
  },
  {
   "cell_type": "markdown",
   "metadata": {},
   "source": [
    "### \\# PROBLEM II (5 POINTS)"
   ]
  },
  {
   "cell_type": "markdown",
   "metadata": {},
   "source": [
    "> Write a python script to determine a key which has the maximum value in a dictionary\n",
    ">\n",
    ">>- $\\texttt{max()}$ function will help you to find the maximum value of $\\texttt{dict_values}$ object"
   ]
  },
  {
   "cell_type": "markdown",
   "metadata": {},
   "source": [
    "#### ANSWER"
   ]
  },
  {
   "cell_type": "code",
   "execution_count": 14,
   "metadata": {},
   "outputs": [],
   "source": [
    "dic = {'apple' : 5, 'banana' : 11, 'grape' : 6, 'peach' : 1, 'watermelon' : 2 }"
   ]
  },
  {
   "cell_type": "code",
   "execution_count": 15,
   "metadata": {},
   "outputs": [],
   "source": [
    "max_value=0\n",
    "for value in dic.values():\n",
    "    max_value=max(max_value,value)\n",
    "for key, value in dic.items():\n",
    "    if value==max_value:\n",
    "        max_key=key"
   ]
  },
  {
   "cell_type": "code",
   "execution_count": 16,
   "metadata": {},
   "outputs": [
    {
     "name": "stdout",
     "output_type": "stream",
     "text": [
      "banana\n"
     ]
    }
   ],
   "source": [
    "print(max_key)"
   ]
  },
  {
   "cell_type": "markdown",
   "metadata": {},
   "source": [
    "### Describe your answer: "
   ]
  },
  {
   "cell_type": "markdown",
   "metadata": {},
   "source": [
    "max_value라는 변수 만들고 첫번째 for문에서 max_value값을 max() 함수를 이용해서 구하고 두번째 for문에서 dic.items()를 이용해서 key, value를 차례대로 뽑는데 뽑은 value 값이 만약 max_value와 같으면 그때의 key값을 max_key로 해서 print하는 방식"
   ]
  },
  {
   "cell_type": "markdown",
   "metadata": {},
   "source": [
    "-------------------------------"
   ]
  },
  {
   "cell_type": "markdown",
   "metadata": {},
   "source": [
    "### \\# PROBLEM III (35 POINTS)"
   ]
  },
  {
   "cell_type": "markdown",
   "metadata": {},
   "source": [
    "> Write a python script to find top 5 major keywords given sentences.\n",
    ">\n",
    "> Keywords satisfy the following conditions.\n",
    ">>##### Conditions\n",
    ">>- Keywords should be written in lowercase letters.\n",
    ">>- Punctuation marks at beginning or end of the word should be removed. Refer the list ($\\texttt{punctuation_marks}$). <br> \n",
    "[Hint: Apply $\\texttt{.strip([char])}$ method to the string with loop to remove them]\n",
    ">>- Common words should be excluded. Refer the list ($\\texttt{common_words}$).\n",
    ">>- You can use provided $\\texttt{sort_dictionary(dic)}$ function in order to sort the dictionary in a descending order with values.\n",
    ">>\n",
    ">> ##### Details to do\n",
    ">>- STEP 1.  Convert capital letters to small letters in data<br> \n",
    ">>- STEP 2.  Make a list whose elements are words in the string variable($\\textit{data}$)<br> \n",
    ">>- STEP 3.   Remove the \"punctuation marks\" in words. The punctuation marks are given by $\\textit{punctuation_marks}$<br>\n",
    ">>- STEP 4.   Make a dictionary whose keys and values are words and the number of word counts respectively<br>\n",
    ">>- STEP 5.   Delete \"common words\" in dictionary. The common words are given by $\\textit{common_words}$<br>\n",
    ">>- STEP 6.   Sort dictionary in descending order of the words counts.<br>\n",
    "[Hint: Use given $\\textit{sort_dictionary}$ fucntion to sort dictionary]\n",
    ">>- STEP 7.   Print top 5 keywords and its count<br>"
   ]
  },
  {
   "cell_type": "code",
   "execution_count": 17,
   "metadata": {},
   "outputs": [],
   "source": [
    "data = \"\"\"\n",
    "Now, the color of the cloud in the sky is tropical, yeah. Red color of the sun is like your cheek. Oh tell me I'm the only one, babe. I fancy you, I fancy you, fancy you (TWICE) It's dangerous it pricks, you are like a rose. It's okay, I am not afraid at all. Hold it harder, take my hand. It will be a little dangerous, even more dangerous baby\n",
    "Like sweet chocolate ice-cream. My feelings melting now, so lovely. Shining most brightly in the dark universe. The star, the star, and your big star next to it You there, I fancy you. I don't want just anyone. Hey, I love you (Love ya). Yes, you, I fancy you. You can be happy like a dream. 'Cause I need you (What)\n",
    "Fancy you, ooh. What if someone likes it first. Fancy you, ooh. I will come to you now\n",
    "\"\"\"\n",
    "\n",
    "punctuation_marks = ['\"','.',',','(',')',';']\n",
    "\n",
    "common_words = ['a', 'about', 'above', 'after', 'again', 'against', 'all', 'am', 'an', 'and', 'any', 'are', \"aren't\", 'as', 'at', 'be', \n",
    "              'because', 'been', 'before', 'being', 'below', 'between', 'both', 'but', 'by', \"can't\", 'cannot', 'could', \"couldn't\", \n",
    "              'did', \"didn't\", 'do', 'does', \"doesn't\", 'doing', \"don't\", 'down', 'during', 'each', 'few', 'for', 'from', 'further', \n",
    "              'had', \"hadn't\", 'has', \"hasn't\", 'have', \"haven't\", 'having', 'he', \"he'd\", \"he'll\", \"he's\", 'her', 'here', \"here's\", \n",
    "              'hers', 'herself', 'him', 'himself', 'his', 'how', \"how's\", 'i', \"i'd\", \"i'll\", \"i'm\", \"i've\", 'if', 'in', 'into', 'is', \n",
    "              \"isn't\", 'it', \"it's\", 'its', 'itself', \"let's\", 'me', 'more', 'most', \"mustn't\", 'my', 'myself', 'no', 'nor', 'not', 'of', \n",
    "              'off', 'on', 'once', 'only', 'or', 'other', 'ought', 'our', 'ours\\tourselves', 'out', 'over', 'own', 'same', \"shan't\", 'she', \n",
    "              \"she'd\", \"she'll\", \"she's\", 'should', \"shouldn't\", 'so', 'some', 'such', 'than', 'that', \"that's\", 'the', 'their', 'theirs', \n",
    "              'them', 'themselves', 'then', 'there', \"there's\", 'these', 'they', \"they'd\", \"they'll\", \"they're\", \"they've\", 'this', 'those', \n",
    "              'through', 'to', 'too', 'under', 'until', 'up', 'very', 'was', \"wasn't\", 'we', \"we'd\", \"we'll\", \"we're\", \"we've\", 'were', \n",
    "              \"weren't\", 'what', \"what's\", 'when', \"when's\", 'where', \"where's\", 'which', 'while', 'who', \"who's\", 'whom', 'why', \"why's\",\n",
    "              'with', \"won't\", 'would', \"wouldn't\", 'you', \"you'd\", \"you'll\", \"you're\", \"you've\", 'your', 'yours', 'yourself', 'yourselves']"
   ]
  },
  {
   "cell_type": "code",
   "execution_count": 18,
   "metadata": {},
   "outputs": [
    {
     "name": "stdout",
     "output_type": "stream",
     "text": [
      "\n",
      "Now, the color of the cloud in the sky is tropical, yeah. Red color of the sun is like your cheek. Oh tell me I'm the only one, babe. I fancy you, I fancy you, fancy you (TWICE) It's dangerous it pricks, you are like a rose. It's okay, I am not afraid at all. Hold it harder, take my hand. It will be a little dangerous, even more dangerous baby\n",
      "Like sweet chocolate ice-cream. My feelings melting now, so lovely. Shining most brightly in the dark universe. The star, the star, and your big star next to it You there, I fancy you. I don't want just anyone. Hey, I love you (Love ya). Yes, you, I fancy you. You can be happy like a dream. 'Cause I need you (What)\n",
      "Fancy you, ooh. What if someone likes it first. Fancy you, ooh. I will come to you now\n",
      "\n"
     ]
    }
   ],
   "source": [
    "print(data)"
   ]
  },
  {
   "cell_type": "code",
   "execution_count": 19,
   "metadata": {},
   "outputs": [],
   "source": [
    "from collections import OrderedDict\n",
    "\n",
    "def sort_dictionary(dic):\n",
    "    return OrderedDict(sorted(dic.items(), key=lambda x: x[1], reverse = True))"
   ]
  },
  {
   "cell_type": "code",
   "execution_count": 20,
   "metadata": {},
   "outputs": [
    {
     "name": "stdout",
     "output_type": "stream",
     "text": [
      "\n",
      "now, the color of the cloud in the sky is tropical, yeah. red color of the sun is like your cheek. oh tell me i'm the only one, babe. i fancy you, i fancy you, fancy you (twice) it's dangerous it pricks, you are like a rose. it's okay, i am not afraid at all. hold it harder, take my hand. it will be a little dangerous, even more dangerous baby\n",
      "like sweet chocolate ice-cream. my feelings melting now, so lovely. shining most brightly in the dark universe. the star, the star, and your big star next to it you there, i fancy you. i don't want just anyone. hey, i love you (love ya). yes, you, i fancy you. you can be happy like a dream. 'cause i need you (what)\n",
      "fancy you, ooh. what if someone likes it first. fancy you, ooh. i will come to you now\n",
      "\n"
     ]
    }
   ],
   "source": [
    "# Step 1. Convert capital letters to small letters in data\n",
    "'''\n",
    "**NOTE**\n",
    "You don't have to print out the intermediate process like below. It is just a hint to give you\n",
    "'''\n",
    "data_lower = data.lower()\n",
    "print(data_lower)"
   ]
  },
  {
   "cell_type": "code",
   "execution_count": 21,
   "metadata": {},
   "outputs": [
    {
     "name": "stdout",
     "output_type": "stream",
     "text": [
      "['now,', 'the', 'color', 'of', 'the', 'cloud', 'in', 'the', 'sky', 'is', 'tropical,', 'yeah.', 'red', 'color', 'of', 'the', 'sun', 'is', 'like', 'your', 'cheek.', 'oh', 'tell', 'me', \"i'm\", 'the', 'only', 'one,', 'babe.', 'i', 'fancy', 'you,', 'i', 'fancy', 'you,', 'fancy', 'you', '(twice)', \"it's\", 'dangerous', 'it', 'pricks,', 'you', 'are', 'like', 'a', 'rose.', \"it's\", 'okay,', 'i', 'am', 'not', 'afraid', 'at', 'all.', 'hold', 'it', 'harder,', 'take', 'my', 'hand.', 'it', 'will', 'be', 'a', 'little', 'dangerous,', 'even', 'more', 'dangerous', 'baby', 'like', 'sweet', 'chocolate', 'ice-cream.', 'my', 'feelings', 'melting', 'now,', 'so', 'lovely.', 'shining', 'most', 'brightly', 'in', 'the', 'dark', 'universe.', 'the', 'star,', 'the', 'star,', 'and', 'your', 'big', 'star', 'next', 'to', 'it', 'you', 'there,', 'i', 'fancy', 'you.', 'i', \"don't\", 'want', 'just', 'anyone.', 'hey,', 'i', 'love', 'you', '(love', 'ya).', 'yes,', 'you,', 'i', 'fancy', 'you.', 'you', 'can', 'be', 'happy', 'like', 'a', 'dream.', \"'cause\", 'i', 'need', 'you', '(what)', 'fancy', 'you,', 'ooh.', 'what', 'if', 'someone', 'likes', 'it', 'first.', 'fancy', 'you,', 'ooh.', 'i', 'will', 'come', 'to', 'you', 'now']\n"
     ]
    }
   ],
   "source": [
    "# Step 2. Make a list whose elements are words\n",
    "'''\n",
    "**NOTE**\n",
    "You don't have to print out the intermediate process like below. It is just a hint to give you\n",
    "'''\n",
    "data_split = data_lower.split()\n",
    "print(data_split)"
   ]
  },
  {
   "cell_type": "code",
   "execution_count": 22,
   "metadata": {},
   "outputs": [
    {
     "name": "stdout",
     "output_type": "stream",
     "text": [
      "['now', 'the', 'color', 'of', 'the', 'cloud', 'in', 'the', 'sky', 'is', 'tropical', 'yeah', 'red', 'color', 'of', 'the', 'sun', 'is', 'like', 'your', 'cheek', 'oh', 'tell', 'me', \"i'm\", 'the', 'only', 'one', 'babe', 'i', 'fancy', 'you', 'i', 'fancy', 'you', 'fancy', 'you', 'twice', \"it's\", 'dangerous', 'it', 'pricks', 'you', 'are', 'like', 'a', 'rose', \"it's\", 'okay', 'i', 'am', 'not', 'afraid', 'at', 'all', 'hold', 'it', 'harder', 'take', 'my', 'hand', 'it', 'will', 'be', 'a', 'little', 'dangerous', 'even', 'more', 'dangerous', 'baby', 'like', 'sweet', 'chocolate', 'ice-cream', 'my', 'feelings', 'melting', 'now', 'so', 'lovely', 'shining', 'most', 'brightly', 'in', 'the', 'dark', 'universe', 'the', 'star', 'the', 'star', 'and', 'your', 'big', 'star', 'next', 'to', 'it', 'you', 'there', 'i', 'fancy', 'you', 'i', \"don't\", 'want', 'just', 'anyone', 'hey', 'i', 'love', 'you', 'love', 'ya', 'yes', 'you', 'i', 'fancy', 'you', 'you', 'can', 'be', 'happy', 'like', 'a', 'dream', \"'cause\", 'i', 'need', 'you', 'what', 'fancy', 'you', 'ooh', 'what', 'if', 'someone', 'likes', 'it', 'first', 'fancy', 'you', 'ooh', 'i', 'will', 'come', 'to', 'you', 'now']\n"
     ]
    }
   ],
   "source": [
    "# Step 3. Remove the punctuation marks in words. e.g.) \"love\" -> love\n",
    "'''\n",
    "**NOTE**\n",
    "You don't have to print out the intermediate process like below. It is just a hint to give you\n",
    "'''\n",
    "data_real =[]\n",
    "for i in range(len(data_split)):\n",
    "    word = data_split[i]\n",
    "    for j in range(len(punctuation_marks)):\n",
    "        words = word.strip(punctuation_marks[j])\n",
    "        word = words\n",
    "    data_real.append(words)\n",
    "print(data_real)"
   ]
  },
  {
   "cell_type": "code",
   "execution_count": 23,
   "metadata": {
    "scrolled": true
   },
   "outputs": [
    {
     "name": "stdout",
     "output_type": "stream",
     "text": [
      "{'now': 3, 'the': 8, 'color': 2, 'of': 2, 'cloud': 1, 'in': 2, 'sky': 1, 'is': 2, 'tropical': 1, 'yeah': 1, 'red': 1, 'sun': 1, 'like': 4, 'your': 2, 'cheek': 1, 'oh': 1, 'tell': 1, 'me': 1, \"i'm\": 1, 'only': 1, 'one': 1, 'babe': 1, 'i': 9, 'fancy': 7, 'you': 14, 'twice': 1, \"it's\": 2, 'dangerous': 3, 'it': 5, 'pricks': 1, 'are': 1, 'a': 3, 'rose': 1, 'okay': 1, 'am': 1, 'not': 1, 'afraid': 1, 'at': 1, 'all': 1, 'hold': 1, 'harder': 1, 'take': 1, 'my': 2, 'hand': 1, 'will': 2, 'be': 2, 'little': 1, 'even': 1, 'more': 1, 'baby': 1, 'sweet': 1, 'chocolate': 1, 'ice-cream': 1, 'feelings': 1, 'melting': 1, 'so': 1, 'lovely': 1, 'shining': 1, 'most': 1, 'brightly': 1, 'dark': 1, 'universe': 1, 'star': 3, 'and': 1, 'big': 1, 'next': 1, 'to': 2, 'there': 1, \"don't\": 1, 'want': 1, 'just': 1, 'anyone': 1, 'hey': 1, 'love': 2, 'ya': 1, 'yes': 1, 'can': 1, 'happy': 1, 'dream': 1, \"'cause\": 1, 'need': 1, 'what': 2, 'ooh': 2, 'if': 1, 'someone': 1, 'likes': 1, 'first': 1, 'come': 1}\n"
     ]
    }
   ],
   "source": [
    "# Step 4. Make a dictionary whose keys are words and values are word counts\n",
    "'''\n",
    "**NOTE**\n",
    "You don't have to print out the intermediate process like below. It is just a hint to give you\n",
    "'''\n",
    "dic={}\n",
    "while(len(data_real)!=0):\n",
    "    key = data_real[0]\n",
    "    counts = data_real.count(key)\n",
    "    dic[key]=counts\n",
    "    for i in range(counts):\n",
    "        data_real.remove(key)\n",
    "print(dic)"
   ]
  },
  {
   "cell_type": "code",
   "execution_count": 24,
   "metadata": {},
   "outputs": [
    {
     "name": "stdout",
     "output_type": "stream",
     "text": [
      "{'now': 3, 'color': 2, 'cloud': 1, 'sky': 1, 'tropical': 1, 'yeah': 1, 'red': 1, 'sun': 1, 'like': 4, 'cheek': 1, 'oh': 1, 'tell': 1, 'one': 1, 'babe': 1, 'fancy': 7, 'twice': 1, 'dangerous': 3, 'pricks': 1, 'rose': 1, 'okay': 1, 'afraid': 1, 'hold': 1, 'harder': 1, 'take': 1, 'hand': 1, 'will': 2, 'little': 1, 'even': 1, 'baby': 1, 'sweet': 1, 'chocolate': 1, 'ice-cream': 1, 'feelings': 1, 'melting': 1, 'lovely': 1, 'shining': 1, 'brightly': 1, 'dark': 1, 'universe': 1, 'star': 3, 'big': 1, 'next': 1, 'want': 1, 'just': 1, 'anyone': 1, 'hey': 1, 'love': 2, 'ya': 1, 'yes': 1, 'can': 1, 'happy': 1, 'dream': 1, \"'cause\": 1, 'need': 1, 'ooh': 2, 'someone': 1, 'likes': 1, 'first': 1, 'come': 1}\n"
     ]
    }
   ],
   "source": [
    "# Step 5. Delete \"common words\" in dictionary\n",
    "'''\n",
    "**NOTE**\n",
    "You don't have to print out the intermediate process like below. It is just a hint to give you\n",
    "'''\n",
    "for i in range(len(common_words)):\n",
    "    if common_words[i] in dic:\n",
    "        del dic[common_words[i]]\n",
    "print(dic)"
   ]
  },
  {
   "cell_type": "code",
   "execution_count": 25,
   "metadata": {},
   "outputs": [
    {
     "name": "stdout",
     "output_type": "stream",
     "text": [
      "OrderedDict([('fancy', 7), ('like', 4), ('now', 3), ('dangerous', 3), ('star', 3), ('color', 2), ('will', 2), ('love', 2), ('ooh', 2), ('cloud', 1), ('sky', 1), ('tropical', 1), ('yeah', 1), ('red', 1), ('sun', 1), ('cheek', 1), ('oh', 1), ('tell', 1), ('one', 1), ('babe', 1), ('twice', 1), ('pricks', 1), ('rose', 1), ('okay', 1), ('afraid', 1), ('hold', 1), ('harder', 1), ('take', 1), ('hand', 1), ('little', 1), ('even', 1), ('baby', 1), ('sweet', 1), ('chocolate', 1), ('ice-cream', 1), ('feelings', 1), ('melting', 1), ('lovely', 1), ('shining', 1), ('brightly', 1), ('dark', 1), ('universe', 1), ('big', 1), ('next', 1), ('want', 1), ('just', 1), ('anyone', 1), ('hey', 1), ('ya', 1), ('yes', 1), ('can', 1), ('happy', 1), ('dream', 1), (\"'cause\", 1), ('need', 1), ('someone', 1), ('likes', 1), ('first', 1), ('come', 1)])\n"
     ]
    }
   ],
   "source": [
    "# Step 6. Sort dictionary in descending order\n",
    "'''\n",
    "**NOTE**\n",
    "You don't have to print out the intermediate process like below. It is just a hint to give you\n",
    "'''\n",
    "dic = sort_dictionary(dic)\n",
    "print(dic)"
   ]
  },
  {
   "cell_type": "code",
   "execution_count": 26,
   "metadata": {},
   "outputs": [
    {
     "name": "stdout",
     "output_type": "stream",
     "text": [
      "fancy 7\n",
      "like 4\n",
      "now 3\n",
      "dangerous 3\n",
      "star 3\n"
     ]
    }
   ],
   "source": [
    "# Step 7. Print top 5 keywords and its count\n",
    "'''\n",
    "***NOTE***\n",
    "You SHOULD PRINT OUT the result and it should be the same as below\n",
    "'''\n",
    "key = list(dic.keys())\n",
    "value = list(dic.values())\n",
    "for i in range(5):\n",
    "    print(key[i], value[i])"
   ]
  },
  {
   "cell_type": "markdown",
   "metadata": {},
   "source": [
    "### Describe your answer: "
   ]
  },
  {
   "cell_type": "markdown",
   "metadata": {},
   "source": [
    "Step 1. .lower() function을 이용해서 lowercase로 변환하는 방식\n",
    "\n",
    "Step 2. .split() function을 이용해서 단어별로 나누고 data_split이라는 list에 할당하는 방식\n",
    "\n",
    "Step 3. data_real이라는 list를 만들고 첫번째 for문으로 data_split list에서 하나씩 단어를 꺼내서 두번째 for문으로 그 단어에서 punctuation_marks에 있는것들을 제거해주고 제거한 단어를 data_real에 추가하는 방식\n",
    "\n",
    "Step 4. data_real에서 가장 앞에 있는것을 key로 꺼내고 .count(key)함수를 이용해서 그 list에 key가 몇 개 있는지 확인하고 그걸 바로 dic이라는 dictionary로 넣어버림. 그리고나서 for문으로 key의 개수만큼을 돌려서 data_real list에서 key를 삭제하는 방식. --> data_real list는 점점 줄어들어드니까 while에 len(data_list)가 0이 아닐때까지 계속 반복함.\n",
    "\n",
    "Step 5. for문을 이용해서 common_words안에 있는 단어 전부가 dic안에 있는지를 if문을 통해서 알아내고 만약 dic안에 common_words가 있으면 dic에서 그 common_words를 제거하는 방식\n",
    "\n",
    "Step 6. 위에 정의된 sort_dictionary 함수를 사용하여 내림차순으로 정렬\n",
    "\n",
    "Step 7. dic안의 keys와 values들을 리스트로 각각 만들어주고 for문을 이용하여 5개까지만 출력하는 방식(step 6에서 내림차순으로 정렬되었기 때문에 자동적으로 top5 keywords가 출력된다.)\n"
   ]
  },
  {
   "cell_type": "markdown",
   "metadata": {},
   "source": [
    "-------------------------------"
   ]
  },
  {
   "cell_type": "markdown",
   "metadata": {},
   "source": [
    "### \\# PROBLEM IV (45 POINTS)"
   ]
  },
  {
   "cell_type": "markdown",
   "metadata": {},
   "source": [
    "Complete $\\texttt{Color}$ class below and run some test codes to check that your output is appropriate.\n",
    "\n",
    "> ##### To do\n",
    "> 1. Complete the $\\texttt{change2binary}$ function\n",
    "> 2. Implement addition operator using \\_\\_$\\texttt{add}$\\_\\_ method\n",
    "> 3. Implement comparision operators using \\_\\_$\\texttt{le}$\\_\\_, \\_\\_$\\texttt{lt}$\\_\\_, \\_\\_$\\texttt{eq}$\\_\\_ methods\n"
   ]
  },
  {
   "cell_type": "markdown",
   "metadata": {},
   "source": [
    ">![Three Primary Color RGB Model](https://8b474631b5f90854d5d5-29274c1ddc54cee4fa6f1b98374e5715.ssl.cf1.rackcdn.com/rgb-colors.jpeg)\n",
    "> Three secondary colors(Yellow, Magenta, Cyan) and one tertiary color(White) made from all three primary colors(Red, Green, Blue)."
   ]
  },
  {
   "cell_type": "markdown",
   "metadata": {},
   "source": [
    "<b>1. $\\textit{change2binary}$ function</b>\n",
    "> The $\\textit{change2binary}$ function takes an instance of $\\textit{Color}$ class as input and returns the binary representation(type: list) of index. You can get the index of color from $\\textit{Color.color_list}$.\n",
    "\n",
    "<b>2. Operator Overloading</b>\n",
    "> - You only need to overload an addition operator. The addition between colors is followed by the diagram.\n",
    "> - i.e. RED + GREEN = YELLO, BLUE + MAGENTA = MAGENTA, WHITE + CYAN = WHITE\n",
    "\n",
    "<b>3. Comparision Operator Overloading</b>\n",
    "> - You need to overload three comaparision operators. The rules follows:\n",
    ">> - Three primary colors(Red, Green, Blue) have same level.\n",
    ">> - Three secondary colors(Yellow, Magenta, Cyan) have same level.\n",
    ">> - Three secondary colors are greater than three primary colors.\n",
    ">> - One tertiary color(White) is greatest."
   ]
  },
  {
   "cell_type": "code",
   "execution_count": 27,
   "metadata": {},
   "outputs": [],
   "source": [
    "class Color:\n",
    "    def __init__(self, color):\n",
    "        self.color_list = ['BLACK', 'BLUE', 'GREEN', 'CYAN', 'RED',\n",
    "                           'MAGENTA', 'YELLOW', 'WHITE']\n",
    "        self.color = color\n",
    "    \n",
    "    def __str__(self):\n",
    "        # CODE HERE\n",
    "        return str(self.color)\n",
    "    def __add__(self, other_root):\n",
    "        # CODE HERE\n",
    "        # Hint: Think bitwise operations\n",
    "        for i in range(8):\n",
    "            if self.color_list[i]==self.color:\n",
    "                color1 = i\n",
    "            if other_root.color_list[i]==other_root.color:\n",
    "                color2 = i\n",
    "        color3 = color1 | color2\n",
    "        return self.color_list[color3]\n",
    "    \n",
    "    def __eq__(self, other_root):\n",
    "        # CODE HERE\n",
    "        # Hint: Use \"change2binary\" function\n",
    "        return self.change2binary().count(1)==other_root.change2binary().count(1)\n",
    "    \n",
    "    def __lt__(self, other_root):\n",
    "        # CODE HERE\n",
    "        # Hint: Use \"change2binary\" function\n",
    "        return self.change2binary().count(1)<other_root.change2binary().count(1)\n",
    "    \n",
    "    def __le__(self, other_root):\n",
    "        # CODE HERE\n",
    "        # Hint: Use \"change2binary\" function\n",
    "        return self.change2binary().count(1)<=other_root.change2binary().count(1)\n",
    "\n",
    "    def change2binary(self):\n",
    "        '''\n",
    "        Arguments:\n",
    "            out (list): binary representation of color index from the \"self.color_list\" list.\n",
    "            i.e. BLACK => [0], CYAN => [1,1], WHITE => [1,1,1], YELLOW => [1,1,0]\n",
    "        '''\n",
    "        # CODE HERE\n",
    "        for i in range(8):\n",
    "            if self.color_list[i]==self.color:\n",
    "                ans=[]\n",
    "                if i == 0:\n",
    "                    ans.append(0)\n",
    "                while i>0:\n",
    "                    ans.append(i%2)\n",
    "                    i=int(i/2)\n",
    "                ans.reverse()\n",
    "                return ans"
   ]
  },
  {
   "cell_type": "code",
   "execution_count": 28,
   "metadata": {},
   "outputs": [
    {
     "name": "stdout",
     "output_type": "stream",
     "text": [
      "1. Print the name of color\n",
      "\t BLUE WHITE CYAN\n",
      "2. Get binary representation of color index\n",
      "\tMAGENTA\t:  [1, 0, 1] \n",
      "\tBLUE\t:  [1] \n",
      "\tYELLOW\t:  [1, 1, 0]\n",
      "\n",
      "3. Check the addition relationship between colors\n",
      "\t GREEN + BLUE\t=  CYAN \n",
      "\t RED + BLUE\t=  MAGENTA \n",
      "\t GREEN + YELLOW\t=  YELLOW \n",
      "\t YELLOW + BLUE\t=  WHITE \n",
      "\t MAGENTA + CYAN\t=  WHITE\n",
      "\n",
      "4. Level Relationship\n",
      "\tRED == BLUE \t\t True \n",
      "\tMAGENTA == CYAN \t True \n",
      "\tWHITE != MAGENTA \t True \n",
      "\tBLUE != RED \t\t False\n",
      "\n",
      "\tMAGENTA > BLUE \t\t True \n",
      "\tBLUE >= RED \t\t True \n",
      "\tWHITE < BLUE \t\t False \n",
      "\tCYAN <= YELLOW \t\t True\n"
     ]
    }
   ],
   "source": [
    "print('1. Print the name of color')\n",
    "print('\\t', Color('BLUE'), Color('WHITE'), Color('CYAN'))\n",
    "\n",
    "print('2. Get binary representation of color index')\n",
    "print('\\tMAGENTA\\t: ', Color('MAGENTA').change2binary(),\n",
    "      '\\n\\tBLUE\\t: ', Color('BLUE').change2binary(),\n",
    "      '\\n\\tYELLOW\\t: ', Color('YELLOW').change2binary())\n",
    "\n",
    "print('\\n3. Check the addition relationship between colors')\n",
    "print('\\t', 'GREEN + BLUE\\t= ', Color('GREEN')+Color('BLUE'),\n",
    "      '\\n\\t', 'RED + BLUE\\t= ', Color('RED')+Color('BLUE'),\n",
    "      '\\n\\t', 'GREEN + YELLOW\\t= ', Color('GREEN')+Color('YELLOW'),\n",
    "      '\\n\\t', 'YELLOW + BLUE\\t= ', Color('YELLOW')+Color('BLUE'),\n",
    "      '\\n\\t', 'MAGENTA + CYAN\\t= ', Color('MAGENTA')+Color('CYAN'))\n",
    "\n",
    "\n",
    "print(\"\\n4. Level Relationship\")\n",
    "print('\\tRED == BLUE \\t\\t', Color('RED')==Color('BLUE'),\n",
    "      '\\n\\tMAGENTA == CYAN \\t', Color('MAGENTA')==Color('CYAN'),\n",
    "      '\\n\\tWHITE != MAGENTA \\t', Color('WHITE')!=Color('MAGENTA'),\n",
    "      '\\n\\tBLUE != RED \\t\\t', Color('BLUE')!=Color('RED'))\n",
    "\n",
    "print('\\n\\tMAGENTA > BLUE \\t\\t', Color('MAGENTA')>Color('BLUE'),\n",
    "      '\\n\\tBLUE >= RED \\t\\t', Color('BLUE')>=Color('RED'),\n",
    "      '\\n\\tWHITE < BLUE \\t\\t', Color('WHITE')<Color('BLUE'),\n",
    "      '\\n\\tCYAN <= YELLOW \\t\\t', Color('CYAN')<=Color('YELLOW'))"
   ]
  },
  {
   "cell_type": "markdown",
   "metadata": {},
   "source": [
    "### Describe your answer: "
   ]
  },
  {
   "cell_type": "markdown",
   "metadata": {},
   "source": [
    "1. \\__str__을 이용해서 Color()에 들어온 변수를 str형태로 return함     \n",
    "\n",
    "\n",
    "2. change2binary함수를 완성시키는게 목표.\n",
    "    - 먼저, for문으로 self.color_list에서 Color()에서 변수로 받은 색과 같은 색의 리스트 인덱스를 찾아낸다.\n",
    "    - 그리고 그 인덱스 값의 범위는 일단 0<=i<=7 이다.\n",
    "    - ans라는 리스트를 만들고 i가 만약 0이면 ans에 0을 추가한다.\n",
    "    - 그리고 i>0인 동안에 i를 2로 나눈 나머지를 계속해서 ans.append를 이용해 리스트에 추가함.\n",
    "    - 추가하고 나서는 그 i를 2로 나눈 몫을 i에 할당시키고 이 과정을 계속 반복(i>0일때까지)\n",
    "    - 마지막으로, ans리스트를 거꾸로 뒤집어야 우리가 원하는 리스트 형태를 얻을 수 있으므로 ans.reverse()해주고 ans라는 리스트를 return한다.    \n",
    "    \n",
    "    \n",
    "3. \\__add__를 이용해야함.\n",
    "    - 먼저, self로 들어온 color1과 other_root로 들어온 color2의 각각의 color_list에서의 인덱스 값을 구한다. (for문 안에 if self.color_list==self.color 이용)\n",
    "    - 각각의 인덱스를 가지고 or를 이용하여 color3의 값을 구한다.\n",
    "    - 구한 color3의 값으로 color_list에서 인덱싱하여 return시킨다.  \n",
    "    \n",
    "    \n",
    "4. \\__eq__, \\__lt__, \\__le__를 이용해야함.\n",
    "    - change2binary 함수를 통해 나온 ans라는 리스트를 이용함.\n",
    "    - ans 리스트 안에 존재하는 1의 개수가 lㄷvel을 결정함.\n",
    "    - ans.count(1)을 이용해서 각 color의 ans리스트 안의 1의 개수를 구한다.\n",
    "    - 구한 1의 개수들로 각각 ==,<,<= 한 값들을 return한다.(True or False)"
   ]
  }
 ],
 "metadata": {
  "anaconda-cloud": {},
  "kernelspec": {
   "display_name": "Python 3",
   "language": "python",
   "name": "python3"
  },
  "language_info": {
   "codemirror_mode": {
    "name": "ipython",
    "version": 3
   },
   "file_extension": ".py",
   "mimetype": "text/x-python",
   "name": "python",
   "nbconvert_exporter": "python",
   "pygments_lexer": "ipython3",
   "version": "3.7.7"
  }
 },
 "nbformat": 4,
 "nbformat_minor": 1
}
