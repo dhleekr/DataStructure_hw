{
 "cells": [
  {
   "cell_type": "markdown",
   "metadata": {},
   "source": [
    "> ### EEE2020-04: Data Structures & Algorithms\n",
    "\n",
    "# Assignment \\#  II: Algorithm Analysis & Basic Data Structure"
   ]
  },
  {
   "cell_type": "markdown",
   "metadata": {},
   "source": [
    "**<div style=\"text-align: right\"> Due date: April 20, 2019. </div>** \n",
    "**<div style=\"text-align: right\"> Please upload your file @ yscec by 9 PM. </div>** \n",
    "<div style=\"text-align: right\"> Jaehyeon Moon(문재현): <a href=\"mailto:tw02137@yonsei.ac.kr\">tw02137@yonsei.ac.kr</a> </div>\n",
    "<div style=\"text-align: right\"> Donghyeon Baek(백동현): <a href=\"mailto:dh_baek@yonsei.ac.kr\">dh_baek@yonsei.ac.kr</a> "
   ]
  },
  {
   "cell_type": "markdown",
   "metadata": {},
   "source": [
    "-------------------------------"
   ]
  },
  {
   "cell_type": "markdown",
   "metadata": {},
   "source": [
    "\n",
    "### *Assignment Instructions:*\n",
    "1. Write a program implementing a particular algorithm to solve a given problem.\n",
    "2. You can use both Korean and English for your report.\n",
    "3. **Analyze the algorithm, theoretically and empirically.** \n",
    "4. **Report your results.**  \n",
    "    - You must do assignments and labs by yourself. \n",
    "    - <span style=\"color:red\">**Do not copy any part of your friends’ code.**</span>\n",
    "    - Otherwise, you will get a F grade."
   ]
  },
  {
   "cell_type": "markdown",
   "metadata": {},
   "source": [
    "-----------------"
   ]
  },
  {
   "cell_type": "markdown",
   "metadata": {},
   "source": [
    "<h2><span style=\"color:blue\">[Insert your ID HERE] [Insert your name HERE]</span> </h2>"
   ]
  },
  {
   "cell_type": "code",
   "execution_count": null,
   "metadata": {},
   "outputs": [],
   "source": [
    "import datetime\n",
    "print(\"This code is written at \" + str(datetime.datetime.now()))"
   ]
  },
  {
   "cell_type": "markdown",
   "metadata": {},
   "source": [
    "-------------------------------"
   ]
  },
  {
   "cell_type": "markdown",
   "metadata": {},
   "source": [
    "### \\# PROBLEM I (15 POINTS)"
   ]
  },
  {
   "cell_type": "markdown",
   "metadata": {},
   "source": [
    " Compute the complexity (using a big $\\mathcal{O}$ notation) of the following algorithms shown below. <br>\n",
    " **You don't need to write a program to compute them.** <br>\n",
    " Just play with mathematics **by hand**.  \n",
    " \n",
    "  > (a) \n",
    "<code>\n",
    "def exp_2(N):\n",
    "    cnt = 1\n",
    "    while cnt < N:\n",
    "        cnt *= 2\n",
    "    return cnt\n",
    "                  \n",
    "</code>\n",
    " \n",
    " > (b) \n",
    "<code>\n",
    "def squared_avg(N):\n",
    "    cnt, sum = 0, 0\n",
    "    while True:\n",
    "        if cnt == N:\n",
    "            break\n",
    "        cnt = cnt + 1\n",
    "        sum += cnt * cnt\n",
    "    return sum / N\n",
    "</code>\n",
    "\n",
    " > (c)\n",
    "<code>\n",
    "def matrix_mul(A, N): # Assume that A is a square matrix\n",
    "    B = [[0 for i in range(N)] for j in range(N)]\n",
    "    for row in range(N):\n",
    "        for col in range(N):\n",
    "            for idx in range(N):\n",
    "                B[row][col] += A[row][idx] * A[idx][col]\n",
    "    return B\n",
    "</code>\n",
    "\n",
    " > (d)\n",
    "<code>\n",
    "def search(arr, item, N): # assume arr is sorted\n",
    "    left = 0\n",
    "    right = N - 1\n",
    "    while left <= right:\n",
    "        mid = left + (right - left) // 2\n",
    "        if arr[mid] == item:\n",
    "            return mid\n",
    "        elif arr[mid] < item:\n",
    "            left = mid + 1\n",
    "        else:\n",
    "            right = mid - 1\n",
    "    return -1 # unsuccessful search\n",
    "             \n",
    "</code>\n",
    "\n",
    " > (e)\n",
    "<code>\n",
    "def sample_var(arr, N):\n",
    "    def mean(arr, N):\n",
    "        sum_arr = 0\n",
    "        for i in range(N):\n",
    "            sum_arr += arr[i]\n",
    "        return sum_arr / N\n",
    "    var_arr = 0\n",
    "    for i in range(N):\n",
    "        var_arr += (arr[i] - mean(arr, N)) ** 2\n",
    "    return var_arr / (N - 1)\n",
    "    \n",
    "</code>"
   ]
  },
  {
   "cell_type": "markdown",
   "metadata": {},
   "source": [
    "### Answer: "
   ]
  },
  {
   "cell_type": "markdown",
   "metadata": {},
   "source": [
    "(a) O(log n)    \n",
    "(b) O(n)    \n",
    "(c) O(n<sup>3</sup>)    \n",
    "(d) O(log n)     \n",
    "(e) O(n<sup>2</sup>)"
   ]
  },
  {
   "cell_type": "markdown",
   "metadata": {},
   "source": [
    "### Describe your answer: "
   ]
  },
  {
   "cell_type": "markdown",
   "metadata": {},
   "source": [
    "(a) T(n) = 1+log<sub>2</sub>n 이므로 O(log n)입니다.(log n 이 더 dominant)     \n",
    "\n",
    "(b) cnt가 N이랑 같아질 때까지 계속해서 반복하는데 계속 +1 되므로 N번 반복하게 됩니다. 따라서 O(n)입니다.    \n",
    "\n",
    "(c) B를 만들때 N<sup>2</sup> 반복하게되고, for문 3번 중첩되어 있는부분에서 N<sup>3</sup>번 반복되기 때문에 O(n<sup>3</sup>)입니다.(n<sup>3</sup>이 더 dominant)     \n",
    "\n",
    "(d) 첫번째 한번하면 남는 배열 수가 N x $\\frac{1}{2}$ 이고, 두번하면 N x ($\\frac{1}{2}$)<sup>2</sup>입니다. 쭉쭉해서 k번째일때는 N x ($\\frac{1}{2}$)<sup>k</sup>입니다. 이때 마지막에는 남는 배열 수가 1 이므로 N x ($\\frac{1}{2}$)<sup>k</sup> = 1 이므로 k = log<sub>2</sub>N입니다. 이때 k가 시행된 횟수이므로 search 함수는 O(log n)의 시간 복잡도를 갖는다고 볼 수 있습니다.    \n",
    "\n",
    "(e) mean 함수의 T(n) = 1+n 이므로 O(n) 입니다. 이때 sample_var 함수에서 마지막 부분에 for문안에 mean 함수가 들어가 있으므로 O(n<sup>2</sup>)입니다."
   ]
  },
  {
   "cell_type": "markdown",
   "metadata": {},
   "source": [
    "--------"
   ]
  },
  {
   "cell_type": "markdown",
   "metadata": {},
   "source": [
    "### \\# PROBLEM II (15 POINTS)"
   ]
  },
  {
   "cell_type": "markdown",
   "metadata": {},
   "source": [
    "#### PROBLEM II-1 (5 POINTS)"
   ]
  },
  {
   "cell_type": "markdown",
   "metadata": {},
   "source": [
    "**Without using numpy arrays or built-in functions like `sum()`**, construct a function called **compute_series** that computes the following mathematical expression with **TWO**(Nested) **_loop_** (_while_ or _for_) <br>\n",
    " > Given *r and n*, compute 1 + (*r + 2r<sup>2*) + (*r<sup>2* + *2r<sup>3* + *3r<sup>4*) + (*r<sup>3* + *2r<sup>4* + *3r<sup>5* + *4r<sup>6*) + ... + (*r<sup>n* + *2r<sup>n+1* + *3r<sup>n+2* + ... + *(n + 1)r<sup>2n*) <br>"
   ]
  },
  {
   "cell_type": "markdown",
   "metadata": {},
   "source": [
    "### Answer: "
   ]
  },
  {
   "cell_type": "code",
   "execution_count": null,
   "metadata": {},
   "outputs": [],
   "source": [
    "def compute_series(r,n):\n",
    "    sum = 1\n",
    "    i = 1\n",
    "    while i < n+1:\n",
    "        for j in range(i+1):\n",
    "            a = (j+1)*(r**(i+j))\n",
    "            sum += a\n",
    "        i += 1\n",
    "    return sum"
   ]
  },
  {
   "cell_type": "code",
   "execution_count": null,
   "metadata": {},
   "outputs": [],
   "source": [
    "## For validation; Do not change this code\n",
    "print(compute_series(0.7, 3), compute_series(0.5, 7), compute_series(0.3, 10))"
   ]
  },
  {
   "cell_type": "markdown",
   "metadata": {},
   "source": [
    "### Describe your answer: "
   ]
  },
  {
   "cell_type": "markdown",
   "metadata": {},
   "source": [
    "a<sub>n</sub> = r<sup>n</sup> + 2r<sup>n+1</sup> + 3r<sup>n+2</sup> + ... + (n + 1)r<sup>2n</sup>으로 생각했습니다.   \n",
    "그러면 이제 처음에 1은 빼고 r+2r<sup>2</sup>부터 a<sub>1</sub>라고 생각을 해서 sum = 1로 처음에 두었습니다.   \n",
    "이러한 a는 1 ~ n 까지 있으므로 i = 1로 두고 while i < n+1: 로 두었습니다.\n",
    "이제 a<sub>n</sub>안에 각각의 합을 계산할건데, 보면 계수는 j에 의해서 결정되므로 앞에 (j+1)을 곱했고, 지수부분은 이제 i와 j 두 개에 의해서 결정되므로 (i+j)로 두었습니다.   \n",
    "그래서 각 a를 구한걸 sum에 더하고 for문이 끝나면 i에 1을 더 해서 그 다음 a<sub>n</sub>을 구합니다.   \n",
    "그렇게해서 n번째 a<sub>n</sub>까지의 총 합을 구하고 sum을 return합니다."
   ]
  },
  {
   "cell_type": "markdown",
   "metadata": {},
   "source": [
    "#### PROBLEM II-2 (10 POINTS)"
   ]
  },
  {
   "cell_type": "markdown",
   "metadata": {},
   "source": [
    "The exam scores for EE students are provided in `EE_students_grades.csv` file. <br>\n",
    "The total score is calculated as a weighted average of exam scores, where the relative importance of each subject is shown below. <br>\n",
    "\n",
    "| Subject    | Data Structure   | Basic Circuit Theory   | Digital Logic Design   | Electromagnetics   |\n",
    "|------------|------------------|------------------------|------------------------|--------------------|  \n",
    "| Percentage | 40%              | 20%                    | 20%                    | 20%                |\n",
    "\n",
    "\n",
    "**Top 4%** of students receive a prize for good accomplishments. <br>\n",
    "\n",
    "Using **numpy operations**, obtain the values listed below. <br>\n",
    "\n",
    "> (a) Average exam score for digital logic design **[3 points]** <br>\n",
    "> (b) Data structure scores of prize winners **[7 points]** <br>\n",
    "  \n",
    "**\\* Hint : You can use `numpy.sort()` or `numpy.argsort()` to obtain sorted version of a numpy array.**"
   ]
  },
  {
   "cell_type": "code",
   "execution_count": null,
   "metadata": {
    "scrolled": true
   },
   "outputs": [],
   "source": [
    "import numpy as np\n",
    "import pandas as pd\n",
    "\n",
    "grades = pd.read_csv('./EE_students_grades.csv') # pandas.DataFrame object\n",
    "np_grades = grades.values # numpy array\n",
    "grades"
   ]
  },
  {
   "cell_type": "markdown",
   "metadata": {},
   "source": [
    "### Answer: "
   ]
  },
  {
   "cell_type": "code",
   "execution_count": null,
   "metadata": {},
   "outputs": [],
   "source": [
    "#(a)\n",
    "avg_dld_score = np_grades[:,2].sum()/250\n",
    "print(avg_dld_score)\n",
    "\n",
    "#(b)\n",
    "ds_scores = []\n",
    "score_list = np.empty(250)\n",
    "\n",
    "for i in range(250):\n",
    "    total_score = np_grades[i][0]*0.4\n",
    "    total_score += np_grades[i][1:4].sum(axis=0)*0.2\n",
    "    score_list[i] = total_score\n",
    "    \n",
    "    \n",
    "a = list(score_list.argsort())\n",
    "\n",
    "for i in range((250*4)//100):\n",
    "    ds_scores.append(np_grades[a.pop()][0])\n",
    "ds_scores"
   ]
  },
  {
   "cell_type": "markdown",
   "metadata": {},
   "source": [
    "### Describe your answer: "
   ]
  },
  {
   "cell_type": "markdown",
   "metadata": {},
   "source": [
    "### (a)\n",
    "Digital logic design의 평균값을 계산하는건데 np_grades가 numpy array이므로np_grades[:, 2]를 통해서 3번째 column(Digital logic design 위치)의 모든 rows 값을 다 더하고 250명으로 나누어서 구했습니다.(np.sum() 사용)    \n",
    "     \n",
    "### (b)\n",
    "Top 4%의 Data structure scores를 구하는 문제입니다.    \n",
    "1. 먼저, Top 4%를 구하기 위해 모든 사람들의 가중평균된 시험 점수를 리스트로 만들었습니다. 모든 사람의 점수를 구해야 하기때문에 for문으로 250명의 점수를 계산하려고 했습니다. 점수 4개 중에 첫번째만 40%이기 때문에 np_grades[i][0]x0.4를 따로 해주고 나머지 3개 점수는 np_grades[i][1:4].sum(axis=0)x0.2 를 통해서 column sum을 하고나서 0.2를 곱해주는 방식으로 구하고 그 값을 score_list에 순서대로 넣었습니다.\n",
    "2. 이제 그 score_list에서 np.argsort()를 통해 점수가 낮은 순서대로 사람을 줄세웠습니다. 그리고 그 score_list를 numpy array에서 list로 바꿔줬습니다.(pop() 사용하기 위해서)\n",
    "3. 이제 Top 4%가 누구인지 알아내기 위해서 for문을 250명에서 4%만큼만 돌게하고 그 안에서 a.pop()을 통해서 제일 점수 높은 사람들부터 꺼냈는데 그 꺼낸 사람의 Data structure 성적을 알아내기 위해 np_grades에서 indexing을 통해서 점수를 알아내서 ds_scores라는 리스트에 append했습니다. "
   ]
  },
  {
   "cell_type": "markdown",
   "metadata": {},
   "source": [
    "---------"
   ]
  },
  {
   "cell_type": "markdown",
   "metadata": {},
   "source": [
    "### \\# PROBLEM III (30 POINTS)"
   ]
  },
  {
   "cell_type": "markdown",
   "metadata": {},
   "source": [
    "#### PROBLEM III-1 (7 POINTS)"
   ]
  },
  {
   "cell_type": "markdown",
   "metadata": {},
   "source": [
    " Write a function that computes cross-correlation of 1-D numpy arrays.  \n",
    " Use **only** $\\texttt{numpy}$ methods, **except for `numpy.correlate()` or other correlation-related methods**.  \n",
    " For example, do not use <code>sum()</code>. Use <code>numpy.sum()</code> instead.  \n",
    " Parameters of function $\\texttt{Correlate1D}$ are specified as follows:  \n",
    " * inputs: 1-D array (length: N), kernel (size : k)\n",
    " * outputs: 1-D array (length: N-k+1)  \n",
    "  \n",
    "For example, your output should be as follows:  \n",
    "> test_output = [1. 2. 3. 4. 5. 6.],  \n",
    "> *given* the input: [0. 1. 2. 3. 4. 5. 6. 7. 8. 9.], kernel = [1 0.5 -1 -0.5 1]\n",
    "\n",
    "The process of 1-D cross-correlation is shown below.\n",
    "\n",
    "![image.png](1D-conv.PNG)"
   ]
  },
  {
   "cell_type": "markdown",
   "metadata": {},
   "source": [
    "### Answer: "
   ]
  },
  {
   "cell_type": "code",
   "execution_count": null,
   "metadata": {},
   "outputs": [],
   "source": [
    "import numpy as np\n",
    "\n",
    "def Correlate1D(input_array, kernel):\n",
    "    k_size = kernel.shape[0]\n",
    "    i_size = input_array.shape[0]\n",
    "    change = np.empty(k_size)\n",
    "    result = np.empty(i_size-k_size+1)\n",
    "    \n",
    "    for i in range((i_size-k_size+1)):\n",
    "        for j in range(k_size):\n",
    "            change[j] = input_array[j+i]\n",
    "        result[i] = np.inner(change, kernel)\n",
    "    return result"
   ]
  },
  {
   "cell_type": "code",
   "execution_count": null,
   "metadata": {},
   "outputs": [],
   "source": [
    "# For validation; Do not change this code\n",
    "test_a, test_b = np.array([1, 3, 2, 4, 5]), np.array([0.1, 0.3, 0.2])\n",
    "test_c, test_d = np.arange(20), np.arange(15)\n",
    "print(Correlate1D(test_a, test_b), Correlate1D(test_c, test_d))"
   ]
  },
  {
   "cell_type": "markdown",
   "metadata": {},
   "source": [
    "### Describe your answer: "
   ]
  },
  {
   "cell_type": "markdown",
   "metadata": {},
   "source": [
    "1. change라는 비어있는 kernel 같은 size의 array와 result라는 output size와 동이한 array를 만든다. (change와 kernel의 size를 맞춰서 계산할 계획)(size는 np.shape[0]을 통해서 구할 수 있습니다.)\n",
    "2. Output size의 길이만큼 반복하면서 input_array를 change라는 kernel size와 동일한 array에 넣고 np.inner한 것을 result에 넣어주고, 한 칸 오른쪽으로 움직여서(input_array[i+j]를 통해서 움직인다) 또 반복한다.\n",
    "3. result를 출력"
   ]
  },
  {
   "cell_type": "markdown",
   "metadata": {},
   "source": [
    "#### PROBLEM III-2 (10 POINTS)"
   ]
  },
  {
   "cell_type": "markdown",
   "metadata": {},
   "source": [
    " Let's expand **Problem III-1** into 2-D arrays.  \n",
    " Write a function that computes cross-correlation of a 2-D numpy array.  \n",
    " Likewise, use **only** $\\texttt{numpy}$ methods, but not **`numpy.correlate()` or other correlation-related methods**.  \n",
    " Parameters of function $\\texttt{Correlate2D}$ are specified as follows:  \n",
    "> * inputs: 2-D array (shape : (N, M)), kernel (shape : (K, L))\n",
    "> * outputs: 2-D array (shape : (N - K + 1, M - L + 1))  \n",
    ">  \n",
    "\n",
    "The process of 2-D cross-correlation is shown below.\n",
    "![image.png](2D-conv.jpg)"
   ]
  },
  {
   "cell_type": "markdown",
   "metadata": {},
   "source": [
    "### Answer: "
   ]
  },
  {
   "cell_type": "code",
   "execution_count": null,
   "metadata": {},
   "outputs": [],
   "source": [
    "import numpy as np\n",
    "\n",
    "def Correlate2D(input_array, kernel):\n",
    "    i_row = input_array.shape[0]\n",
    "    i_col = input_array.shape[1]\n",
    "    k_row = kernel.shape[0]\n",
    "    k_col = kernel.shape[1]\n",
    "    change = np.zeros((k_row, k_col))\n",
    "    result = np.zeros((i_row-k_row+1, i_col-k_col+1))\n",
    "    temp = np.zeros((k_row,k_col))\n",
    "    \n",
    "    for a in range(i_row - k_row + 1):\n",
    "        for b in range(i_col-k_col+1):\n",
    "            for c in range(k_row):\n",
    "                for d in range(k_col):\n",
    "                    change[c][d] = input_array[c+a][d+b]\n",
    "                temp[c] = Correlate1D(change[c],kernel[c])\n",
    "            result[a][b] = temp.sum()//k_col\n",
    "    return result"
   ]
  },
  {
   "cell_type": "code",
   "execution_count": null,
   "metadata": {},
   "outputs": [],
   "source": [
    "# For validation; Do not change this code\n",
    "test_a, test_b = np.array([[0, 1, 1, 1, 0, 0, 0],\n",
    "               [0, 0, 1, 1, 1, 0, 0],\n",
    "               [0, 0, 0, 1, 1, 1, 0],\n",
    "               [0, 0, 0, 1, 1, 0, 0],\n",
    "               [0, 0, 1, 1, 0, 0, 0],\n",
    "               [0, 1, 1, 0, 0, 0, 0],\n",
    "               [1, 1, 0, 0, 0, 0, 0]]), np.array([[1, 0, 1], [0, 1, 0], [1, 0, 1]])\n",
    "\n",
    "print(Correlate2D(test_a, test_b))"
   ]
  },
  {
   "cell_type": "markdown",
   "metadata": {},
   "source": [
    "### Describe your answer: "
   ]
  },
  {
   "cell_type": "markdown",
   "metadata": {},
   "source": [
    "1. input의 row, column, kernel이 row, column을 각각 정의하고, change, temp를 kernel size와 같은 array로 만들고, result는 output size에 맞게 array를 만들어 놓습니다.   \n",
    "2. 3-1에서와 같은 방법이지만 1D->2D 되었기때문에 for문이 2배 늘었습니다. 그래서 for문을 돌리면서 change 구합니다.(Input의 왼쪽 상단에서부터 오른쪽으로 한칸씩 움직이고 끝나면 아래로 한칸 내려와서 또 한칸씩 오른쪽으로 움직이는 kernel size와 같은 array. Ex. 처음에는 [[0,0,1], [0,0,0], [0,0,0]] 이었다가 그 다음에는 [[0,1,1], [0,0,1], [0,0,1]]이 됩니다.)    \n",
    "3. 구한 change와 kernel을 3-1에서 만들어놓은 Correlate1D를 이용해서 temp에다가 넣습니다. 이때 Correlate1D를 거치면 딱 숫자 하나 값이 나오는데 그걸 temp[c]에 넣게되면 temp의 column만큼 불어납니다.(Ex. temp가 [[0,0,0],[0,0,0],[0,0,0]]인데 temp[0] = 8을 하면 [[8,8,8],[0,0,0],[0,0,0]]이 됩니다. 따라서 나중에 temp의 column값으로 나누어줍니다.)   \n",
    "4. result array에 차례대로 temp의 모든 값을 합친 것을 temp_col으로 나눠주면 원하는 결과 값을 얻을 수 있습니다."
   ]
  },
  {
   "cell_type": "markdown",
   "metadata": {},
   "source": [
    "#### PROBLEM III-3 (10 POINTS)"
   ]
  },
  {
   "cell_type": "markdown",
   "metadata": {},
   "source": [
    "To check if you have implemented Problem III-2 correctly, load `lena.jpg` and follow the instructions below. <br>  \n",
    "> * Represent original lena image and the output images from your `Correlate2D`, with the `kernel` defined below.\n",
    "> * Use `matplotlib.pyplot.imshow()` to visualize the images **in grayscale**.\n",
    "> * The images should be represented as below.  \n",
    "> * For the image at the right-bottom, corresponding kernel is **not given**. Guess which kernel is used.  \n",
    "\n",
    "![image.png](lena_result.jpg)"
   ]
  },
  {
   "cell_type": "markdown",
   "metadata": {},
   "source": [
    "### Answer: "
   ]
  },
  {
   "cell_type": "code",
   "execution_count": null,
   "metadata": {},
   "outputs": [],
   "source": [
    "from PIL import Image\n",
    "import numpy as np\n",
    "import matplotlib.pyplot as plt\n",
    "\n",
    "# Load image\n",
    "image = Image.open('./lena.jpg')\n",
    "np_image = np.array(image)\n",
    "\n",
    "## Kernels\n",
    "kernel1 = np.array([[0.0625, 0.125, 0.0625], [0.125, 0.25, 0.125], [0.0625, 0.125, 0.0625]]) # right-top\n",
    "kernel2 = np.array([[1, 0, -1], [2, 0, -2], [1, 0, -1]]) # left-bottom\n",
    "kernel3 = np.array([[1,2,1],[0,0,0],[-1,-2,-1]]) # right-bottom; Guess what it is\n",
    "\n",
    "### Visualize output images as below using kernels defined above\n",
    "\n",
    "plt.rcParams['figure.figsize']=[10,10]\n",
    "plt.figure(0)\n",
    "plt.subplot(1,3,1)\n",
    "plt.imshow(np_image, cmap='gray',vmin=0, vmax=255)\n",
    "plt.subplot(1,3,3)\n",
    "plt.imshow(Correlate2D(np_image,kernel1), cmap='gray',vmin=0, vmax=255)\n",
    "plt.figure(1)\n",
    "plt.subplot(1,3,1)\n",
    "plt.imshow(Correlate2D(np_image,kernel2), cmap='gray',vmin=0, vmax=255)\n",
    "plt.subplot(1,3,3)\n",
    "plt.imshow(Correlate2D(np_image,kernel3), cmap='gray',vmin=0, vmax=255)\n",
    "plt.show()\n"
   ]
  },
  {
   "cell_type": "markdown",
   "metadata": {},
   "source": [
    "### Describe your answer: "
   ]
  },
  {
   "cell_type": "markdown",
   "metadata": {},
   "source": [
    "1. plt.imshow의 arguments중에 cmap으로 gray scale을 만들 수 있고, vmin과 vmax를 각각 0과 255로 함으로써 color range를 0~255로 할 수 있다.(안하면 검은색은 없고 회색으로만 나옴)       \n",
    "\n",
    "2. 그리고, plt.subplot(x,y,z)를 통해 (x,y)격자를 만들어서 z번째에 image를 나타낼 수 있습니다.(근데 이게 (2,3)로 만들어서 나타냈더니 원래랑 답이 너무 다르게 나와서 (1,3)짜리를 2개 만들고 plt.figure로 쌓았더니 비슷해져서 이렇게 했습니다.)     \n",
    "\n",
    "3. 그리고 kernel3의 경우에는 kernel2와 비슷하다고 생각을 해서 계속 유추해봤는데 그 kernel2로 했을때의 왼쪽에 흰 선이 kernel3로 했을 때는 없어지는걸 보고 + 눈썹이랑 오른쪽 아래에 가로선 짙어진걸 보고 '아 이게 x축, y축 같은 건가 하고 kernel2의 행렬을 transpose 시켜봐야겠다'라고 생각을 했고, 했더니 딱 똑같이 나왔습니다."
   ]
  },
  {
   "cell_type": "markdown",
   "metadata": {},
   "source": [
    "#### PROBLEM III-4 (3 POINTS)"
   ]
  },
  {
   "cell_type": "markdown",
   "metadata": {},
   "source": [
    "Estimate computational complexity of `Correlate2D` in terms of N, M, K, L, assuming K << N, L << M. <br>\n",
    "> * N, M : input shape  \n",
    "> * K, L : kernel shape"
   ]
  },
  {
   "cell_type": "markdown",
   "metadata": {},
   "source": [
    "### Answer: "
   ]
  },
  {
   "cell_type": "markdown",
   "metadata": {},
   "source": [
    "O(N\\*M\\*K\\*L)"
   ]
  },
  {
   "cell_type": "markdown",
   "metadata": {},
   "source": [
    "### Describe your answer: "
   ]
  },
  {
   "cell_type": "markdown",
   "metadata": {},
   "source": [
    "for문을 4번을 중첩시켰는데 첫번째는 N-K+1번 반복, 두번째는 M-L+1번 반복, 세번쨰는 k번, 네번째는 L번 반복합니다.       \n",
    "이때 K << N, L << M 이므로 N-K+1 ≈ N 이고, M-L+1 ≈ M 이라고 할 수 있습니다.    \n",
    "따라서, (N-K+1)\\*(M-L+1)\\*K\\*L ≈ N\\*M\\*K\\*L 이므로 O(N\\*M\\*K\\*L)입니다."
   ]
  },
  {
   "cell_type": "markdown",
   "metadata": {},
   "source": [
    "-------------------------------"
   ]
  },
  {
   "cell_type": "markdown",
   "metadata": {},
   "source": [
    "### \\# PROBLEM IV (40 POINTS)"
   ]
  },
  {
   "cell_type": "markdown",
   "metadata": {},
   "source": [
    "Suppose you are a manager at a fast food restaurant. You are going to construct a queuing system for serving food to customers.  \n",
    "To this end, implement a **queuing algorithm** consisting of two queues named as *Preparing*, *Ready* satisfying following conditions :\n",
    "\n",
    "> 1. Each item in the queues has two elements which are initialized as they are generated.\n",
    "    - `food` : **(string)** the food served to customers, which are either one of these : 'burger', 'chicken', 'pizza', or 'doughnut'.\n",
    "    - `tag` : **(int)** indicates the order number, ranging from 1 to 999.\n",
    ">  \n",
    ">\n",
    "> 2. The queues are initialized to have certain amount of capacity parametrized as **num**.  \n",
    "This means that the queue should not contain more than **num** items in it.  \n",
    "Also, any two items inside the queues should have different `tag`.\n",
    ">\n",
    ">\n",
    "> 3. If *Preparing* is full(number of items equal to its capacity), enqueuing additional items is strictly prohibited.  \n",
    "If *Ready* is full and additional enqueuing process is required, dequeue(discard the oldest order), and enforce the enqueuing process.  \n",
    "Print out relevant messages when either one of these happens.\n",
    ">\n",
    ">\n",
    "> 4. All the items in each queue should be printed out when using **print()** function."
   ]
  },
  {
   "cell_type": "markdown",
   "metadata": {},
   "source": [
    "#### PROBLEM IV-1 (25 POINTS)"
   ]
  },
  {
   "cell_type": "markdown",
   "metadata": {},
   "source": [
    "Write a python script implementing the **queues** specified above. The queues are implemented using inheritance.  \n",
    "The two queues specified above **must** include the following methods.\n",
    "  \n",
    " * *$.size()$* : returns the number of items in the queue.\n",
    " * *$.\\_\\_str\\_\\_()$* : returns how the queue is printed out using **print()** function. Refer to demonstrations below.  \n",
    " *Hint : Use **show()** method in **Item** class.*\n",
    "     \n",
    " * *$.is\\_empty()$* : returns a boolean value indicating whether the queue is empty.\n",
    "      \n",
    " * *$.enqueue(item)$* :   \n",
    "    inserts $item$ in the queue, **satisfying conditions 2 and 3 above**.  \n",
    "    If inserting $item$ does not satisfy above conditions, print out relevant error message.\n",
    "      \n",
    " * *$.dequeue()$* :   \n",
    "    deletes / returns item in the queue, satisfying FIFO ordering property.  \n",
    "    Print out relevant error message when the queue is empty."
   ]
  },
  {
   "cell_type": "markdown",
   "metadata": {},
   "source": [
    "### Answer: "
   ]
  },
  {
   "cell_type": "code",
   "execution_count": 6,
   "metadata": {},
   "outputs": [],
   "source": [
    "class Item:\n",
    "    def __init__(self, food, tag):\n",
    "        self.food = food\n",
    "        self.tag = tag\n",
    "        \n",
    "    def show(self):\n",
    "        return str(self.tag) + 'th customer : ' + str(self.food)\n",
    "    \n",
    "class Queue:\n",
    "    def __init__(self, num):\n",
    "        # Code here #\n",
    "        self.items=[]\n",
    "        self.num = num\n",
    "    \n",
    "    def __str__(self):\n",
    "        # Code here #\n",
    "        k=''\n",
    "        for i in range(self.size()):\n",
    "            if i == self.size()-1:\n",
    "                k += self.items[i].show()\n",
    "            else:\n",
    "                k += self.items[i].show()+'\\n'\n",
    "        return k\n",
    "    \n",
    "    def size(self):\n",
    "        # Code here #\n",
    "        return len(self.items)\n",
    "    def is_empty(self):\n",
    "        # Code here #\n",
    "        return self.items == []\n",
    "    \n",
    "class Preparing(Queue):\n",
    "    def __init__(self, num):\n",
    "        Queue.__init__(self, num)\n",
    "    \n",
    "    def __str__(self):\n",
    "        return 'Preparing Queue :\\n' + Queue.__str__(self)\n",
    "    \n",
    "    def enqueue(self, item):\n",
    "        # Code here #\n",
    "        if self.size() < self.num:\n",
    "            if self.is_empty():\n",
    "                self.items.insert(0,item)\n",
    "                return 1\n",
    "            else:\n",
    "                for i in range(self.size()):\n",
    "                    if self.items[-i-1].tag == item.tag:\n",
    "                        print(\"Same tag already in queue\")\n",
    "                        return 0\n",
    "                        break\n",
    "                    else:\n",
    "                        self.items.insert(0,item)\n",
    "                        return 1\n",
    "                        break\n",
    "        else:\n",
    "            print('Preparing queue is full')\n",
    "            return 0\n",
    "        \n",
    "    def dequeue(self):\n",
    "        # Code here #\n",
    "        if not self.is_empty():\n",
    "            return self.items.pop()\n",
    "        else:\n",
    "            print(\"Preparing queue is empty\")\n",
    "    \n",
    "class Ready(Queue):\n",
    "    def __init__(self, num):\n",
    "        Queue.__init__(self, num)\n",
    "    \n",
    "    def __str__(self):\n",
    "        return 'Ready Queue :\\n' + Queue.__str__(self)\n",
    "    \n",
    "    def enqueue(self, item):\n",
    "        # Code here #\n",
    "        if self.size() < self.num:\n",
    "            self.items.insert(0,item)\n",
    "        else:\n",
    "            print(str(self.items[-1].tag) + 'th customer\\'s order is discarded')\n",
    "            self.dequeue()\n",
    "            self.items.insert(0,item)\n",
    "    def dequeue(self):\n",
    "        # Code here #\n",
    "        if not self.is_empty():\n",
    "            return self.items.pop()\n",
    "        else:\n",
    "            print(\"Queue is empty\")"
   ]
  },
  {
   "cell_type": "code",
   "execution_count": 7,
   "metadata": {},
   "outputs": [
    {
     "name": "stdout",
     "output_type": "stream",
     "text": [
      "Queue is empty\n",
      "------------------------------\n",
      "Preparing Queue :\n",
      "224th customer : chicken\n",
      "Ready Queue :\n",
      "221th customer : doughnut\n",
      "------------------------------\n",
      "Same tag already in queue\n",
      "Preparing Queue :\n",
      "324th customer : doughnut\n",
      "124th customer : chicken\n",
      "24th customer : burger\n",
      "224th customer : chicken\n",
      "------------------------------\n",
      "Preparing queue is full\n",
      "Preparing queue is full\n",
      "221th customer's order is discarded\n",
      "Ready Queue :\n",
      "124th customer : chicken\n",
      "24th customer : burger\n",
      "224th customer : chicken\n",
      "------------------------------\n"
     ]
    }
   ],
   "source": [
    "# For validation; Do not change this code\n",
    "food_list = ['burger', 'chicken', 'pizza', 'doughnut']\n",
    "\n",
    "prepare = Preparing(5)   \n",
    "ready = Ready(3)         \n",
    "\n",
    "ready.dequeue()\n",
    "print('-' * 30)\n",
    "\n",
    "prepare.enqueue(Item(food_list[3], 221))\n",
    "prepare.enqueue(Item(food_list[1], 224))\n",
    "ready.enqueue(prepare.dequeue())\n",
    "print(prepare)\n",
    "print(ready)\n",
    "print('-' * 30)\n",
    "\n",
    "for i in range(4):\n",
    "    prepare.enqueue(Item(food_list[i], 100 * i + 24))\n",
    "\n",
    "print(prepare)\n",
    "print('-' * 30)\n",
    "\n",
    "for i in range(3):\n",
    "    prepare.enqueue(Item(food_list[i], 100 * i + 26))\n",
    "\n",
    "for _ in range(3):\n",
    "    ready.enqueue(prepare.dequeue())\n",
    "print(ready)\n",
    "print('-' * 30)"
   ]
  },
  {
   "cell_type": "markdown",
   "metadata": {},
   "source": [
    "### Describe your answer: "
   ]
  },
  {
   "cell_type": "markdown",
   "metadata": {},
   "source": [
    "1. 먼저 Queue는 num을 self.num에 넣고 self.items라는 리스트를 만든다. 그리고 size는 len(self.items)로 구해서 return하고 is_empty는 self.items==[] 으로 True, False를 return한다. 그리고 \\__str__ 의 경우에는 k라는 빈 str만들고 for문으로 self.items의 크기만큼 돌면서 거기에 있는 item들을 show()를 이용해서 str으로 더해줬습니다. 이때, 마지막에는 엔터쳐지면 안되니까 \\n을 뺐습니다. 그리고 그 k를 return했습니다.       \n",
    "\n",
    "\n",
    "2. Preparing의 경우 enqueue를 할때 오른쪽이 제일 오래된거, 왼쪽이 제일 최근에 들어온 형태를 가져야 하므로 기본적으로 insert(0, item)을 사용했습니다. 이때, size가 num보다 크면 안되므로 if문으로 작을때만 넣고, 그렇지 않은 경우 'Preparing queue is full'이라는 경고문을 print 했습니다. 또한, tqg가 같은게 있으면 안되므로 for문을 이용해서 같은게 있는지 없는지 판별하고 있으면 'Same tag already in queue'라는 경고문을 print 했습니다. 그리고 break를 써서 멈췄습니다. dequeue의 경우에는 self.items가 비어있는지 아닌지를 if문으로 판별해서 비어있으면 'Preparing queue is empty'를 print했고, 안 비어있다면 pop()을 이용해서 가장 오른쪽에 있는것을 빼서 return 시켰습니다.(FIFO)     \n",
    "\n",
    "   \n",
    "3. Ready의 경우 enqueue를 할때 insert(0, item)을 똑같이 사용했고, 이미 queue가 꽉 차 있으면 가장 오래된거 버린다고 print해주고 dequeue하고 새로운 것을 insert 해줬습니다. dequeue는 비어있는지 아닌지 판별하고 비어있으면 'Queue is empty' print 해주고 안 비어있으면 pop()을 통해 가장 오래된 것을 빼냈습니다."
   ]
  },
  {
   "cell_type": "markdown",
   "metadata": {},
   "source": [
    "#### PROBLEM IV-2 (15 POINTS)"
   ]
  },
  {
   "cell_type": "markdown",
   "metadata": {},
   "source": [
    "Using *Preparing* and *Ready* class implemented above, demonstrate our queuing algorithm satisfying conditions below.  \n",
    "The simulation should last exactly 10 seconds.\n",
    "\n",
    "> 1. For every 0.2 second, a random order is placed to the *Preparing* queue. (Use *random_order()* method)\n",
    ">\n",
    ">\n",
    "> 2. For every 0.4 second, the oldest order in the *Preparing* queue is sent to the *Ready* queue.\n",
    ">\n",
    ">\n",
    "> 3. For every 0.6 second, the oldest order in the *Ready* queue is dequeued by the customer.\n",
    ">\n",
    ">\n",
    "> 4. The capacity for *Preparing* and *Ready* queue is 10 and 5 respectively.\n",
    "\n",
    "Print out relevant message every time when situation for 1 ~ 3 occurs, **specifying the order number and the food**.\n",
    "\n",
    "**Hint : Use `time.sleep()` method to delay a certain amount of time.**"
   ]
  },
  {
   "cell_type": "code",
   "execution_count": 12,
   "metadata": {},
   "outputs": [
    {
     "name": "stdout",
     "output_type": "stream",
     "text": [
      "423th customer's chicken is preparing\n",
      "757th customer's burger is preparing\n",
      "423th customer's chicken is ready\n",
      "548th customer's chicken is preparing\n",
      "423th customer's chicken is taken\n",
      "39th customer's burger is preparing\n",
      "757th customer's burger is ready\n",
      "947th customer's pizza is preparing\n",
      "51th customer's pizza is preparing\n",
      "548th customer's chicken is ready\n",
      "757th customer's burger is taken\n",
      "963th customer's doughnut is preparing\n",
      "546th customer's pizza is preparing\n",
      "39th customer's burger is ready\n",
      "965th customer's chicken is preparing\n",
      "548th customer's chicken is taken\n",
      "675th customer's burger is preparing\n",
      "947th customer's pizza is ready\n",
      "135th customer's chicken is preparing\n",
      "767th customer's burger is preparing\n",
      "51th customer's pizza is ready\n",
      "39th customer's burger is taken\n",
      "221th customer's burger is preparing\n",
      "725th customer's pizza is preparing\n",
      "963th customer's doughnut is ready\n",
      "1th customer's burger is preparing\n",
      "947th customer's pizza is taken\n",
      "340th customer's pizza is preparing\n",
      "546th customer's pizza is ready\n",
      "530th customer's pizza is preparing\n",
      "314th customer's pizza is preparing\n",
      "965th customer's chicken is ready\n",
      "51th customer's pizza is taken\n",
      "976th customer's pizza is preparing\n",
      "Preparing queue is full\n",
      "675th customer's burger is ready\n",
      "358th customer's pizza is preparing\n",
      "963th customer's doughnut is taken\n",
      "Preparing queue is full\n",
      "135th customer's chicken is ready\n",
      "815th customer's burger is preparing\n",
      "Preparing queue is full\n",
      "767th customer's burger is ready\n",
      "546th customer's pizza is taken\n",
      "803th customer's burger is preparing\n",
      "Preparing queue is full\n",
      "221th customer's burger is ready\n",
      "944th customer's burger is preparing\n",
      "965th customer's chicken is taken\n",
      "Preparing queue is full\n",
      "725th customer's pizza is ready\n",
      "364th customer's chicken is preparing\n",
      "Preparing queue is full\n",
      "675th customer's order is discarded\n",
      "1th customer's burger is ready\n",
      "135th customer's chicken is taken\n",
      "597th customer's pizza is preparing\n",
      "Preparing queue is full\n",
      "340th customer's pizza is ready\n",
      "446th customer's chicken is preparing\n",
      "767th customer's burger is taken\n",
      "Preparing queue is full\n",
      "530th customer's pizza is ready\n",
      "445th customer's burger is preparing\n",
      "Preparing queue is full\n",
      "221th customer's order is discarded\n",
      "314th customer's pizza is ready\n",
      "725th customer's pizza is taken\n",
      "479th customer's pizza is preparing\n",
      "Preparing queue is full\n",
      "976th customer's pizza is ready\n",
      "571th customer's burger is preparing\n",
      "1th customer's burger is taken\n",
      "Preparing queue is full\n",
      "358th customer's pizza is ready\n",
      "569th customer's burger is preparing\n",
      "Preparing queue is full\n",
      "340th customer's order is discarded\n",
      "815th customer's burger is ready\n",
      "530th customer's pizza is taken\n",
      "134th customer's chicken is preparing\n",
      "Preparing queue is full\n",
      "803th customer's burger is ready\n",
      "922th customer's doughnut is preparing\n",
      "314th customer's pizza is taken\n",
      "Preparing queue is full\n",
      "944th customer's burger is ready\n",
      "500th customer's pizza is preparing\n",
      "Preparing queue is full\n",
      "976th customer's order is discarded\n",
      "364th customer's chicken is ready\n",
      "358th customer's pizza is taken\n",
      "37th customer's pizza is preparing\n",
      "Preparing queue is full\n",
      "597th customer's pizza is ready\n",
      "------------------------------\n",
      "10.078079462051392\n"
     ]
    }
   ],
   "source": [
    "import time\n",
    "import random\n",
    "\n",
    "prepare = Preparing(10)\n",
    "ready = Ready(5)\n",
    "\n",
    "def random_order():\n",
    "    return Item(food_list[random.randint(0, 3)], random.randint(1, 999))\n",
    "\n",
    "def pr():\n",
    "    a = random_order()\n",
    "    k = prepare.enqueue(a)\n",
    "    if k == 1:\n",
    "        print(str(a.tag)+'th customer\\'s '+str(a.food)+' is preparing')\n",
    "\n",
    "def rd():\n",
    "    b = prepare.dequeue()\n",
    "    ready.enqueue(b)\n",
    "    print(str(b.tag)+'th customer\\'s '+str(b.food)+' is ready')\n",
    "    \n",
    "def take():\n",
    "    c = ready.dequeue()\n",
    "    print(str(c.tag)+'th customer\\'s '+str(c.food)+' is taken')\n",
    "\n",
    "###########\n",
    "start = time.time()\n",
    "n = 1\n",
    "while n <51:\n",
    "    time.sleep(0.2)\n",
    "    pr()\n",
    "    if n%2 == 0:\n",
    "        rd()\n",
    "    if n%3 == 0:\n",
    "        take()\n",
    "    n+=1\n",
    "###########\n",
    "fin = time.time()\n",
    "print('-' * 30)\n",
    "print(fin-start)"
   ]
  },
  {
   "cell_type": "markdown",
   "metadata": {},
   "source": [
    "### Describe your answer: "
   ]
  },
  {
   "cell_type": "markdown",
   "metadata": {},
   "source": [
    "1. pr() 이라는 prepare.enqueue하는 함수를 만들었습니다. 이때 위에서 Preparing.enqueue함수에서 queue안에 insert가 되면 1을 제대로 들어가지 않으면 0을 return 하게끔 했습니다. 그래서 k = prepare.enqueue(a) 라고 해놓고 k = 1 이면 제대로 들어간 것이므로 준비중이라고 print했고, 제대로 안들어갔다면(꽉 찼거나, 같은 tag있으면) enqueue 함수 내에서 print가 되기 때문에 그냥 납뒀습니다.      \n",
    "\n",
    "\n",
    "2. rd() 라는 ready.enqueue 함수를 실행하고 준비한다고 print 해주는 함수를 만들었습니다.     \n",
    "\n",
    "\n",
    "3. take()라는 ready.dequeue 함수를 실행하고 가져갔다고 print 해주는 함수를 만들었습니다.     \n",
    "\n",
    "\n",
    "4. 그래서 이렇게 정의한 함수들을 n=1로 초기화한 상태에서 while n<51: 일때까지 반복시켰습니다(0.2 x 50 = 10 이므로). 이때, 처음에 time.sleep(0.2)로 0.2초 쉬고 pr() 실행하고, rd()는 0.4초 마다 실행이므로 n이 2의 배수일 때마다 실행하게끔 n%2==0 일때 실행하게 했고, 마찬가지로 take()도 0.6초 마다 실행이므로 n이 3의 배수일 때마다 실행하게끔 했습니다. 그리고 나서 n에 1 더하면서 반복시켰습니다. 그러면 n=50일때 10초가 되면서 끝나게 됩니다.      "
   ]
  },
  {
   "cell_type": "markdown",
   "metadata": {},
   "source": [
    "## References\n",
    "___\n",
    "* https://github.com/PetarV-/TikZ/tree/master/2D%20Convolution\n",
    "* https://www.researchgate.net/figure/a-Simple-scheme-of-a-one-dimension-1D-convolutional-operation-b-Full_fig2_334609713"
   ]
  },
  {
   "cell_type": "markdown",
   "metadata": {},
   "source": [
    "-------------------------------"
   ]
  }
 ],
 "metadata": {
  "anaconda-cloud": {},
  "kernelspec": {
   "display_name": "Python 3",
   "language": "python",
   "name": "python3"
  },
  "language_info": {
   "codemirror_mode": {
    "name": "ipython",
    "version": 3
   },
   "file_extension": ".py",
   "mimetype": "text/x-python",
   "name": "python",
   "nbconvert_exporter": "python",
   "pygments_lexer": "ipython3",
   "version": "3.7.7"
  }
 },
 "nbformat": 4,
 "nbformat_minor": 1
}
