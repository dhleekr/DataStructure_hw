{
 "cells": [
  {
   "cell_type": "markdown",
   "metadata": {},
   "source": [
    "> ### EEE2020-04: Data Structures & Algorithms\n",
    "\n",
    "# Assignment \\# III: List & Recursion"
   ]
  },
  {
   "cell_type": "markdown",
   "metadata": {},
   "source": [
    "<div style=\"text-align: right\"> **Due date: May 29, 2020.** </div> \n",
    "<div style=\"text-align: right\"> **Please upload your file @ yscec by 9 PM.** </div> \n",
    "<br>\n",
    "<div style=\"text-align: right\"> Donghyeon Baek(백동현): <a href=\"mailto:dh_baek@yonsei.ac.kr\">dh_baek@yonsei.ac.kr</a> \n",
    "<div style=\"text-align: right\"> Jaehyeon Moon(문재현): <a href=\"mailto:tw02137@yonsei.ac.kr\">tw02137@yonsei.ac.kr</a> </div>\n",
    "</div>"
   ]
  },
  {
   "cell_type": "markdown",
   "metadata": {},
   "source": [
    "-------------------------------"
   ]
  },
  {
   "cell_type": "markdown",
   "metadata": {},
   "source": [
    "\n",
    "### *Assignment Instructions:*\n",
    "1. Write a program implementing a particular algorithm to solve a given problem.\n",
    "2. You can use both Korean and Engligh for your report.\n",
    "3. Since this is your first assignment of the course, comprehensive instructions are given for particular problems.  \n",
    " However, note that this might not be the case for further assignments over the course.\n",
    "4. **Analyze the algorithm, theoretically and empirically, and write discussion.** \n",
    "5. **Report your results.**  \n",
    "    - You must do assignments and labs yourself. \n",
    "    - <span style=\"color:red\">**Do not copy any part of your friends’ code.**</span>\n",
    "    - Otherwise, you will get a F grade."
   ]
  },
  {
   "cell_type": "markdown",
   "metadata": {},
   "source": [
    "-----------------"
   ]
  },
  {
   "cell_type": "markdown",
   "metadata": {},
   "source": [
    "<h2><span style=\"color:blue\">[Insert your ID HERE] [Insert your name HERE]</span> </h2>"
   ]
  },
  {
   "cell_type": "code",
   "execution_count": null,
   "metadata": {},
   "outputs": [],
   "source": [
    "import datetime\n",
    "print(\"This code is written at \" + str(datetime.datetime.now()))"
   ]
  },
  {
   "cell_type": "markdown",
   "metadata": {},
   "source": [
    "-------------------------------"
   ]
  },
  {
   "cell_type": "markdown",
   "metadata": {},
   "source": [
    "### PROBLEM I - Linked List (15 POINTS)"
   ]
  },
  {
   "cell_type": "markdown",
   "metadata": {},
   "source": [
    "Let us suppose that each node is linked to one of N nodes, where N is the number of nodes. The node can be linked to any other nodes including itself. Let's count the number of loops for ramdomly-linked nodes.\n",
    "\n",
    "> A loop is defined as a set of nodes. A node can point out another one, making a path between them, and we can traverse the nodes along the path. If starting and ending nodes are the same, we call the set of nodes traversed as a loop. See the example shown below. The number of loop in this case is 3. For example, nodes 3 and 4 make a loop. Note that we can define a self-loop, e.g., the node 9. The node 5 is not a member of the loop composed of nodes 7, 8, and 6.\n",
    ">\n",
    "> $\\texttt{point}$ is a list that records the name of the next node for each one. The node 0 is linked to the node 1, the node 1 is linked to the node 2, and so on in the example shown below. Then, values in the list of $\\texttt{point}$ for the nodes 0 and 1 are 1 and 2, respectively, i.e., $\\texttt{point[0]=1}$ and $\\texttt{point[0]=2}$.\n",
    ">\n",
    "> $\\texttt{nodes}$ is a list of N nodes, instances of the $\\texttt{Node_}$ class. For the simplicity, we assume that a data field for each node is the index of the list itself. For example, the node 0 should be located in $\\texttt{nodes[0]}$ and the corresponding data field is 0. A simple exmaple shown below shows the case of two nodes. Note that your algorithm should work for an arbitrary number of nodes. \n",
    "> ```python\n",
    "self.nodes = [Node(0), Node(1)]\n",
    "```\n",
    ">\n",
    "> **Example**\n",
    ">\n",
    "><img src = \"https://drive.google.com/uc?id=1zXbNtmoVbIPQ3Vw-2LRbYNLwfWWxykVP\" alt=\"add_attribute\" width=\"400\">\n",
    ">\n",
    ">> **Input**\n",
    "> ```python\n",
    "point = [1, 2, 3, 4, 3, 8, 7, 8, 6, 9]\n",
    "```\n",
    ">> **Output**\n",
    "```\n",
    "The number of loops:  3\n",
    "4 -> 3\n",
    "7 -> 8 -> 6\n",
    "9\n",
    "```\n",
    "\n",
    "1. ```python\n",
    "def link_nodes(self)\n",
    "```\n",
    "> Link each node to others using $\\texttt{point}$.\n",
    "\n",
    "2. ```python\n",
    "def cal_loops(self)\n",
    "```\n",
    "> Comput the number of loops. \n",
    "\n",
    "3. ```python\n",
    "def print_loops(self)\n",
    "```\n",
    "> Print nodes and paths for each loop. Please refer to the sample codes for details.\n"
   ]
  },
  {
   "cell_type": "markdown",
   "metadata": {},
   "source": [
    "### Implementation"
   ]
  },
  {
   "cell_type": "code",
   "execution_count": null,
   "metadata": {},
   "outputs": [],
   "source": [
    "import random\n",
    "from collections import OrderedDict\n",
    "\n",
    "class Node_:\n",
    "    def __init__(self, data_init):\n",
    "        self.__data = data_init\n",
    "        self.__next = None\n",
    "        \n",
    "    def get_data(self):\n",
    "        return self.__data\n",
    "    \n",
    "    def get_next(self):\n",
    "        return self.__next\n",
    "    \n",
    "    def set_data(self, new_alpha):\n",
    "        self.__data = new_alpha\n",
    "        \n",
    "    def set_next(self, new_next):\n",
    "        assert (isinstance(new_next, Node_) or new_next==None)\n",
    "        self.__next = new_next"
   ]
  },
  {
   "cell_type": "code",
   "execution_count": null,
   "metadata": {},
   "outputs": [],
   "source": [
    "class Problem1():\n",
    "    def __init__(self, n, point):\n",
    "        '''\n",
    "        Parameters:\n",
    "        n(int): The number of total nodes\n",
    "        nodes(list): List of N nodes(Node_)\n",
    "        point(list): Destinations of each node\n",
    "        \n",
    "        **DO NOT ADD ANY OTHER INPUT PARAMETERS**\n",
    "        '''       \n",
    "        self.nodes = ## CODE HERE ##\n",
    "        self.point = ## CODE HERE ##\n",
    "        ## CODE HERE, IF you need ##\n",
    "        \n",
    "    def link_nodes(self):\n",
    "        '''\n",
    "        Link each node to others using $\\texttt{point}$(list, class variable)\n",
    "\n",
    "        Returns:\n",
    "        (nothing)\n",
    "        '''\n",
    "        ## CODE HERE ##\n",
    "\n",
    "    def cal_loops(self):\n",
    "        '''\n",
    "        Comput the number of loops\n",
    "        \n",
    "        Returns:\n",
    "        (int): return the number of loops\n",
    "        '''\n",
    "        ## CODE HERE ##\n",
    "    \n",
    "    def print_loops(self):\n",
    "        '''\n",
    "        Print nodes and paths for each loop.\n",
    "        \n",
    "        Returns:\n",
    "        (nothing): Print out all loops\n",
    "        '''\n",
    "        ## CODE HERE ##"
   ]
  },
  {
   "cell_type": "markdown",
   "metadata": {},
   "source": [
    "### Sample Code"
   ]
  },
  {
   "cell_type": "code",
   "execution_count": null,
   "metadata": {},
   "outputs": [],
   "source": [
    "answer = Problem1(10, [1, 2, 3, 4, 3, 8, 7, 8, 6, 9])\n",
    "print(\"The number of loops: \", answer.cal_loops())\n",
    "answer.print_loops()\n",
    "\n",
    "print()\n",
    "\n",
    "n = 100\n",
    "answer = Problem1(n, [random.randint(0,n-1) for i in range(n)]) # Link randomly\n",
    "print(\"The number of loops: \", answer.cal_loops())\n",
    "answer.print_loops()"
   ]
  },
  {
   "cell_type": "markdown",
   "metadata": {},
   "source": [
    "### Describe your answer: "
   ]
  },
  {
   "cell_type": "markdown",
   "metadata": {},
   "source": [
    "Description Here"
   ]
  },
  {
   "cell_type": "markdown",
   "metadata": {},
   "source": [
    "-----------------"
   ]
  },
  {
   "cell_type": "markdown",
   "metadata": {},
   "source": [
    "### PROBLEM II - Doubly Linked List (50 POINTS)"
   ]
  },
  {
   "cell_type": "markdown",
   "metadata": {},
   "source": [
    "A doubly linked list is a variant of the linked list, where each node (or entry) points out two nodes instead of a single one. For comparison, nodes in the linked list can traverse in a single direction, i.e., from head to tail, since it could contain information of the next node only. In contrast, we can also traverse in other direction using the doubly linked list."
   ]
  },
  {
   "cell_type": "markdown",
   "metadata": {},
   "source": [
    "Write your code to complete the $\\texttt{DoublyLinkedList}$ Class. The following figure shows a configuration of the calss. \n",
    "\n",
    "<img src = \"https://drive.google.com/uc?id=1NVyN3cyehZV1Ll0K1ufUMWhyfpCQtPvH\" alt=\"DoublyLinkedList\" width=800>\n",
    "\n",
    "\n",
    "1. ```python\n",
    "def __len__(self)\n",
    "```\n",
    "> Returns the number of entries.\n",
    "\n",
    "2. ```python\n",
    "def is_empty(self)\n",
    "```\n",
    "> Checks $\\texttt{DoublyLinkedList}$ has entries or not.\n",
    "\n",
    "3. ```python \n",
    "def data_list(self, inverse=False)\n",
    "```\n",
    "> The $\\texttt{printpd()}$ method provided prints out a list of nodes in a form of a table. It requires an additional process to make a two-dimensional list using a $\\texttt{data_list()}$ method.\n",
    ">\n",
    "> The figure shown below shows the output of the $\\texttt{data_list()}$ method. Each column stores data of nodes sequentially from head to tail, while each row records attributes of each node. \n",
    ">\n",
    "> <img src = \"https://drive.google.com/uc?id=18wa1ndKoUPSpEq6QGM_J-tV1TC-gVmd9\" alt=\"data_list\">\n",
    ">\n",
    "> If $\\texttt{inverse}$ is $\\texttt{True}$, construct the list to print out the nodes in a reverse order. Please refer to the sample code for details.\n",
    ">\n",
    "> If the $\\texttt{DoublyLinkedList}$ is empty, return $\\texttt{False}$.\n",
    "\n",
    "4. ```python\n",
    "def search(self, attr, item)\n",
    "```\n",
    "> Find a node whose $\\texttt{attr}$ is the same as that of $\\texttt{item}$.\n",
    ">\n",
    "> If there are more than one nodes satisfying the condition, find the nearest node from head.\n",
    ">\n",
    "> Return $\\texttt{False}$, if you can not find the corresponding node.\n",
    "\n",
    "5. ```python\n",
    "def add_entry(self, item, index=0)\n",
    "```\n",
    "> Insert $\\texttt{item}$ (node) at the position of $\\texttt{index}$. \n",
    ">\n",
    ">Existing nodes are shifted down. For example, as shown in the figure below, if index is 4 or -1, the entry is added at the tail. \n",
    ">\n",
    "> <img src = \"https://drive.google.com/uc?id=10dxg5brVfj8DWUjOaaWb88mq2ewUS6-c\" alt=\"add_enty\">\n",
    "> \n",
    ">A condition for valid indicies for the number of nodes is as follows:\n",
    "> <img src = \"https://drive.google.com/uc?id=12Sc24O3i1ye1KPuFNlL9cTo-Uw2tBSx8\" alt=\"data_list\">\n",
    "> For example, the valid indices are -5, -4, -3, -2,- 1, 0, 1, 2, 3, 4, when the number of nodes is 4.\n",
    ">\n",
    "> If $\\texttt{index}$ is out of range, return $\\texttt{False}$ immediately to check the failure. Proceed and return $\\texttt{True}$ otherwise.\n",
    ">\n",
    "\n",
    "6. ```python\n",
    "def add_attribute(self, attr, index=-1, default_value=None)\n",
    "```\n",
    "> Add $\\texttt{attr}$ at the position of $\\texttt{index}$. \n",
    ">\n",
    "> Existing attributes are shifted right. For example, as shown in the figure below, if index is 4 or -1, the entry is added at the last. \n",
    "> <img src = \"https://drive.google.com/uc?id=1LeMJzzG8N99I_E71MgtZaBRlfk4LQydo\" alt=\"add_attribute\">\n",
    "> \n",
    "> If the $\\texttt{DoublyLinkedList}$ has entries, insert a $\\texttt{default_value}$ to each data field at $\\texttt{index(i)}$.\n",
    ">\n",
    ">A condition for valid indicies for the number of nodes is as follows:\n",
    "> <img src = \"https://drive.google.com/uc?id=1eUr6R-GG16wrrd08TtWvu4hK7GtXIaSJ\" alt=\"add_attribute_constraint\">\n",
    "> For example, the valid indices are -5, -4, -3, -2,- 1, 0, 1, 2, 3, 4, when the number of nodes is 4.\n",
    "> If $\\texttt{index}$ is out of range, return $\\texttt{False}$ immediately to check the failure.\n",
    ">\n",
    ">\n",
    "> If $\\texttt{attr}$ is already in the list, also return $\\texttt{False}$ immediately.\n",
    "\n",
    "\n",
    "7. ```python\n",
    "def rm_entry(self, item)\n",
    "```\n",
    "> Remove $\\texttt{item}$ from the doubly linked list.\n",
    "\n",
    "\n",
    "8. ```python\n",
    "def rm_attribute(self, attr)\n",
    "```\n",
    "> Remove $\\texttt{attr}$ values from each node."
   ]
  },
  {
   "cell_type": "markdown",
   "metadata": {},
   "source": [
    "### Implementation"
   ]
  },
  {
   "cell_type": "code",
   "execution_count": null,
   "metadata": {},
   "outputs": [],
   "source": [
    "'''\n",
    "*** Do Not Touch(Modify) Here (class 'Node') ***\n",
    "'''\n",
    "import numpy as np\n",
    "import pandas as pd\n",
    "\n",
    "class Node(Node_):\n",
    "    def __init__(self, data_init):\n",
    "        Node_.__init__(self, data_init)\n",
    "        self.__prev = None\n",
    "\n",
    "    def get_prev(self):\n",
    "        return self.__prev\n",
    "    \n",
    "    def set_prev(self, new_prev):\n",
    "        assert (isinstance(new_prev, Node) or new_prev==None)\n",
    "        self.__prev = new_prev"
   ]
  },
  {
   "cell_type": "code",
   "execution_count": null,
   "metadata": {},
   "outputs": [],
   "source": [
    "class DoublyLinkedList:\n",
    "    def __init__(self, attribute=None):\n",
    "        self.head = None\n",
    "        self.tail = None\n",
    "        self.__attribute = attribute\n",
    "    \n",
    "    def __len__(self):\n",
    "        '''\n",
    "        Returns:\n",
    "        (int): The number of nodes(entries)\n",
    "       '''\n",
    "        ## CODE HERE ##\n",
    "    \n",
    "    def is_empty(self):\n",
    "        '''\n",
    "        Returns:\n",
    "        (bool): Check rather list has node(entry) or not\n",
    "        '''\n",
    "        ## CODE HERE ##\n",
    "    \n",
    "    def printpd(self, inverse=False):\n",
    "        if self.data_list(inverse):\n",
    "            data = self.data_list(inverse)\n",
    "        else:\n",
    "            return False\n",
    "        \n",
    "        dic = {}\n",
    "        for i, attribute in enumerate(self.__attribute):\n",
    "            dic[attribute] = np.array(data[i])\n",
    "        df = pd.DataFrame(dic)\n",
    "        display(df)\n",
    "    \n",
    "    def data_list(self, inverse=False):\n",
    "        '''\n",
    "        Parameters:\n",
    "        inverse(bool): When False, print the table head to tail ordering\n",
    "                       When True, print reversely\n",
    "        \n",
    "        Returns:\n",
    "        (list or bool): Two-dimensional list to print out a table using pandas\n",
    "                        if Doubly linked list is empty, return False\n",
    "        '''\n",
    "        ## CODE HERE ##\n",
    "        \n",
    "        \n",
    "    def search(self, attr, item):\n",
    "        '''\n",
    "        Parameters:\n",
    "        attr(str): attribution of each node, where to check the item has or not \n",
    "        item(str or int): the target item to search\n",
    "\n",
    "        Returns:\n",
    "        (Node or bool): Return Node that we want to find.\n",
    "                        Else return False to notice that method doesn't work well\n",
    "        '''\n",
    "        ## CODE HERE ##\n",
    "        \n",
    "    def add_entry(self, item, index=0):\n",
    "        '''\n",
    "        Parameters:\n",
    "        item (Node): The node that we want to add from doubly linked list\n",
    "        index (int): Index where to add entry\n",
    "        \n",
    "        Returns:\n",
    "        (bool): Return True if remove given item properly.\n",
    "                Else return False to notice that method doesn't work well\n",
    "        '''\n",
    "        ## CODE HERE ##\n",
    "        \n",
    "    def add_attribute(self, attr, index=-1, default_value=None):\n",
    "        '''\n",
    "        Parameters:\n",
    "        attr(str): attribute that we want to add from doubly linked list\n",
    "        index(int): Index where to add attribute\n",
    "        default_value(str or int):\n",
    "        \n",
    "        Returns:\n",
    "        (bool): Return True if adding attribute is successed.\n",
    "                Else return False to notice that method doesn't work well\n",
    "        '''\n",
    "        ## CODE HERE ##\n",
    "        \n",
    "    def rm_entry(self, item):\n",
    "        '''\n",
    "        Parameters:\n",
    "        item (Node): The node that we want to remove from doubly linked list\n",
    "\n",
    "        Returns:\n",
    "        (bool): Return True if remove given item properly.\n",
    "                Else return False to notice that method doesn't work well\n",
    "        '''\n",
    "        ## CODE HERE ##\n",
    "        \n",
    "        \n",
    "    def rm_attribute(self, attr):\n",
    "        '''\n",
    "        Parameters:\n",
    "        att (str): The attribute that we want to remove from doubly linked list\n",
    "\n",
    "        Returns:\n",
    "        (bool): Return True if remove given attribute properly.\n",
    "                Else return False to notice that method doesn't work well\n",
    "        '''\n",
    "        ## CODE HERE ##"
   ]
  },
  {
   "cell_type": "markdown",
   "metadata": {},
   "source": [
    "### Sample Code"
   ]
  },
  {
   "cell_type": "markdown",
   "metadata": {},
   "source": [
    "#### **Note** \n",
    "> The following is just one of example sets for your undestand of the problem and for the sanity check as well. \n",
    "> Note that your code will be run on different sets, simulating more general cases, at test time. "
   ]
  },
  {
   "cell_type": "code",
   "execution_count": null,
   "metadata": {},
   "outputs": [],
   "source": [
    "a = Node(['2019-1', 'EEE2010', 'BASIC CIRCUIT THEORY', 4])\n",
    "b = Node(['2019-1', 'EEE2020', 'DATA STRUCTURE AND ALGORITHMS', 4])\n",
    "c = Node(['2019-1', 'EEE2030', 'ELECTRICITY', 4])\n",
    "d = Node(['2019-1', 'EEE2040', 'DIGITAL LOGIC CIRCUITS', 4])\n",
    "e = Node(['2000', '2019-1', 'EEE2040', 'DIGITAL LOGIC CIRCUITS', 4])"
   ]
  },
  {
   "cell_type": "code",
   "execution_count": null,
   "metadata": {},
   "outputs": [],
   "source": [
    "courses = DoublyLinkedList(['Semester', 'Course Code', 'Course Name', 'Credits'])"
   ]
  },
  {
   "cell_type": "code",
   "execution_count": null,
   "metadata": {},
   "outputs": [],
   "source": [
    "courses.printpd(False)\n",
    "\n",
    "print()\n",
    "print('1', courses.add_entry(b))\n",
    "print('2', courses.add_entry(a, -4)) # out of range\n",
    "print('3', courses.add_entry(a, 0))\n",
    "print('4', courses.add_entry(d, -1))\n",
    "print('5', courses.add_entry(c, -2))\n",
    "print('6', courses.add_entry(e, 0)) # attrbute size is unfitted\n",
    "\n",
    "courses.printpd(False)\n",
    "courses.printpd(True)"
   ]
  },
  {
   "cell_type": "code",
   "execution_count": null,
   "metadata": {},
   "outputs": [],
   "source": [
    "print('1', courses.search('Course Code','CSE2020')) # There are no 'CSE2020'\n",
    "print('2', courses.search('Course Code','EEE2020'))\n",
    "print('3', courses.search('Course Name','EEE2020')) # 'EEE2020' is not in Course Name\n",
    "print('4', courses.rm_entry(courses.search('Course Code','EEE2020')))\n",
    "print('5', courses.rm_entry(courses.search('Course Code','EEE2020'))) # There are no 'EEE2020', it already deleted\n",
    "\n",
    "courses.printpd()"
   ]
  },
  {
   "cell_type": "code",
   "execution_count": null,
   "metadata": {},
   "outputs": [],
   "source": [
    "print('1', courses.rm_attribute('Professor')) # There is no 'Professor' attribute in list\n",
    "print('2', courses.rm_attribute('Semester'))\n",
    "print('3', courses.rm_attribute('Semester')) # Semester is already removed\n",
    "courses.printpd()"
   ]
  },
  {
   "cell_type": "code",
   "execution_count": null,
   "metadata": {},
   "outputs": [],
   "source": [
    "print('1', courses.add_attribute('Semester', index=0, default_value='2020-1'))\n",
    "print('2', courses.add_attribute('Credits', default_value=3)) # Credit is already in the attribute\n",
    "courses.printpd()"
   ]
  },
  {
   "cell_type": "markdown",
   "metadata": {},
   "source": [
    "### Describe your answer: "
   ]
  },
  {
   "cell_type": "markdown",
   "metadata": {},
   "source": [
    "Description Here"
   ]
  },
  {
   "cell_type": "markdown",
   "metadata": {},
   "source": [
    "-----------------"
   ]
  },
  {
   "cell_type": "markdown",
   "metadata": {},
   "source": [
    "### PROBLEM III -  Recursion (5 POINTS)"
   ]
  },
  {
   "cell_type": "markdown",
   "metadata": {},
   "source": [
    "> We can write a code to solve a 'recurrence relation', which could be solved more effectively using recursion. Write your code to solve the following problem <span style=\"color:red\">using recursion</span>.\n",
    ">\n",
    ">>Suppose that a sequence of $\\{a_n\\}$, where $a_2=-1$, $a_3=2$. \n",
    ">>\n",
    ">>The recurrence relation of the sequence is defined as follows: \n",
    ">>\n",
    ">>$2a_{n+1}$ = $a_{n}$ + $a_{n+2}$ $(n=\\cdots, -2, -1, 0,1,2,\\cdots)$.\n",
    ">>\n",
    ">> Compute $\\sum_{n=-5}^{10}a_n$.\n",
    ">\n",
    "> Here, we do not provide an answer. Please solve the problem by yourself, and check whether your solution is the same or not as the one obtained by you code. \n"
   ]
  },
  {
   "cell_type": "markdown",
   "metadata": {},
   "source": [
    "### Implementation"
   ]
  },
  {
   "cell_type": "code",
   "execution_count": null,
   "metadata": {},
   "outputs": [],
   "source": []
  },
  {
   "cell_type": "markdown",
   "metadata": {},
   "source": [
    "### Describe your answer: "
   ]
  },
  {
   "cell_type": "markdown",
   "metadata": {},
   "source": [
    "Description Here"
   ]
  },
  {
   "cell_type": "markdown",
   "metadata": {},
   "source": [
    "-----------------"
   ]
  },
  {
   "cell_type": "markdown",
   "metadata": {},
   "source": [
    "### PROBLEM IV - Recursion (Advanced) (30 POINTS)"
   ]
  },
  {
   "cell_type": "markdown",
   "metadata": {},
   "source": [
    "> Write a code to complete the $\\texttt{Maze}$ class. The maze map problem aims at finding possible paths starting from the blank(o) to the finish point (F). Please see the sample code provided for details. \n",
    ">\n",
    ">The maze map can have three components: Blank (o), Wall (+), and Finish (F). We can start any blanks (o) to find the paths. \n",
    ">\n",
    ">To this  end, we have four choices: left, right, up, and down. We are not allowed to pass through the Wall (+), and can move toward either Blank (o) or Finish (F) only. We are not allowed to go outside of the given maze map. \n",
    "\n",
    "\n",
    "\n",
    "#### **Instruction**\n",
    "\n",
    "> 1. Complete search method\n",
    "```python\n",
    "def search(self, y, x)\n",
    "```\n",
    ">> Determine whether we can find any paths starting from (y, x) for the the maze map.\n",
    ">>\n",
    ">> You <span style=\"color:red\">must use recursion.</span> \n",
    ">> You can use additional input parameters if you need.\n",
    ">\n",
    "> 2. Complete solve method\n",
    "```python\n",
    "def solve(self, y, x)\n",
    "```\n",
    ">> Find and print a single line path for the maze map. You can not revisit the position previously visited. In other words, the line of the path must not overlap itself when drawn in a single line. It does not need to be the shortest path. Add marker(S) at starting point. See the example provided for your understand.\n",
    ">> You can use additional input parameters if you need.\n",
    "\n",
    "\n",
    "> Make sure that we will test your code on various maze maps.\n",
    ">\n",
    "> Do not directly use given maps or distort them. That is, after the execution of search or solve methods, the map should be the same as before calling the methods. "
   ]
  },
  {
   "cell_type": "markdown",
   "metadata": {},
   "source": [
    "### Implementation"
   ]
  },
  {
   "cell_type": "code",
   "execution_count": null,
   "metadata": {},
   "outputs": [],
   "source": [
    "import numpy as np\n",
    "\n",
    "class Maze():\n",
    "    def __init__(self, grid):\n",
    "        '''\n",
    "        Parameters:\n",
    "        grid (list): The maze map to solve\n",
    "        \n",
    "        **YOU CAN NOT ADD ANY OTHER INPUT PARAMETERS **\n",
    "       '''\n",
    "        ### CODE HERE ###\n",
    "        \n",
    "    def search(self, y, x):\n",
    "        '''\n",
    "        Parameters:\n",
    "        y (int): Start location of y\n",
    "        x (int): Start location of x\n",
    "        \n",
    "        **The starting point is (y,x)\n",
    "        **The coordinates for the left-top, left-bottom, right-top, and right-bottom are \n",
    "        ** (0,0), (N,0), (0,N), (N,N), respectively, for the maze map of size N by N.\n",
    "        **YOU CAN ADD ANY OTHER INPUT PARAMETERS IF YOU WANT**\n",
    "        **DESCRIBE THE ADDITIONAL PARAMETERS IN YOUR DESCRIPTION**\n",
    "\n",
    "        Returns:\n",
    "        (bool): If maze has solution or not, return True or False respectively\n",
    "\n",
    "       '''\n",
    "        ### CODE HERE ###\n",
    "        \n",
    "    def solve(self, y, x):\n",
    "        '''\n",
    "        Parameters:\n",
    "        y (int): Start location of y\n",
    "        x (int): Start location of x\n",
    "        \n",
    "        **The starting point is (y,x)\n",
    "        **The coordinates for the left-top, left-bottom, right-top, and right-bottom are \n",
    "        ** (0,0), (N,0), (0,N), (N,N), respectively, for the maze map of size N by N.\n",
    "        **YOU CAN ADD ANY OTHER INPUT PARAMETERS IF YOU WANT**\n",
    "        **DESCRIBE THE ADDITIONAL PARAMETERS IN YOUR DESCRIPTION**\n",
    "\n",
    "        Returns:\n",
    "        (nothing): Print out a single path solution\n",
    "\n",
    "       '''\n",
    "        if self.search(y, x):\n",
    "            print(\"Solution\")\n",
    "            ### CODE HERE ###\n",
    "        else:\n",
    "            print('There are NO solutions')"
   ]
  },
  {
   "cell_type": "markdown",
   "metadata": {},
   "source": [
    "### Sample Code"
   ]
  },
  {
   "cell_type": "code",
   "execution_count": null,
   "metadata": {},
   "outputs": [],
   "source": [
    "grid1 = ['o o o o o o'.split(' '),\n",
    "         '+ + o + + +'.split(' '),\n",
    "         'o + o o o o'.split(' '),\n",
    "         'o o o + + o'.split(' '),\n",
    "         'o o o + + F'.split(' ')]\n",
    "grid2 = ['o o o o o o'.split(' '),\n",
    "         '+ + o + + +'.split(' '),\n",
    "         'F + o o o o'.split(' '),\n",
    "         'o o + + + o'.split(' '),\n",
    "         'o o o + + o'.split(' ')] \n",
    "grid3 = ['o o o o o o o o'.split(' '),\n",
    "         '+ o o + o o + o'.split(' '),\n",
    "         '+ + + + o + + +'.split(' '),\n",
    "         'o o + o o o + F'.split(' '),\n",
    "         'o + + o + o + o'.split(' '),\n",
    "         'o o o o + o o o'.split(' ')]\n",
    "grid4 = ['o o o o o o o o'.split(' '),\n",
    "         '+ + + o o o + o'.split(' '),\n",
    "         'F + + + o + + o'.split(' '),\n",
    "         'o o + o o o + o'.split(' '),\n",
    "         'o + o o + o + o'.split(' '),\n",
    "         'o o o + + o o o'.split(' ')] \n",
    "maze_map_list = [grid1, grid2, grid3, grid4]"
   ]
  },
  {
   "cell_type": "code",
   "execution_count": null,
   "metadata": {
    "scrolled": false
   },
   "outputs": [],
   "source": [
    "for i, maze_map in enumerate(maze_map_list):  \n",
    "    maze = Maze(maze_map)\n",
    "    print(i+1, '-1')\n",
    "    maze.solve(0,0)\n",
    "    print(i+1, '-2')\n",
    "    maze.solve(4,0)\n",
    "    print()"
   ]
  },
  {
   "cell_type": "markdown",
   "metadata": {},
   "source": [
    "### Describe your answer: "
   ]
  },
  {
   "cell_type": "markdown",
   "metadata": {},
   "source": [
    "Description Here"
   ]
  },
  {
   "cell_type": "markdown",
   "metadata": {},
   "source": [
    "-----------------"
   ]
  }
 ],
 "metadata": {
  "anaconda-cloud": {},
  "kernelspec": {
   "display_name": "Python 3",
   "language": "python",
   "name": "python3"
  },
  "language_info": {
   "codemirror_mode": {
    "name": "ipython",
    "version": 3
   },
   "file_extension": ".py",
   "mimetype": "text/x-python",
   "name": "python",
   "nbconvert_exporter": "python",
   "pygments_lexer": "ipython3",
   "version": "3.7.7"
  }
 },
 "nbformat": 4,
 "nbformat_minor": 1
}
