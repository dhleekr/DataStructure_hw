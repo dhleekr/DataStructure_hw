{
 "cells": [
  {
   "cell_type": "markdown",
   "metadata": {},
   "source": [
    "> ### EEE2020-04: Data Structures & Algorithms\n",
    "\n",
    "# Assignment \\# IV: Searching"
   ]
  },
  {
   "cell_type": "markdown",
   "metadata": {},
   "source": [
    "**<div style=\"text-align: right\"> Due date: June 10, 2020. </div>** \n",
    "**<div style=\"text-align: right\"> Please upload your file @ yscec by 9:00 PM. </div>** \n",
    "<div style=\"text-align: right\"> Jaehyeon Moon(문재현): <a href=\"mailto:tw02137@yonsei.ac.kr\">tw02137@yonsei.ac.kr</a> </div>\n",
    "<div style=\"text-align: right\"> Donghyeon Baek(백동현): <a href=\"mailto:dh_baek@yonsei.ac.kr\">dh_baek@yonsei.ac.kr</a> "
   ]
  },
  {
   "cell_type": "markdown",
   "metadata": {},
   "source": [
    "-------------------------------"
   ]
  },
  {
   "cell_type": "markdown",
   "metadata": {},
   "source": [
    "\n",
    "### *Assignment Instructions:*\n",
    "1. Write a program implementing a particular algorithm to solve a given problem.\n",
    "2. You can use both Korean and English for your report.\n",
    "3. **Analyze the algorithm, theoretically and empirically.** \n",
    "4. **Report your results.**  \n",
    "5. <span style=\"color:red\">**DO NOT modify**</span> the names of methods, and their input arguments.\n",
    "    - You must do assignments and labs yourself. \n",
    "    - <span style=\"color:red\">**Do not copy any part of your friends’ code.**</span>\n",
    "    - Otherwise, you will get a F grade."
   ]
  },
  {
   "cell_type": "markdown",
   "metadata": {},
   "source": [
    "-----------------"
   ]
  },
  {
   "cell_type": "markdown",
   "metadata": {},
   "source": [
    "<h2><span style=\"color:blue\">[Insert your ID HERE] [Insert your name HERE]</span> </h2>"
   ]
  },
  {
   "cell_type": "code",
   "execution_count": null,
   "metadata": {},
   "outputs": [],
   "source": [
    "import datetime\n",
    "print(\"This code is written at \" + str(datetime.datetime.now()))"
   ]
  },
  {
   "cell_type": "markdown",
   "metadata": {},
   "source": [
    "-------------------------------"
   ]
  },
  {
   "cell_type": "markdown",
   "metadata": {},
   "source": [
    "### # PROBLEM I (20 Points)"
   ]
  },
  {
   "cell_type": "markdown",
   "metadata": {},
   "source": [
    "(a) Build a **sequential search** and **binary search** algorithm to find integers while satisfying following conditions:  **[15 points]**\n",
    "\n",
    "> 1. Return list of **all** the indices that contain integers which is exactly same as $num$.  \n",
    ">  \n",
    ">\n",
    "> 2. If none of integers in the list satisfy above conditions, simply return an empty list.\n",
    "\n",
    "#### Implementation Rules :  \n",
    "\n",
    "> 1. **DO NOT use** `list.index()` method, or numpy module.\n",
    "2. Assume that `search_list` is sorted in descending order, but can have overlapping elements.\n",
    "3. Use recursion when implementing binary search."
   ]
  },
  {
   "cell_type": "code",
   "execution_count": null,
   "metadata": {},
   "outputs": [],
   "source": [
    "def sequential_search(search_list, num):\n",
    "    # Code here #\n",
    "    \n",
    "def binary_search(search_list, num):\n",
    "    # Code here #"
   ]
  },
  {
   "cell_type": "code",
   "execution_count": 2,
   "metadata": {},
   "outputs": [
    {
     "name": "stdout",
     "output_type": "stream",
     "text": [
      "[3, 4]\n",
      "[1, 2]\n"
     ]
    }
   ],
   "source": [
    "# DO NOT modify this code\n",
    "search_list = [5, 4, 4, 3, 3, 2, 1]\n",
    "print(sequential_search(search_list, 3))\n",
    "print(binary_search(search_list, 4))"
   ]
  },
  {
   "cell_type": "markdown",
   "metadata": {},
   "source": [
    "(b) Visualize the curve for **# of items to search vs. time spent on searching**, by following instructions below.  **[5 points]**\n",
    "\n",
    "> 1. Measure the time spent on searching when the number of items is 1000, 2000, ..., 25000.\n",
    ">\n",
    "> 2. Use given `random_list(length)` method to generate items for searching. Also, set $num$ = 100 for every search.\n",
    ">\n",
    "> 3. Use `time.time()` method."
   ]
  },
  {
   "cell_type": "code",
   "execution_count": 9,
   "metadata": {},
   "outputs": [
    {
     "data": {
      "image/png": "[encoded data removed]",
      "text/plain": [
       "<Figure size 432x288 with 1 Axes>"
      ]
     },
     "metadata": {
      "needs_background": "light"
     },
     "output_type": "display_data"
    }
   ],
   "source": [
    "import random\n",
    "import matplotlib.pyplot as plt\n",
    "import time\n",
    "\n",
    "# DO NOT modify random_list() method\n",
    "def random_list(length):\n",
    "    arr = []\n",
    "    for _ in range(length):\n",
    "        arr.append(random.randint(1, 1000))\n",
    "    return sorted(arr)[::-1]\n",
    "\n",
    "#############\n",
    "# Code here #\n",
    "#############"
   ]
  },
  {
   "cell_type": "markdown",
   "metadata": {},
   "source": [
    "### Description:"
   ]
  },
  {
   "cell_type": "markdown",
   "metadata": {},
   "source": [
    "Write description here"
   ]
  },
  {
   "cell_type": "markdown",
   "metadata": {},
   "source": [
    "---"
   ]
  },
  {
   "cell_type": "markdown",
   "metadata": {},
   "source": [
    "### # PROBLEM II (20 Points)"
   ]
  },
  {
   "cell_type": "markdown",
   "metadata": {},
   "source": [
    "The methods of LinkedList is specified as follows:\n",
    "* <code>\\_\\_init\\_\\_()</code>: constructs an empty LinkedLIst.\n",
    "* <code>\\_\\_len\\_\\_()</code>: returns the number of items in the list.\n",
    "* <code>insert(item)</code>: inserts $item$ in the list.\n",
    "* <code>search(x)</code>: returns all the indices of Nodes satisfying $Node.__data = x$. The index of a Node starts from 0, which is the head of the list.\n",
    "* <code>search_diff(interval)</code>: returns all the indices of Nodes where the $data$ part of next Node is higher than that of current Node by a gap of $interval$.\n",
    "* <code>\\_\\_le\\_\\_(self, other)</code>: returns boolean value whether the LinkedList is $smaller\\ than$ or $equal\\ to$ other LinkedList.  \n",
    "A LinkedList $list1$ is deemed to be $smaller\\ than$ or $equal\\ to$ LinkedList $list2$ if they satisfy following conditions:\n",
    "> 1. The length of $list1$ is smaller than or equal to that of $list2$.\n",
    "> 2. $list2$ contains all the elements of $list1$.\n",
    "\n",
    "Complete LinkedList specified above.\n",
    "\n",
    "**You can define other methods for implementation. But DO NOT modify any predefined methods inside the class.  \n",
    "Just code at sections marked as `# Code here #`.**"
   ]
  },
  {
   "cell_type": "code",
   "execution_count": 3,
   "metadata": {},
   "outputs": [],
   "source": [
    "# DO NOT change this code\n",
    "class Node:\n",
    "    def __init__(self, data):\n",
    "        self.__data = data\n",
    "        self.__next = None\n",
    "        \n",
    "    def setdata(self, _data):\n",
    "        self.__data = _data\n",
    "        \n",
    "    def setnext(self, _next):\n",
    "        self.__next = _next\n",
    "        \n",
    "    def getdata(self):\n",
    "        return self.__data\n",
    "    \n",
    "    def getnext(self):\n",
    "        return self.__next"
   ]
  },
  {
   "cell_type": "code",
   "execution_count": null,
   "metadata": {},
   "outputs": [],
   "source": [
    "class LinkedList:\n",
    "    def __init__(self):\n",
    "        self.__head = None\n",
    "        self.length = 0\n",
    "        \n",
    "    def __len__(self):\n",
    "        return self.length\n",
    "        \n",
    "    def insert(self, item):\n",
    "        temp = Node(item)\n",
    "        temp.setnext(self.__head)\n",
    "        self.__head = temp\n",
    "        self.length += 1\n",
    "        \n",
    "    def search(self, x):\n",
    "        # Code here #\n",
    "    \n",
    "    def search_diff(self, interval):\n",
    "        # Code here #\n",
    "        \n",
    "    def __le__(self, other):\n",
    "        # Code here #"
   ]
  },
  {
   "cell_type": "code",
   "execution_count": 5,
   "metadata": {},
   "outputs": [
    {
     "name": "stdout",
     "output_type": "stream",
     "text": [
      "[0, 3]\n",
      "[0, 3]\n",
      "True\n"
     ]
    }
   ],
   "source": [
    "# DO NOT modify this code\n",
    "list1 = LinkedList()\n",
    "list2 = LinkedList()\n",
    "\n",
    "list1.insert(3)\n",
    "list1.insert(2)\n",
    "list1.insert(5)\n",
    "list1.insert(3)\n",
    "\n",
    "list2.insert(1)\n",
    "list2.insert(2)\n",
    "list2.insert(5)\n",
    "list2.insert(3)\n",
    "list2.insert(4)\n",
    "\n",
    "print(list1.search(3))\n",
    "print(list2.search_diff(-1))\n",
    "print(list1 <= list2)"
   ]
  },
  {
   "cell_type": "markdown",
   "metadata": {},
   "source": [
    "### Description:"
   ]
  },
  {
   "cell_type": "markdown",
   "metadata": {},
   "source": [
    "Write description here"
   ]
  },
  {
   "cell_type": "markdown",
   "metadata": {},
   "source": [
    "---"
   ]
  },
  {
   "cell_type": "markdown",
   "metadata": {},
   "source": [
    "### # PROBLEM III (15 Points)"
   ]
  },
  {
   "cell_type": "markdown",
   "metadata": {},
   "source": [
    "Implement a HashTable named **Naive_HashTable** satisfying following conditions:\n",
    "\n",
    "> 1. The HashTable is initialized with $size$, where $size$ refers to the size of HashTable.\n",
    ">\n",
    ">\n",
    "> 2. The HashTable prevents collision only by **chaining**. Chaining allows many items to exist at the same location in the HashTable. "
   ]
  },
  {
   "cell_type": "markdown",
   "metadata": {},
   "source": [
    "Methods of **Naive_HashTable** is specified as follows :  \n",
    "* <code>\\_\\_init\\_\\_(size, max_chain)</code>: constructs an empty HashTable.\n",
    "* <code>hash_func(key)</code>: returns hash value of given $key$.\n",
    "* <code>put(key, data)</code>: When a item composed of $(key, data)$ is put to the HashTable, the HashTable first computes the location to store the item by `hash_func(key)` method. Then, the item is added to the list, at the hashed location.\n",
    "* <code>get(key)</code>: returns $data$ stored in HashTable under given $key$. If $key$ does not exist, print relevant error message.\n",
    "\n",
    "**You can define other methods for implementation. But DO NOT modify any predefined methods inside the class.  \n",
    "Just code at sections marked as `# Code here #`.**"
   ]
  },
  {
   "cell_type": "code",
   "execution_count": null,
   "metadata": {},
   "outputs": [],
   "source": [
    "class Naive_HashTable:\n",
    "    def __init__(self, size):\n",
    "        self.size = size\n",
    "        self.slots = [[] for _ in range(size)]\n",
    "        self.data = [[] for _ in range(size)]\n",
    "\n",
    "    def hash_func(self, key):\n",
    "        return key % self.size\n",
    "    \n",
    "    def put(self, key, data):\n",
    "        # Code here #\n",
    "        \n",
    "    def get(self, key):\n",
    "        # Code here #"
   ]
  },
  {
   "cell_type": "code",
   "execution_count": 7,
   "metadata": {},
   "outputs": [
    {
     "name": "stdout",
     "output_type": "stream",
     "text": [
      "b\n",
      "c\n",
      "No corresponding key\n",
      "None\n"
     ]
    }
   ],
   "source": [
    "# DO NOT modify this code\n",
    "naive = Naive_HashTable(5)\n",
    "\n",
    "naive.put(5, 'a')\n",
    "naive.put(2, 'b')\n",
    "naive.put(7, 'c')\n",
    "\n",
    "print(naive.get(2))\n",
    "print(naive.get(7))\n",
    "print(naive.get(3))"
   ]
  },
  {
   "cell_type": "markdown",
   "metadata": {},
   "source": [
    "### Description:"
   ]
  },
  {
   "cell_type": "markdown",
   "metadata": {},
   "source": [
    "Write description here"
   ]
  },
  {
   "cell_type": "markdown",
   "metadata": {},
   "source": [
    "---"
   ]
  },
  {
   "cell_type": "markdown",
   "metadata": {},
   "source": [
    "### # PROBLEM IV (45 Points)"
   ]
  },
  {
   "cell_type": "markdown",
   "metadata": {},
   "source": [
    "(a) Implement a **HashTable** satisfying following conditions: **[35 points]**\n",
    "> 1. The HashTable is initialized with $size$ and $max\\_chain$.  \n",
    "$size$ refers to the size of HashTable, and $max\\_chain$ would be explained in condition 3.  \n",
    ">\n",
    ">\n",
    "> 2. The HashTable uses **quadratic probing**.  \n",
    "That is, if the first hash value is $h$, successive values would be $h + 1$, $h + 4$, ..., and so on.  \n",
    ">\n",
    ">\n",
    "> 3. The HashTable also uses **chaining**. But one location can contain up to $max\\_chain$ items.  \n",
    ">\n",
    ">\n",
    "> 4. If an item is put to HashTable, it is stored to firstly-hashed value when the location has less than $max\\_chain$ items in it.  \n",
    "Otherwise, it finds other locations by quadratic probing."
   ]
  },
  {
   "cell_type": "markdown",
   "metadata": {},
   "source": [
    "Methods of **HashTable** are specified as follows:  \n",
    "* <code>\\_\\_init\\_\\_(size, max_chain)</code>: constructs an empty HashTable.\n",
    "* <code>\\_\\_len\\_\\_()</code>: returns total number of items in the HashTable.\n",
    "* <code>hash_func(key)</code>: returns first hash value of given $key$.\n",
    "* <code>rehash_func(key, cnt)</code>: returns $(cnt + 1)$-th hash value of given $key$, satisfying condition 2.\n",
    "* <code>put(key, data)</code>: puts $data$ in HashTable according to its given $key$, and returns the number of calls on `rehash_func()` method  \n",
    "when putting $(key, data)$ into the HashTable.  \n",
    "* <code>get(key)</code>: returns $data$ stored in HashTable under given $key$. If $key$ does not exist, print relevant error message.\n",
    "* <code>remove(data)</code>: deletes $data$ and corresponding $key$ in HashTable. If $data$ does not exist, print relevant error message.  \n",
    "If the HashTable has more than one $data$, delete them all.\n",
    "\n",
    "**When implementing `put()` and `get()` method, USE `hash_func()` / `rehash_func()` method to access keys rather than exhaustive search.**  \n",
    "**You can define other methods for implementation. But DO NOT modify any predefined methods inside the class.  \n",
    "Just code at sections marked as `# Code here #`.**"
   ]
  },
  {
   "cell_type": "markdown",
   "metadata": {},
   "source": [
    "### Answer:"
   ]
  },
  {
   "cell_type": "code",
   "execution_count": null,
   "metadata": {},
   "outputs": [],
   "source": [
    "class HashTable:\n",
    "    def __init__(self, size, max_chain):\n",
    "        self.size = size\n",
    "        self.max_chain = max_chain\n",
    "        self.slots = [[] for _ in range(size)]\n",
    "        self.data = [[] for _ in range(size)]\n",
    "        \n",
    "    def __len__(self):\n",
    "        # Code here #\n",
    "        \n",
    "    def hash_func(self, key):\n",
    "        return key % self.size\n",
    "    \n",
    "    def rehash_func(self, key, cnt):\n",
    "        # Code here #\n",
    "        \n",
    "    def put(self, key, data):\n",
    "        # Code here #\n",
    "        \n",
    "    def get(self, key):\n",
    "        # Code here #\n",
    "            \n",
    "    def remove(self, data):\n",
    "        # Code here #\n",
    "                \n",
    "    def __getitem__(self, key):\n",
    "        return self.get(key)\n",
    "    \n",
    "    def __setitem__(self, key, data):\n",
    "        self.put(key, data)"
   ]
  },
  {
   "cell_type": "code",
   "execution_count": 7,
   "metadata": {},
   "outputs": [
    {
     "name": "stdout",
     "output_type": "stream",
     "text": [
      "e\n",
      "[['a', 'a'], ['h', 'b'], [], ['d', 'd'], ['e', 'e'], [], ['g', 'i']]\n",
      "----------------------------------------\n",
      "1\n",
      "[[0, 7], [1, 8], [15], [], [4, 11], [], [6, 13]]\n",
      "----------------------------------------\n",
      "There is no corresponding key.\n",
      "There is no corresponding data.\n",
      "----------------------------------------\n",
      "9\n",
      "c\n"
     ]
    }
   ],
   "source": [
    "# This code is for validation; DO NOT change this code\n",
    "table = HashTable(size = 7, max_chain = 2)\n",
    "key = list(range(7))\n",
    "data = ['a', 'b', 'c', 'd', 'e', 'f', 'g']\n",
    "\n",
    "for i, j in zip(key, data):\n",
    "    table[i] = j\n",
    "    \n",
    "print(table[4])\n",
    "key = list(range(7, 14))\n",
    "for i, j in zip(key, data):\n",
    "    table[i] = j\n",
    "table.remove('c')\n",
    "table.remove('f')\n",
    "table.put(1, 'h')\n",
    "table.put(13, 'i')\n",
    "print(table.data)\n",
    "print('-' * 40)\n",
    "table.remove('d')\n",
    "print(table.put(15, 'c'))\n",
    "print(table.slots)\n",
    "print('-' * 40)\n",
    "table.get(21) # Error message\n",
    "table.remove('x') # Error message\n",
    "print('-' * 40)\n",
    "print(len(table))\n",
    "table[5] = 'a'\n",
    "table.remove('a')\n",
    "print(table[15])"
   ]
  },
  {
   "cell_type": "markdown",
   "metadata": {},
   "source": [
    "### Description:"
   ]
  },
  {
   "cell_type": "markdown",
   "metadata": {},
   "source": [
    "Write description for problem 4(a)"
   ]
  },
  {
   "cell_type": "markdown",
   "metadata": {},
   "source": [
    "(b) Draw a curve specifying *load factor* versus *# of calls on `rehash_func()`*, by following instructions below: **[5 points]**\n",
    "> * Initialize **HashTable** as $size$ = 100, $max\\_chain$ = 10.  \n",
    "> * Put $(key, data)$ into **HashTable** continuously, until the load factor reaches 9.5. Use `random_input` class to generate input. \n",
    "> * For each insertion of data, measure the number of calls on `rehash_func()` method.  "
   ]
  },
  {
   "cell_type": "markdown",
   "metadata": {},
   "source": [
    "### Answer:"
   ]
  },
  {
   "cell_type": "code",
   "execution_count": 8,
   "metadata": {},
   "outputs": [
    {
     "data": {
      "image/png": "[encoded data removed]",
      "text/plain": [
       "<Figure size 432x288 with 1 Axes>"
      ]
     },
     "metadata": {
      "needs_background": "light"
     },
     "output_type": "display_data"
    }
   ],
   "source": [
    "import numpy as np\n",
    "import matplotlib.pyplot as plt\n",
    "import time\n",
    "\n",
    "# DO NOT modify\n",
    "np.random.seed(0)\n",
    "random_keys = np.random.choice(10000, 1000, replace = False)\n",
    "random_data = np.random.choice(10000, 1000)\n",
    "\n",
    "# DO NOT modify this class\n",
    "class random_input:\n",
    "    def __init__(self):\n",
    "        self.cnt = -1\n",
    "        \n",
    "    def __call__(self):\n",
    "        self.cnt += 1\n",
    "        return random_keys[self.cnt], random_data[self.cnt]\n",
    "\n",
    "#############\n",
    "# Code here #\n",
    "#############"
   ]
  },
  {
   "cell_type": "markdown",
   "metadata": {},
   "source": [
    "(c) In (b), increasing load factor above 9.5 does **NOT work** at a point below 10. State the reason why. **[5 points]**"
   ]
  },
  {
   "cell_type": "markdown",
   "metadata": {},
   "source": [
    "### Answer:"
   ]
  },
  {
   "cell_type": "markdown",
   "metadata": {},
   "source": [
    "Write the reason here"
   ]
  },
  {
   "cell_type": "markdown",
   "metadata": {},
   "source": [
    "----"
   ]
  }
 ],
 "metadata": {
  "kernelspec": {
   "display_name": "Python 3",
   "language": "python",
   "name": "python3"
  },
  "language_info": {
   "codemirror_mode": {
    "name": "ipython",
    "version": 3
   },
   "file_extension": ".py",
   "mimetype": "text/x-python",
   "name": "python",
   "nbconvert_exporter": "python",
   "pygments_lexer": "ipython3",
   "version": "3.7.7"
  }
 },
 "nbformat": 4,
 "nbformat_minor": 2
}
