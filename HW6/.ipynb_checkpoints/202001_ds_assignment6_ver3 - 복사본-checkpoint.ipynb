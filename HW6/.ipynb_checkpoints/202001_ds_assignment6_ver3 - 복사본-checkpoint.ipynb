{
 "cells": [
  {
   "cell_type": "markdown",
   "metadata": {},
   "source": [
    "> ### EEE2020-04: Data Structures & Algorithms\n",
    "\n",
    "# Assignment \\# VI: Trees and Tree Algorithms"
   ]
  },
  {
   "cell_type": "markdown",
   "metadata": {},
   "source": [
    "<div style=\"text-align: right\"> **Due date: July 2, 2020.** </div> \n",
    "<div style=\"text-align: right\"> **Please upload your file @ yscec by 9 PM.** </div> \n",
    "<br>\n",
    "<div style=\"text-align: right\"> Donghyeon Baek(백동현): <a href=\"mailto:dh_baek@yonsei.ac.kr\">dh_baek@yonsei.ac.kr</a> \n",
    "<div style=\"text-align: right\"> Jaehyeon Moon(문재현): <a href=\"mailto:tw02137@yonsei.ac.kr\">tw02137@yonsei.ac.kr</a> </div>\n",
    "</div>"
   ]
  },
  {
   "cell_type": "markdown",
   "metadata": {},
   "source": [
    "-------------------------------"
   ]
  },
  {
   "cell_type": "markdown",
   "metadata": {},
   "source": [
    "\n",
    "### *Assignment Instructions:*\n",
    "1. Write a program implementing a particular algorithm to solve a given problem.\n",
    "2. You can use both Korean and Engligh for your report.\n",
    "3. Since this is your first assignment of the course, comprehensive instructions are given for particular problems.  \n",
    " However, note that this might not be the case for further assignments over the course.\n",
    "4. **Analyze the algorithm, theoretically and empirically, and write discussion.** \n",
    "5. **Report your results.**  \n",
    "    - You must do assignments and labs yourself. \n",
    "    - <span style=\"color:red\">**Do not copy any part of your friends’ code.**</span>\n",
    "    - Otherwise, you will get a F grade."
   ]
  },
  {
   "cell_type": "markdown",
   "metadata": {},
   "source": [
    "-----------------"
   ]
  },
  {
   "cell_type": "markdown",
   "metadata": {},
   "source": [
    "<h2><span style=\"color:blue\">[Insert your ID HERE] [Insert your name HERE]</span> </h2>"
   ]
  },
  {
   "cell_type": "code",
   "execution_count": null,
   "metadata": {},
   "outputs": [],
   "source": [
    "import datetime\n",
    "print(\"This code is written at \" + str(datetime.datetime.now()))"
   ]
  },
  {
   "cell_type": "markdown",
   "metadata": {},
   "source": [
    "-------------------------------"
   ]
  },
  {
   "cell_type": "markdown",
   "metadata": {},
   "source": [
    "### PROBLEM I: DFS and BFS (40 POINTS)"
   ]
  },
  {
   "cell_type": "markdown",
   "metadata": {},
   "source": [
    "Implement two standard searching algorithms, $\\texttt{Depth-first Search}$ and $\\texttt{Breadth-first Search}$.\n",
    "<br>\n",
    "<br>\n",
    "$\\texttt{DFS}$ ($\\texttt{Depth-first Search}$) is a technique for traversing trees or graphs. Backtracking is used for traversal. There are three ways to traversing, $\\texttt{pre-order}$, $\\texttt{post-order}$, and $\\texttt{in-order}$. $\\texttt{BFS}$ ($\\texttt{Breadth-first Search}$), on the other hand, visits every node on one level before going to a lower level.\n",
    "\n",
    "<img src = \"https://drive.google.com/uc?id=1YKuDG1wqTjWtlVDY4NTDdxOf3jiod9z4\" alt=\"add_attribute\" width=\"700\">\n",
    "\n",
    "Suppose that a node contains a key and a corresponding value. Given a target value, we'd like to find a node whose value is the same as the target one. To this end, return a list containing a set of values for the visited nodes, even if the node for the taget value is missing. Note that the set for the visited nodes could be different according to the traversal methods.\n",
    "\n",
    "\n",
    "```python\n",
    "def DFS(tree, target=None, mode='pre'):```\n",
    "> ```python\n",
    "def pre_order(root, target):```\n",
    ">> Algorithm:\n",
    ">> 1. Visit the root\n",
    ">> 2. Traverse the left subtree\n",
    ">> 3. Traverse the right subtree\n",
    ">>\n",
    ">\n",
    "> ```python\n",
    "def post_order(root, target):```\n",
    ">> Algorithm:\n",
    ">> 1. Traverse the left subtree\n",
    ">> 2. Traverse the right subtree\n",
    ">> 3. Visit the root\n",
    ">\n",
    "> ```python\n",
    "def in_order(root, target):```\n",
    ">> Algorithm:\n",
    ">> 1. Traverse the left subtree\n",
    ">> 2. Visit the root\n",
    ">> 3. Traverse the right subtree\n",
    ">>\n",
    ">> Note that in the $\\texttt{Binary Search Tree}$, the $\\texttt{in-order}$ traversal retrieves the keys in an ascending order.\n",
    "\n",
    "```python\n",
    "def BFS(tree, target=None):```\n",
    "> Algorithm:\n",
    ">\n",
    "> - Visit each node, and then put the corresponding child nodes in a queue. \n"
   ]
  },
  {
   "cell_type": "markdown",
   "metadata": {},
   "source": [
    "### Implementation"
   ]
  },
  {
   "cell_type": "markdown",
   "metadata": {},
   "source": [
    "\n",
    "> $\\texttt{Binary Search Tree}$ is given in 'util.py'. Do not modify the file."
   ]
  },
  {
   "cell_type": "code",
   "execution_count": null,
   "metadata": {},
   "outputs": [],
   "source": [
    "from utils import BinarySearchTree\n",
    "from utils import print_tree"
   ]
  },
  {
   "cell_type": "code",
   "execution_count": null,
   "metadata": {},
   "outputs": [],
   "source": [
    "my_tree = BinarySearchTree()\n",
    "\n",
    "my_tree[17] = \"a\"\n",
    "my_tree[5] = \"b\"\n",
    "my_tree[35] = \"c\"\n",
    "my_tree[2] = \"d\"\n",
    "my_tree[11] = \"e\"\n",
    "my_tree[29] = \"f\"\n",
    "my_tree[38] = \"g\"\n",
    "my_tree[9] = \"h\"\n",
    "my_tree[16] = \"i\"\n",
    "my_tree[7] = \"j\"\n",
    "my_tree[8] = \"k\""
   ]
  },
  {
   "cell_type": "code",
   "execution_count": null,
   "metadata": {},
   "outputs": [],
   "source": [
    "print_tree(my_tree)"
   ]
  },
  {
   "cell_type": "code",
   "execution_count": null,
   "metadata": {},
   "outputs": [],
   "source": [
    "def DFS(tree, target=None, mode='pre'):\n",
    "    assert mode in ['pre', 'post', 'in']\n",
    "    # CODE HERE\n",
    "    \n",
    "    def pre_order(root, target):\n",
    "        ## CODE HERE\n",
    "                \n",
    "    def post_order(root, target):\n",
    "        ## CODE HERE\n",
    "\n",
    "    def in_order(root, target):\n",
    "        ## CODE HERE\n",
    "                \n",
    "    # CODE HERE\n",
    "\n",
    "\n",
    "def BFS(tree, target=None):\n",
    "    # CODE HERE"
   ]
  },
  {
   "cell_type": "code",
   "execution_count": null,
   "metadata": {},
   "outputs": [],
   "source": [
    "print('DFS(Preorder) - Visited Nodes(Key) : ', DFS(my_tree, target='h', mode='pre'))\n",
    "print('DFS(Postorder) - Visited Nodes(Key) : ', DFS(my_tree, target='h', mode='post'))\n",
    "print('DFS(Inorder) - Visited Nodes(Key) : ', DFS(my_tree, target='h', mode='in'))\n",
    "print('BFS - Visited Nodes(Key) : ', BFS(my_tree, target='h'))"
   ]
  },
  {
   "cell_type": "markdown",
   "metadata": {},
   "source": [
    "### Describe your algorithm: "
   ]
  },
  {
   "cell_type": "markdown",
   "metadata": {},
   "source": [
    "Your Description"
   ]
  },
  {
   "cell_type": "markdown",
   "metadata": {},
   "source": [
    "-----------------"
   ]
  },
  {
   "cell_type": "markdown",
   "metadata": {},
   "source": [
    "### PROBLEM II: Huffman Coding (60 POINTS)"
   ]
  },
  {
   "cell_type": "markdown",
   "metadata": {},
   "source": [
    "In computer science and information theory, Huffman coding is commonly used for lossless data compression. It is a type of $\\texttt{variable-length}$ codes that use a variable number of bits to represent characters, in contrast to $\\texttt{Fixed-length}$ codes such as ASCII using a fixed number of bits. \n",
    " "
   ]
  },
  {
   "cell_type": "markdown",
   "metadata": {},
   "source": [
    "The key idea for the variable-length codes is as follows: For every letter in $\\texttt{A = {a, b, c, d, e, f}}$, we assign a string of bits. For example, we may assign $\\texttt{'01001'}$ to $\\texttt{'a'}$, $\\texttt{'100'}$ to $\\texttt{'d'}$ and so on. $\\texttt{'dad'}$ would then be encoded as $\\texttt{'10001001100'}$. In order to decode variable-length code, a $\\texttt{'prefix'}$ code is typically used for encoding. Let us understand prefix codes with a counter example. Let there be four characters $\\texttt{'a'}$, $\\texttt{'b'}$, $\\texttt{'c'}$ and $\\texttt{'d'}$, and the corresponding variable length codes be $\\texttt{'00'}$, $\\texttt{'01'}$, $\\texttt{'0'}$ and $\\texttt{'1'}$. This coding, however, is problematic, because the code for $\\texttt{'c'}$ corresponds to the prefix of codes for $\\texttt{'a'}$ and $\\texttt{'b'}$. If the encoded bit stream is $\\texttt{'0001'}$, the decoded output may be $\\texttt{'cccd'}$ or $\\texttt{'ccb'}$ or $\\texttt{'acd'}$ or $\\texttt{'ab'}$. That is, it is hard to determine the boundaries between characters. To prevent this, one requirement is that any encoded code cannot be used for the prefix for other ones.  "
   ]
  },
  {
   "cell_type": "markdown",
   "metadata": {},
   "source": [
    "**ENCODING**: Huffman coding encodes the characters according to the frequency of the characters in the sentence. More specifically, it uses Huffman tree, with a form of a binary tree, to encode each character. Leaf nodes contain characters, and left and right branches are labeled with 0 and 1, respectively. We can obtain the code for each character by following a path from the root to the leaf. For example, the Huffman codes for the characters {a, b, c, d, e, f} are obtained with the Huffman tree as follows: "
   ]
  },
  {
   "cell_type": "markdown",
   "metadata": {},
   "source": [
    "\n",
    " Char  | prefix code |\n",
    "---|-------------|\n",
    "  a | 10          |\n",
    "  b | 000         |\n",
    "  c | 110         |\n",
    "  d | 01          |\n",
    "  e | 001         |\n",
    "  f | 111         |\n",
    "  \n",
    "<img src = \"https://drive.google.com/uc?id=1SKeKVndGny3qj35haI2S2r1qf90-dOMr\" alt=\"Huffman Tree\" width=\"450\">"
   ]
  },
  {
   "cell_type": "markdown",
   "metadata": {},
   "source": [
    "Note that any encoded code is not used for the prefix for other ones, which is a main advantage of Huffman tree, namely, resolving the problem of determining the boundaries between characters. "
   ]
  },
  {
   "cell_type": "markdown",
   "metadata": {},
   "source": [
    "The algorithm for constructing the Huffman tree is as follows:\n",
    "> **Step 1.** Create single nodes that contain the character and its frequency. That is, we may have several trees and each consists of a single node. \n",
    "> \n",
    "> **Step 2.** Repeat this step until a single tree remains.\n",
    ">>Choose two trees with the smallest frequencies; call these trees as T1 and T2. Create a new tree where the root has a value correspoding to the sum of frequencies of T1 and T2, and the left and right sub-trees are T1 and T2, respectively. \n",
    "> \n",
    "> **Step 3.** The single tree left after the previous step is an optimal Huffman tree for encoding."
   ]
  },
  {
   "cell_type": "markdown",
   "metadata": {},
   "source": [
    "An example of constructing Huffman tree for the string $\\texttt{\"cabdaefd\"}$ is given below."
   ]
  },
  {
   "cell_type": "markdown",
   "metadata": {},
   "source": [
    "<img src = \"https://drive.google.com/uc?id=1KrThrt6EvqTzr7SI6k01VXC-NI2pgwGf\" alt=\"Merging Steps\" width=\"500\">"
   ]
  },
  {
   "cell_type": "markdown",
   "metadata": {},
   "source": [
    "**DECODING**: A decoding process is as follows: Starting from the root, traverse the Huffman tree while reading one bit at a time. If the bits of 0 and 1, traverse the left and right childs, respectively. When we reach a leaf node, get the decoded chareater, and repeat this process. For example, for the encoded sequence of $\\texttt{'1111001001'}$, the first 3 bits correspond to $\\texttt{'f'}$ and the next 2 bits are for $\\texttt{'a'}$. As a result, the decoded message is $\\texttt{'fade'}$.\n",
    "\n",
    "\n"
   ]
  },
  {
   "cell_type": "markdown",
   "metadata": {},
   "source": [
    "In this problem, you will implement Huffman coding to compress an image. For the case of an image, the frequencies for the nodes are set to those of intensity values of pixels in the image. Write your code to complete the $\\texttt{HeapNode}$ and $\\texttt{HuffmanCoding}$ classes."
   ]
  },
  {
   "cell_type": "markdown",
   "metadata": {},
   "source": [
    "```python\n",
    "class HeapNode:\n",
    "```\n",
    "> ```python\n",
    "def __lt__(self, other):```\n",
    ">> Compare two nodes in terms of a $\\texttt{freq}$ value. \n",
    ">\n",
    ">\n",
    "> ```python\n",
    "def __eq__(self, other):```\n",
    ">> Compare two nodes in terms of a $\\texttt{freq}$ value. "
   ]
  },
  {
   "cell_type": "markdown",
   "metadata": {},
   "source": [
    "```python\n",
    "class HuffmanCoding():\n",
    "```\n",
    "> ```python\n",
    "def make_frequency_dict(self, img):```\n",
    ">> Build a dictionary where the keys are intensity values of pixels from 0 to 255 and the values are the frequencies of each intensity value. Note that the number of keys is 256.\n",
    ">>\n",
    ">\n",
    "> ```python\n",
    "def make_minheap(self, frequency_dict):```\n",
    ">> Construct $\\texttt{Binary Min Heap}$ using the $\\texttt{frequency_dict}$. Nodes of $\\texttt{Binary Min heap}$ are $\\texttt{HeapNode}$, whose $\\texttt{value}$ and $\\texttt{freq}$ are dictionary's key and value, respectively.\n",
    ">>\n",
    ">> Insert nodes to $\\texttt{Binary Min Heap}$ in an ascending order of keys.\n",
    ">>\n",
    ">> To construct $\\texttt{Min Heap}$, use $\\texttt{BinHeap}$ provided. Any modification of 'util.py' file is not allowed.\n",
    ">\n",
    "> ```python\n",
    "def merge_nodes(self):```\n",
    ">> Implement an algorithm for a merging process using $\\texttt{Binary Min Heap}$ constructed by $\\texttt{make_minheap}$.\n",
    ">>\n",
    ">> A detailed algorithm is as follows:\n",
    ">>> 1. Find two nodes that have minimum $\\texttt{freq}$ values from $\\texttt{Binary Heap}$. The two nodes should be removed from the $\\texttt{Binary Heap}$.\n",
    ">>> 2. Construct a new $\\texttt{HeapNode}$ that $\\texttt{freq}$ is equal to the sum of two nodes' $\\texttt{freq}$ values. In this case, the $\\texttt{char}$ can be anything.\n",
    ">>> 3. Link the two nodes to $\\texttt{left}$ and $\\texttt{right}$ of the merged node respectively. The smaller one is linked to $\\texttt{left}$.\n",
    ">>> 4. Insert the new node to the $\\texttt{Binary Heap}$.\n",
    ">\n",
    "> ```python\n",
    "def make_table(self):```\n",
    ">> Build $\\texttt{encode_dict}$ and $\\texttt{decode_dict}$ using the Huffman tree merged by $\\texttt{merge_nodes}$. A key-value pair of $\\texttt{encode_dict}$ correspondes to an intensity value and its $\\texttt{prefix code}$. $\\texttt{decode_dict}$ is constructed reversely.\n",
    ">> \n",
    ">\n",
    "> ```python\n",
    "def encoding(self, img):```\n",
    ">> Encode an input image using $\\texttt{encode_dict}$. The data type of encoded image is $\\texttt{string-type}$. For example, as shown in the above example, the word $\\texttt{'fade'}$ is encoded to $\\texttt{'𝟷𝟷𝟷𝟷𝟶𝟶𝟷𝟶𝟶𝟷'}$.\n",
    ">>\n",
    ">> We provide the $\\texttt{post_encoding_processing}$ function that converts the encoded image in a $\\texttt{string-type}$ to $\\texttt{Byte-type}$ numpy file.\n",
    ">\n",
    "> ```python\n",
    "def decoding(self, byte_encoded_img):```\n",
    ">> Decode the $\\texttt{string-type}$ encoded image to $\\texttt{numpy-ndarray-type}$ using $\\texttt{decode_dict}$. Reshape the decoded image with the same size as the input. \n",
    ">>\n",
    ">> We provide the $\\texttt{pre_decoding_processing}$ function that converts a $\\texttt{Byte-type}$ file to a $\\texttt{string-type}$ encoded image."
   ]
  },
  {
   "cell_type": "markdown",
   "metadata": {},
   "source": [
    "### Implementation"
   ]
  },
  {
   "cell_type": "code",
   "execution_count": null,
   "metadata": {},
   "outputs": [],
   "source": [
    "from PIL import Image\n",
    "import numpy as np\n",
    "import matplotlib.pyplot as plt\n",
    "\n",
    "from collections import OrderedDict\n",
    "from utils import BinHeap\n",
    "from utils import post_encoding_processing, pre_decoding_processing"
   ]
  },
  {
   "cell_type": "code",
   "execution_count": null,
   "metadata": {},
   "outputs": [],
   "source": [
    "class HeapNode:\n",
    "    def __init__(self, value, freq):\n",
    "        self.value = value\n",
    "        self.freq = freq\n",
    "        self.left = None\n",
    "        self.right = None\n",
    "        \n",
    "    def __lt__(self, other):\n",
    "        # CODE HERE\n",
    "\n",
    "    def __eq__(self, other):\n",
    "        # CODE HERE"
   ]
  },
  {
   "cell_type": "code",
   "execution_count": null,
   "metadata": {},
   "outputs": [],
   "source": [
    "class HuffmanCoding():\n",
    "    def __init__(self, img):\n",
    "        self.heap = BinHeap()\n",
    "        self.encode_dict = {}\n",
    "        self.decode_dict = {}\n",
    "        self.construct_huffman_tree(img)\n",
    "    \n",
    "    def construct_huffman_tree(self, img):\n",
    "        frequency = self.make_frequency_dict(img)\n",
    "        self.make_minheap(frequency)\n",
    "        self.merge_nodes()\n",
    "        self.make_table()\n",
    "    \n",
    "    def make_frequency_dict(self, img):\n",
    "        '''\n",
    "        Input Parameters:\n",
    "        img(ndarray): The reference image to build dictionary and Huffman tree\n",
    "\n",
    "        Returns:\n",
    "        frequency_dict(dictionary)\n",
    "            : Key is pixel value(0~255), so the number of keys are 256.\n",
    "              Value is the frequency of occurrences of the pixel intensity in the input image.\n",
    "        '''\n",
    "        # CODE HERE\n",
    "    \n",
    "    def make_minheap(self, frequency_dict):\n",
    "        '''\n",
    "        Input Parameters:\n",
    "        frequency(dict): Built from make_frequency_dict function\n",
    "\n",
    "        Returns:\n",
    "        (nothing)\n",
    "        '''\n",
    "        # CODE HERE\n",
    "\n",
    "    def merge_nodes(self):\n",
    "        '''\n",
    "        Input Parameters:\n",
    "        (nothing)\n",
    "\n",
    "        Returns:\n",
    "        (nothing)\n",
    "        '''\n",
    "        # CODE HERE\n",
    "\n",
    "            \n",
    "    def make_table(self):\n",
    "        '''\n",
    "        Input Parameters:\n",
    "        (nothing)\n",
    "        \n",
    "        Returns:\n",
    "        (nothing)\n",
    "        '''\n",
    "        # CODE HERE\n",
    "\n",
    "        \n",
    "    def encoding(self, img):\n",
    "        '''\n",
    "        Input Parameters:\n",
    "        img(ndarray): Image to encode\n",
    "\n",
    "        Returns:\n",
    "        encoded_img(string): Encoded image\n",
    "        '''\n",
    "        # CODE HERE\n",
    "\n",
    "    \n",
    "    def decoding(self, byte_encoded_img):\n",
    "        '''\n",
    "        Input Parameters:\n",
    "        img(string): string to decode\n",
    "\n",
    "        Returns:\n",
    "        decoded_img(ndarray, dtype: unsigned integer 8bit): A 256x256 size numpy array \n",
    "        '''\n",
    "        # CODE HERE\n"
   ]
  },
  {
   "cell_type": "code",
   "execution_count": null,
   "metadata": {},
   "outputs": [],
   "source": [
    "# Load image\n",
    "image = Image.open('image.png')\n",
    "np_image = np.array(image)\n",
    "\n",
    "# Construct Encoding and Decoding Table based on 'image.png' image\n",
    "HC = HuffmanCoding(np_image)\n",
    "\n",
    "# Encode the image\n",
    "byte_encoded_img = post_encoding_processing(HC.encoding(np_image))\n",
    "\n",
    "print('before encoding:', np_image.size * np_image.itemsize,\n",
    "      '\\tafter encoding:', byte_encoded_img.size * byte_encoded_img.itemsize)\n",
    "\n",
    "plt.imshow(np_image, cmap='gray')"
   ]
  },
  {
   "cell_type": "code",
   "execution_count": null,
   "metadata": {},
   "outputs": [],
   "source": [
    "# Load the file to decode\n",
    "byte_encoded_img = np.load('encoded_image.npy')\n",
    "\n",
    "# Decode the file to image\n",
    "decompressed_img = HC.decoding(pre_decoding_processing(byte_encoded_img))\n",
    "\n",
    "print('before decoding:', byte_encoded_img.size * byte_encoded_img.itemsize,\n",
    "      '\\tafter decoding:', decompressed_img.size * decompressed_img.itemsize)\n",
    "\n",
    "plt.imshow(decompressed_img, cmap='gray')"
   ]
  },
  {
   "cell_type": "markdown",
   "metadata": {},
   "source": [
    "### Describe your algorithm: "
   ]
  },
  {
   "cell_type": "markdown",
   "metadata": {},
   "source": [
    "Try to think about two questions and answer them.\n",
    "> 1. Does Huffman Coding reduce the data size? Why does it work?\n",
    "> 2. Compare the size of the 'encoded_image.npy' file before and after decoding. Does it increase or decrease?"
   ]
  },
  {
   "cell_type": "markdown",
   "metadata": {},
   "source": [
    "Your Description"
   ]
  },
  {
   "cell_type": "markdown",
   "metadata": {},
   "source": [
    "-----------------"
   ]
  }
 ],
 "metadata": {
  "kernelspec": {
   "display_name": "Python 3",
   "language": "python",
   "name": "python3"
  },
  "language_info": {
   "codemirror_mode": {
    "name": "ipython",
    "version": 3
   },
   "file_extension": ".py",
   "mimetype": "text/x-python",
   "name": "python",
   "nbconvert_exporter": "python",
   "pygments_lexer": "ipython3",
   "version": "3.7.7"
  }
 },
 "nbformat": 4,
 "nbformat_minor": 2
}
